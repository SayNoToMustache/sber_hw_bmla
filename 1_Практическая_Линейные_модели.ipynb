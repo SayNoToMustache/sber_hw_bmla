{
  "cells": [
    {
      "cell_type": "markdown",
      "metadata": {
        "id": "BND1G8Fuqxfe"
      },
      "source": [
        "## О задании\n",
        "В этом задании вы будете предсказывать один из параметров человека (рост, вес, возраст).\n",
        "\n",
        "Работать мы будем с датасетом человеческих параметров [Body Fat Prediction Dataset](https://www.kaggle.com/datasets/fedesoriano/body-fat-prediction-dataset).\n",
        "\n",
        "### Формат сдачи\n",
        "Данное задание сдаётся через [эту гугл форму](https://forms.gle/YdvLRGWAsNaNvQvs7). Не забудьте открыть доступ по ссылке к файлу (справа сверху \"Поделиться\" или \"Share\")"
      ]
    },
    {
      "cell_type": "markdown",
      "metadata": {
        "id": "_n936tqZG3bv"
      },
      "source": [
        "## Приступим"
      ]
    },
    {
      "cell_type": "markdown",
      "metadata": {
        "id": "Yy4kifdSG7Ul"
      },
      "source": [
        "Сделаем импорты"
      ]
    },
    {
      "cell_type": "code",
      "execution_count": 227,
      "metadata": {
        "ExecuteTime": {
          "end_time": "2020-09-26T16:48:20.566549Z",
          "start_time": "2020-09-26T16:48:19.893995Z"
        },
        "id": "2wNOGbtOqxfl"
      },
      "outputs": [],
      "source": [
        "import pandas as pd\n",
        "import numpy as np\n",
        "import matplotlib.pyplot as plt\n",
        "import seaborn as sns"
      ]
    },
    {
      "cell_type": "markdown",
      "metadata": {
        "id": "tOSsj84gHWlq"
      },
      "source": [
        "Скачаем данные"
      ]
    },
    {
      "cell_type": "code",
      "execution_count": 228,
      "metadata": {
        "colab": {
          "base_uri": "https://localhost:8080/"
        },
        "id": "mHPPxc-TeyBG",
        "outputId": "a9da97b7-94e9-4f01-b5ff-a9a1542d44d4"
      },
      "outputs": [
        {
          "name": "stdout",
          "output_type": "stream",
          "text": [
            "/home/alex/sber_hw_bmla/venv/lib/python3.10/site-packages/gdown/cli.py:121: FutureWarning: Option `--id` was deprecated in version 4.3.1 and will be removed in 5.0. You don't need to pass it anymore to use a file ID.\n",
            "  warnings.warn(\n",
            "Downloading...\n",
            "From: https://drive.google.com/uc?id=1mgembIyezFrbTlNlRFO5fZu7TcBfT_Uu\n",
            "To: /home/alex/sber_hw_bmla/bodyfat.csv\n",
            "100%|██████████████████████████████████████| 19.6k/19.6k [00:00<00:00, 1.07MB/s]\n"
          ]
        }
      ],
      "source": [
        "!gdown --id 1mgembIyezFrbTlNlRFO5fZu7TcBfT_Uu"
      ]
    },
    {
      "cell_type": "markdown",
      "metadata": {
        "id": "KzUU6xPOHADd"
      },
      "source": [
        "Загрузите данные из файла `bodyfat.csv` и сохраните в переменную `df`. Выведите первые 5 строк, число строк и столбцов"
      ]
    },
    {
      "cell_type": "code",
      "execution_count": 229,
      "metadata": {
        "id": "vU4ez4DJC2x7"
      },
      "outputs": [
        {
          "name": "stdout",
          "output_type": "stream",
          "text": [
            "amount of columns = 15\n",
            "amount of raws = 252\n",
            "5 1-st lines: \n",
            "   Density  BodyFat  Age  Weight  Height  Neck  Chest  Abdomen    Hip  Thigh  \\\n",
            "0   1.0708     12.3   23  154.25   67.75  36.2   93.1     85.2   94.5   59.0   \n",
            "1   1.0853      6.1   22  173.25   72.25  38.5   93.6     83.0   98.7   58.7   \n",
            "2   1.0414     25.3   22  154.00   66.25  34.0   95.8     87.9   99.2   59.6   \n",
            "3   1.0751     10.4   26  184.75   72.25  37.4  101.8     86.4  101.2   60.1   \n",
            "4   1.0340     28.7   24  184.25   71.25  34.4   97.3    100.0  101.9   63.2   \n",
            "\n",
            "   Knee  Ankle  Biceps  Forearm  Wrist  \n",
            "0  37.3   21.9    32.0     27.4   17.1  \n",
            "1  37.3   23.4    30.5     28.9   18.2  \n",
            "2  38.9   24.0    28.8     25.2   16.6  \n",
            "3  37.3   22.8    32.4     29.4   18.2  \n",
            "4  42.2   24.0    32.2     27.7   17.7  \n"
          ]
        }
      ],
      "source": [
        "\n",
        "df = pd.read_csv(\"bodyfat.csv\")\n",
        "print(f'amount of columns = {len(df.columns)}') #also df.shape[1]\n",
        "print(f'amount of raws = {df.shape[0]}') #also df.apply() with conditions\n",
        "print(f'5 1-st lines: \\n{df.iloc[:5]}')"
      ]
    },
    {
      "cell_type": "markdown",
      "metadata": {
        "id": "shL3IiYOJarE"
      },
      "source": [
        "### Первичный анализ"
      ]
    },
    {
      "cell_type": "markdown",
      "metadata": {
        "id": "le0xZoCwKIxl"
      },
      "source": [
        "Ознакомиться со значениями признаков вы можете [по ссылке](https://www.kaggle.com/datasets/fedesoriano/body-fat-prediction-dataset)"
      ]
    },
    {
      "cell_type": "markdown",
      "metadata": {
        "id": "cOik_bNVHjoR"
      },
      "source": [
        "Посмотрите, есть ли пропуски в данных. Если есть, то избавьтесь от них. Вам может понадобиться метод [`dropna`](https://pandas.pydata.org/docs/reference/api/pandas.DataFrame.dropna.html)"
      ]
    },
    {
      "cell_type": "code",
      "execution_count": 230,
      "metadata": {
        "id": "xvyN0aVIqxge"
      },
      "outputs": [
        {
          "data": {
            "text/plain": [
              "Density    float64\n",
              "BodyFat    float64\n",
              "Age          int64\n",
              "Weight     float64\n",
              "Height     float64\n",
              "Neck       float64\n",
              "Chest      float64\n",
              "Abdomen    float64\n",
              "Hip        float64\n",
              "Thigh      float64\n",
              "Knee       float64\n",
              "Ankle      float64\n",
              "Biceps     float64\n",
              "Forearm    float64\n",
              "Wrist      float64\n",
              "dtype: object"
            ]
          },
          "execution_count": 230,
          "metadata": {},
          "output_type": "execute_result"
        }
      ],
      "source": [
        "df.dtypes"
      ]
    },
    {
      "cell_type": "code",
      "execution_count": 231,
      "metadata": {},
      "outputs": [
        {
          "data": {
            "text/plain": [
              "Density    1\n",
              "BodyFat    1\n",
              "Age        0\n",
              "Weight     0\n",
              "Height     0\n",
              "Neck       1\n",
              "Chest      3\n",
              "Abdomen    2\n",
              "Hip        1\n",
              "Thigh      4\n",
              "Knee       4\n",
              "Ankle      1\n",
              "Biceps     2\n",
              "Forearm    1\n",
              "Wrist      2\n",
              "dtype: int64"
            ]
          },
          "execution_count": 231,
          "metadata": {},
          "output_type": "execute_result"
        }
      ],
      "source": [
        "df.isnull().sum()"
      ]
    },
    {
      "cell_type": "markdown",
      "metadata": {},
      "source": [
        "Получается есть значения NaN в Density, BodyFat, Neck, Chest, Abdomen, Hip, Thigh, Knee, Ankle, Biceps, Forearm, Wrist\n",
        "\n",
        "Можно ли заполнить их df.mean() ?"
      ]
    },
    {
      "cell_type": "code",
      "execution_count": 232,
      "metadata": {},
      "outputs": [],
      "source": [
        "df = df.dropna()"
      ]
    },
    {
      "cell_type": "markdown",
      "metadata": {
        "id": "i8lhP4mcXYT8"
      },
      "source": [
        "Построим карту корреляций"
      ]
    },
    {
      "cell_type": "code",
      "execution_count": 233,
      "metadata": {
        "colab": {
          "base_uri": "https://localhost:8080/",
          "height": 520
        },
        "id": "4VgKlZtOICSs",
        "outputId": "0074e6df-ba3c-40c9-db5f-3bfcb4b7b0e7"
      },
      "outputs": [
        {
          "data": {
            "text/html": [
              "<style type=\"text/css\">\n",
              "#T_d9ae5_row0_col0, #T_d9ae5_row1_col1, #T_d9ae5_row2_col2, #T_d9ae5_row3_col3, #T_d9ae5_row4_col4, #T_d9ae5_row5_col5, #T_d9ae5_row6_col6, #T_d9ae5_row7_col7, #T_d9ae5_row8_col8, #T_d9ae5_row9_col9, #T_d9ae5_row10_col10, #T_d9ae5_row11_col11, #T_d9ae5_row12_col12, #T_d9ae5_row13_col13, #T_d9ae5_row14_col14 {\n",
              "  background-color: #ffffff;\n",
              "  color: #000000;\n",
              "}\n",
              "#T_d9ae5_row0_col1, #T_d9ae5_row0_col2, #T_d9ae5_row0_col3, #T_d9ae5_row0_col5, #T_d9ae5_row0_col6, #T_d9ae5_row0_col7, #T_d9ae5_row0_col8, #T_d9ae5_row0_col9, #T_d9ae5_row0_col10, #T_d9ae5_row0_col11, #T_d9ae5_row0_col12, #T_d9ae5_row0_col13, #T_d9ae5_row0_col14, #T_d9ae5_row1_col0, #T_d9ae5_row2_col4 {\n",
              "  background-color: #000000;\n",
              "  color: #f1f1f1;\n",
              "}\n",
              "#T_d9ae5_row0_col4 {\n",
              "  background-color: #3b3b3b;\n",
              "  color: #f1f1f1;\n",
              "}\n",
              "#T_d9ae5_row1_col2, #T_d9ae5_row4_col9, #T_d9ae5_row4_col11 {\n",
              "  background-color: #717171;\n",
              "  color: #f1f1f1;\n",
              "}\n",
              "#T_d9ae5_row1_col3 {\n",
              "  background-color: #c4c4c4;\n",
              "  color: #000000;\n",
              "}\n",
              "#T_d9ae5_row1_col4 {\n",
              "  background-color: #0e0e0e;\n",
              "  color: #f1f1f1;\n",
              "}\n",
              "#T_d9ae5_row1_col5, #T_d9ae5_row9_col14 {\n",
              "  background-color: #aaaaaa;\n",
              "  color: #f1f1f1;\n",
              "}\n",
              "#T_d9ae5_row1_col6, #T_d9ae5_row14_col3 {\n",
              "  background-color: #d4d4d4;\n",
              "  color: #000000;\n",
              "}\n",
              "#T_d9ae5_row1_col7, #T_d9ae5_row3_col10, #T_d9ae5_row8_col6 {\n",
              "  background-color: #e6e6e6;\n",
              "  color: #000000;\n",
              "}\n",
              "#T_d9ae5_row1_col8, #T_d9ae5_row5_col10, #T_d9ae5_row10_col5, #T_d9ae5_row10_col12, #T_d9ae5_row12_col10, #T_d9ae5_row13_col12, #T_d9ae5_row14_col10 {\n",
              "  background-color: #c7c7c7;\n",
              "  color: #000000;\n",
              "}\n",
              "#T_d9ae5_row1_col9 {\n",
              "  background-color: #bcbcbc;\n",
              "  color: #000000;\n",
              "}\n",
              "#T_d9ae5_row1_col10, #T_d9ae5_row13_col1 {\n",
              "  background-color: #afafaf;\n",
              "  color: #000000;\n",
              "}\n",
              "#T_d9ae5_row1_col11, #T_d9ae5_row2_col5, #T_d9ae5_row4_col13 {\n",
              "  background-color: #6b6b6b;\n",
              "  color: #f1f1f1;\n",
              "}\n",
              "#T_d9ae5_row1_col12, #T_d9ae5_row11_col12 {\n",
              "  background-color: #adadad;\n",
              "  color: #000000;\n",
              "}\n",
              "#T_d9ae5_row1_col13 {\n",
              "  background-color: #8a8a8a;\n",
              "  color: #f1f1f1;\n",
              "}\n",
              "#T_d9ae5_row1_col14 {\n",
              "  background-color: #818181;\n",
              "  color: #f1f1f1;\n",
              "}\n",
              "#T_d9ae5_row2_col0 {\n",
              "  background-color: #5b5b5b;\n",
              "  color: #f1f1f1;\n",
              "}\n",
              "#T_d9ae5_row2_col1 {\n",
              "  background-color: #a4a4a4;\n",
              "  color: #f1f1f1;\n",
              "}\n",
              "#T_d9ae5_row2_col3 {\n",
              "  background-color: #626262;\n",
              "  color: #f1f1f1;\n",
              "}\n",
              "#T_d9ae5_row2_col6 {\n",
              "  background-color: #858585;\n",
              "  color: #f1f1f1;\n",
              "}\n",
              "#T_d9ae5_row2_col7 {\n",
              "  background-color: #959595;\n",
              "  color: #f1f1f1;\n",
              "}\n",
              "#T_d9ae5_row2_col8, #T_d9ae5_row2_col10, #T_d9ae5_row6_col2, #T_d9ae5_row10_col4 {\n",
              "  background-color: #5e5e5e;\n",
              "  color: #f1f1f1;\n",
              "}\n",
              "#T_d9ae5_row2_col9 {\n",
              "  background-color: #424242;\n",
              "  color: #f1f1f1;\n",
              "}\n",
              "#T_d9ae5_row2_col11, #T_d9ae5_row4_col2 {\n",
              "  background-color: #161616;\n",
              "  color: #f1f1f1;\n",
              "}\n",
              "#T_d9ae5_row2_col12, #T_d9ae5_row5_col2 {\n",
              "  background-color: #525252;\n",
              "  color: #f1f1f1;\n",
              "}\n",
              "#T_d9ae5_row2_col13 {\n",
              "  background-color: #383838;\n",
              "  color: #f1f1f1;\n",
              "}\n",
              "#T_d9ae5_row2_col14, #T_d9ae5_row7_col2 {\n",
              "  background-color: #696969;\n",
              "  color: #f1f1f1;\n",
              "}\n",
              "#T_d9ae5_row3_col0 {\n",
              "  background-color: #313131;\n",
              "  color: #f1f1f1;\n",
              "}\n",
              "#T_d9ae5_row3_col1 {\n",
              "  background-color: #cfcfcf;\n",
              "  color: #000000;\n",
              "}\n",
              "#T_d9ae5_row3_col2 {\n",
              "  background-color: #393939;\n",
              "  color: #f1f1f1;\n",
              "}\n",
              "#T_d9ae5_row3_col4, #T_d9ae5_row14_col2 {\n",
              "  background-color: #636363;\n",
              "  color: #f1f1f1;\n",
              "}\n",
              "#T_d9ae5_row3_col5 {\n",
              "  background-color: #e2e2e2;\n",
              "  color: #000000;\n",
              "}\n",
              "#T_d9ae5_row3_col6, #T_d9ae5_row3_col7 {\n",
              "  background-color: #f0f0f0;\n",
              "  color: #000000;\n",
              "}\n",
              "#T_d9ae5_row3_col8, #T_d9ae5_row8_col3 {\n",
              "  background-color: #f6f6f6;\n",
              "  color: #000000;\n",
              "}\n",
              "#T_d9ae5_row3_col9, #T_d9ae5_row9_col3 {\n",
              "  background-color: #eaeaea;\n",
              "  color: #000000;\n",
              "}\n",
              "#T_d9ae5_row3_col11, #T_d9ae5_row6_col14, #T_d9ae5_row10_col11, #T_d9ae5_row13_col5 {\n",
              "  background-color: #bdbdbd;\n",
              "  color: #000000;\n",
              "}\n",
              "#T_d9ae5_row3_col12, #T_d9ae5_row10_col9 {\n",
              "  background-color: #dddddd;\n",
              "  color: #000000;\n",
              "}\n",
              "#T_d9ae5_row3_col13, #T_d9ae5_row5_col13, #T_d9ae5_row12_col14 {\n",
              "  background-color: #b7b7b7;\n",
              "  color: #000000;\n",
              "}\n",
              "#T_d9ae5_row3_col14, #T_d9ae5_row9_col5, #T_d9ae5_row11_col3, #T_d9ae5_row14_col6 {\n",
              "  background-color: #cbcbcb;\n",
              "  color: #000000;\n",
              "}\n",
              "#T_d9ae5_row4_col0 {\n",
              "  background-color: #8c8c8c;\n",
              "  color: #f1f1f1;\n",
              "}\n",
              "#T_d9ae5_row4_col1 {\n",
              "  background-color: #727272;\n",
              "  color: #f1f1f1;\n",
              "}\n",
              "#T_d9ae5_row4_col3 {\n",
              "  background-color: #8e8e8e;\n",
              "  color: #f1f1f1;\n",
              "}\n",
              "#T_d9ae5_row4_col5 {\n",
              "  background-color: #7c7c7c;\n",
              "  color: #f1f1f1;\n",
              "}\n",
              "#T_d9ae5_row4_col6, #T_d9ae5_row4_col14 {\n",
              "  background-color: #7a7a7a;\n",
              "  color: #f1f1f1;\n",
              "}\n",
              "#T_d9ae5_row4_col7 {\n",
              "  background-color: #7b7b7b;\n",
              "  color: #f1f1f1;\n",
              "}\n",
              "#T_d9ae5_row4_col8 {\n",
              "  background-color: #797979;\n",
              "  color: #f1f1f1;\n",
              "}\n",
              "#T_d9ae5_row4_col10 {\n",
              "  background-color: #838383;\n",
              "  color: #f1f1f1;\n",
              "}\n",
              "#T_d9ae5_row4_col12 {\n",
              "  background-color: #767676;\n",
              "  color: #f1f1f1;\n",
              "}\n",
              "#T_d9ae5_row5_col0 {\n",
              "  background-color: #404040;\n",
              "  color: #f1f1f1;\n",
              "}\n",
              "#T_d9ae5_row5_col1, #T_d9ae5_row14_col12 {\n",
              "  background-color: #c0c0c0;\n",
              "  color: #000000;\n",
              "}\n",
              "#T_d9ae5_row5_col3 {\n",
              "  background-color: #e4e4e4;\n",
              "  color: #000000;\n",
              "}\n",
              "#T_d9ae5_row5_col4 {\n",
              "  background-color: #585858;\n",
              "  color: #f1f1f1;\n",
              "}\n",
              "#T_d9ae5_row5_col6, #T_d9ae5_row9_col7, #T_d9ae5_row12_col3 {\n",
              "  background-color: #dfdfdf;\n",
              "  color: #000000;\n",
              "}\n",
              "#T_d9ae5_row5_col7, #T_d9ae5_row9_col10 {\n",
              "  background-color: #dcdcdc;\n",
              "  color: #000000;\n",
              "}\n",
              "#T_d9ae5_row5_col8, #T_d9ae5_row6_col9, #T_d9ae5_row7_col5 {\n",
              "  background-color: #d5d5d5;\n",
              "  color: #000000;\n",
              "}\n",
              "#T_d9ae5_row5_col9, #T_d9ae5_row5_col14 {\n",
              "  background-color: #cecece;\n",
              "  color: #000000;\n",
              "}\n",
              "#T_d9ae5_row5_col11, #T_d9ae5_row6_col11, #T_d9ae5_row7_col13 {\n",
              "  background-color: #a0a0a0;\n",
              "  color: #f1f1f1;\n",
              "}\n",
              "#T_d9ae5_row5_col12, #T_d9ae5_row6_col10, #T_d9ae5_row8_col1, #T_d9ae5_row8_col5 {\n",
              "  background-color: #d1d1d1;\n",
              "  color: #000000;\n",
              "}\n",
              "#T_d9ae5_row6_col0 {\n",
              "  background-color: #262626;\n",
              "  color: #f1f1f1;\n",
              "}\n",
              "#T_d9ae5_row6_col1, #T_d9ae5_row6_col5, #T_d9ae5_row7_col9, #T_d9ae5_row10_col7 {\n",
              "  background-color: #dadada;\n",
              "  color: #000000;\n",
              "}\n",
              "#T_d9ae5_row6_col3, #T_d9ae5_row9_col8 {\n",
              "  background-color: #efefef;\n",
              "  color: #000000;\n",
              "}\n",
              "#T_d9ae5_row6_col4, #T_d9ae5_row9_col4, #T_d9ae5_row12_col0 {\n",
              "  background-color: #3e3e3e;\n",
              "  color: #f1f1f1;\n",
              "}\n",
              "#T_d9ae5_row6_col7, #T_d9ae5_row7_col6 {\n",
              "  background-color: #f3f3f3;\n",
              "  color: #000000;\n",
              "}\n",
              "#T_d9ae5_row6_col8 {\n",
              "  background-color: #e5e5e5;\n",
              "  color: #000000;\n",
              "}\n",
              "#T_d9ae5_row6_col12, #T_d9ae5_row8_col12 {\n",
              "  background-color: #d2d2d2;\n",
              "  color: #000000;\n",
              "}\n",
              "#T_d9ae5_row6_col13, #T_d9ae5_row9_col11 {\n",
              "  background-color: #b0b0b0;\n",
              "  color: #000000;\n",
              "}\n",
              "#T_d9ae5_row7_col0 {\n",
              "  background-color: #171717;\n",
              "  color: #f1f1f1;\n",
              "}\n",
              "#T_d9ae5_row7_col1 {\n",
              "  background-color: #e9e9e9;\n",
              "  color: #000000;\n",
              "}\n",
              "#T_d9ae5_row7_col3, #T_d9ae5_row8_col7, #T_d9ae5_row8_col9 {\n",
              "  background-color: #eeeeee;\n",
              "  color: #000000;\n",
              "}\n",
              "#T_d9ae5_row7_col4, #T_d9ae5_row8_col2, #T_d9ae5_row12_col2 {\n",
              "  background-color: #323232;\n",
              "  color: #f1f1f1;\n",
              "}\n",
              "#T_d9ae5_row7_col8 {\n",
              "  background-color: #ececec;\n",
              "  color: #000000;\n",
              "}\n",
              "#T_d9ae5_row7_col10, #T_d9ae5_row12_col7, #T_d9ae5_row14_col5 {\n",
              "  background-color: #d3d3d3;\n",
              "  color: #000000;\n",
              "}\n",
              "#T_d9ae5_row7_col11 {\n",
              "  background-color: #999999;\n",
              "  color: #f1f1f1;\n",
              "}\n",
              "#T_d9ae5_row7_col12, #T_d9ae5_row9_col1 {\n",
              "  background-color: #cacaca;\n",
              "  color: #000000;\n",
              "}\n",
              "#T_d9ae5_row7_col14, #T_d9ae5_row13_col8 {\n",
              "  background-color: #b5b5b5;\n",
              "  color: #000000;\n",
              "}\n",
              "#T_d9ae5_row8_col0 {\n",
              "  background-color: #2e2e2e;\n",
              "  color: #f1f1f1;\n",
              "}\n",
              "#T_d9ae5_row8_col4 {\n",
              "  background-color: #444444;\n",
              "  color: #f1f1f1;\n",
              "}\n",
              "#T_d9ae5_row8_col10 {\n",
              "  background-color: #e1e1e1;\n",
              "  color: #000000;\n",
              "}\n",
              "#T_d9ae5_row8_col11, #T_d9ae5_row13_col10 {\n",
              "  background-color: #b2b2b2;\n",
              "  color: #000000;\n",
              "}\n",
              "#T_d9ae5_row8_col13 {\n",
              "  background-color: #a7a7a7;\n",
              "  color: #f1f1f1;\n",
              "}\n",
              "#T_d9ae5_row8_col14, #T_d9ae5_row11_col6, #T_d9ae5_row11_col7, #T_d9ae5_row13_col7, #T_d9ae5_row14_col9 {\n",
              "  background-color: #b8b8b8;\n",
              "  color: #000000;\n",
              "}\n",
              "#T_d9ae5_row9_col0 {\n",
              "  background-color: #353535;\n",
              "  color: #f1f1f1;\n",
              "}\n",
              "#T_d9ae5_row9_col2 {\n",
              "  background-color: #151515;\n",
              "  color: #f1f1f1;\n",
              "}\n",
              "#T_d9ae5_row9_col6, #T_d9ae5_row12_col6 {\n",
              "  background-color: #d7d7d7;\n",
              "  color: #000000;\n",
              "}\n",
              "#T_d9ae5_row9_col12, #T_d9ae5_row10_col6, #T_d9ae5_row12_col8 {\n",
              "  background-color: #d6d6d6;\n",
              "  color: #000000;\n",
              "}\n",
              "#T_d9ae5_row9_col13, #T_d9ae5_row14_col1 {\n",
              "  background-color: #ababab;\n",
              "  color: #f1f1f1;\n",
              "}\n",
              "#T_d9ae5_row10_col0 {\n",
              "  background-color: #3d3d3d;\n",
              "  color: #f1f1f1;\n",
              "}\n",
              "#T_d9ae5_row10_col1, #T_d9ae5_row13_col3 {\n",
              "  background-color: #c2c2c2;\n",
              "  color: #000000;\n",
              "}\n",
              "#T_d9ae5_row10_col2 {\n",
              "  background-color: #414141;\n",
              "  color: #f1f1f1;\n",
              "}\n",
              "#T_d9ae5_row10_col3 {\n",
              "  background-color: #e8e8e8;\n",
              "  color: #000000;\n",
              "}\n",
              "#T_d9ae5_row10_col8 {\n",
              "  background-color: #e3e3e3;\n",
              "  color: #000000;\n",
              "}\n",
              "#T_d9ae5_row10_col13 {\n",
              "  background-color: #a9a9a9;\n",
              "  color: #f1f1f1;\n",
              "}\n",
              "#T_d9ae5_row10_col14, #T_d9ae5_row11_col9, #T_d9ae5_row13_col6 {\n",
              "  background-color: #bfbfbf;\n",
              "  color: #000000;\n",
              "}\n",
              "#T_d9ae5_row11_col0 {\n",
              "  background-color: #5c5c5c;\n",
              "  color: #f1f1f1;\n",
              "}\n",
              "#T_d9ae5_row11_col1 {\n",
              "  background-color: #a1a1a1;\n",
              "  color: #f1f1f1;\n",
              "}\n",
              "#T_d9ae5_row11_col2 {\n",
              "  background-color: #181818;\n",
              "  color: #f1f1f1;\n",
              "}\n",
              "#T_d9ae5_row11_col4 {\n",
              "  background-color: #646464;\n",
              "  color: #f1f1f1;\n",
              "}\n",
              "#T_d9ae5_row11_col5, #T_d9ae5_row13_col14 {\n",
              "  background-color: #aeaeae;\n",
              "  color: #000000;\n",
              "}\n",
              "#T_d9ae5_row11_col8 {\n",
              "  background-color: #c3c3c3;\n",
              "  color: #000000;\n",
              "}\n",
              "#T_d9ae5_row11_col10 {\n",
              "  background-color: #c8c8c8;\n",
              "  color: #000000;\n",
              "}\n",
              "#T_d9ae5_row11_col13 {\n",
              "  background-color: #9a9a9a;\n",
              "  color: #f1f1f1;\n",
              "}\n",
              "#T_d9ae5_row11_col14 {\n",
              "  background-color: #b4b4b4;\n",
              "  color: #000000;\n",
              "}\n",
              "#T_d9ae5_row12_col1, #T_d9ae5_row12_col13 {\n",
              "  background-color: #c1c1c1;\n",
              "  color: #000000;\n",
              "}\n",
              "#T_d9ae5_row12_col4 {\n",
              "  background-color: #4d4d4d;\n",
              "  color: #f1f1f1;\n",
              "}\n",
              "#T_d9ae5_row12_col5 {\n",
              "  background-color: #d0d0d0;\n",
              "  color: #000000;\n",
              "}\n",
              "#T_d9ae5_row12_col9 {\n",
              "  background-color: #d8d8d8;\n",
              "  color: #000000;\n",
              "}\n",
              "#T_d9ae5_row12_col11 {\n",
              "  background-color: #9e9e9e;\n",
              "  color: #f1f1f1;\n",
              "}\n",
              "#T_d9ae5_row13_col0 {\n",
              "  background-color: #505050;\n",
              "  color: #f1f1f1;\n",
              "}\n",
              "#T_d9ae5_row13_col2 {\n",
              "  background-color: #2b2b2b;\n",
              "  color: #f1f1f1;\n",
              "}\n",
              "#T_d9ae5_row13_col4 {\n",
              "  background-color: #515151;\n",
              "  color: #f1f1f1;\n",
              "}\n",
              "#T_d9ae5_row13_col9 {\n",
              "  background-color: #b6b6b6;\n",
              "  color: #000000;\n",
              "}\n",
              "#T_d9ae5_row13_col11 {\n",
              "  background-color: #929292;\n",
              "  color: #f1f1f1;\n",
              "}\n",
              "#T_d9ae5_row14_col0 {\n",
              "  background-color: #555555;\n",
              "  color: #f1f1f1;\n",
              "}\n",
              "#T_d9ae5_row14_col4 {\n",
              "  background-color: #686868;\n",
              "  color: #f1f1f1;\n",
              "}\n",
              "#T_d9ae5_row14_col7 {\n",
              "  background-color: #c9c9c9;\n",
              "  color: #000000;\n",
              "}\n",
              "#T_d9ae5_row14_col8 {\n",
              "  background-color: #c5c5c5;\n",
              "  color: #000000;\n",
              "}\n",
              "#T_d9ae5_row14_col11, #T_d9ae5_row14_col13 {\n",
              "  background-color: #b1b1b1;\n",
              "  color: #000000;\n",
              "}\n",
              "</style>\n",
              "<table id=\"T_d9ae5\">\n",
              "  <thead>\n",
              "    <tr>\n",
              "      <th class=\"blank level0\" >&nbsp;</th>\n",
              "      <th id=\"T_d9ae5_level0_col0\" class=\"col_heading level0 col0\" >Density</th>\n",
              "      <th id=\"T_d9ae5_level0_col1\" class=\"col_heading level0 col1\" >BodyFat</th>\n",
              "      <th id=\"T_d9ae5_level0_col2\" class=\"col_heading level0 col2\" >Age</th>\n",
              "      <th id=\"T_d9ae5_level0_col3\" class=\"col_heading level0 col3\" >Weight</th>\n",
              "      <th id=\"T_d9ae5_level0_col4\" class=\"col_heading level0 col4\" >Height</th>\n",
              "      <th id=\"T_d9ae5_level0_col5\" class=\"col_heading level0 col5\" >Neck</th>\n",
              "      <th id=\"T_d9ae5_level0_col6\" class=\"col_heading level0 col6\" >Chest</th>\n",
              "      <th id=\"T_d9ae5_level0_col7\" class=\"col_heading level0 col7\" >Abdomen</th>\n",
              "      <th id=\"T_d9ae5_level0_col8\" class=\"col_heading level0 col8\" >Hip</th>\n",
              "      <th id=\"T_d9ae5_level0_col9\" class=\"col_heading level0 col9\" >Thigh</th>\n",
              "      <th id=\"T_d9ae5_level0_col10\" class=\"col_heading level0 col10\" >Knee</th>\n",
              "      <th id=\"T_d9ae5_level0_col11\" class=\"col_heading level0 col11\" >Ankle</th>\n",
              "      <th id=\"T_d9ae5_level0_col12\" class=\"col_heading level0 col12\" >Biceps</th>\n",
              "      <th id=\"T_d9ae5_level0_col13\" class=\"col_heading level0 col13\" >Forearm</th>\n",
              "      <th id=\"T_d9ae5_level0_col14\" class=\"col_heading level0 col14\" >Wrist</th>\n",
              "    </tr>\n",
              "  </thead>\n",
              "  <tbody>\n",
              "    <tr>\n",
              "      <th id=\"T_d9ae5_level0_row0\" class=\"row_heading level0 row0\" >Density</th>\n",
              "      <td id=\"T_d9ae5_row0_col0\" class=\"data row0 col0\" >1</td>\n",
              "      <td id=\"T_d9ae5_row0_col1\" class=\"data row0 col1\" >-0.99</td>\n",
              "      <td id=\"T_d9ae5_row0_col2\" class=\"data row0 col2\" >-0.28</td>\n",
              "      <td id=\"T_d9ae5_row0_col3\" class=\"data row0 col3\" >-0.61</td>\n",
              "      <td id=\"T_d9ae5_row0_col4\" class=\"data row0 col4\" >0.11</td>\n",
              "      <td id=\"T_d9ae5_row0_col5\" class=\"data row0 col5\" >-0.49</td>\n",
              "      <td id=\"T_d9ae5_row0_col6\" class=\"data row0 col6\" >-0.69</td>\n",
              "      <td id=\"T_d9ae5_row0_col7\" class=\"data row0 col7\" >-0.81</td>\n",
              "      <td id=\"T_d9ae5_row0_col8\" class=\"data row0 col8\" >-0.62</td>\n",
              "      <td id=\"T_d9ae5_row0_col9\" class=\"data row0 col9\" >-0.57</td>\n",
              "      <td id=\"T_d9ae5_row0_col10\" class=\"data row0 col10\" >-0.51</td>\n",
              "      <td id=\"T_d9ae5_row0_col11\" class=\"data row0 col11\" >-0.27</td>\n",
              "      <td id=\"T_d9ae5_row0_col12\" class=\"data row0 col12\" >-0.51</td>\n",
              "      <td id=\"T_d9ae5_row0_col13\" class=\"data row0 col13\" >-0.36</td>\n",
              "      <td id=\"T_d9ae5_row0_col14\" class=\"data row0 col14\" >-0.33</td>\n",
              "    </tr>\n",
              "    <tr>\n",
              "      <th id=\"T_d9ae5_level0_row1\" class=\"row_heading level0 row1\" >BodyFat</th>\n",
              "      <td id=\"T_d9ae5_row1_col0\" class=\"data row1 col0\" >-0.99</td>\n",
              "      <td id=\"T_d9ae5_row1_col1\" class=\"data row1 col1\" >1</td>\n",
              "      <td id=\"T_d9ae5_row1_col2\" class=\"data row1 col2\" >0.29</td>\n",
              "      <td id=\"T_d9ae5_row1_col3\" class=\"data row1 col3\" >0.62</td>\n",
              "      <td id=\"T_d9ae5_row1_col4\" class=\"data row1 col4\" >-0.097</td>\n",
              "      <td id=\"T_d9ae5_row1_col5\" class=\"data row1 col5\" >0.5</td>\n",
              "      <td id=\"T_d9ae5_row1_col6\" class=\"data row1 col6\" >0.71</td>\n",
              "      <td id=\"T_d9ae5_row1_col7\" class=\"data row1 col7\" >0.82</td>\n",
              "      <td id=\"T_d9ae5_row1_col8\" class=\"data row1 col8\" >0.64</td>\n",
              "      <td id=\"T_d9ae5_row1_col9\" class=\"data row1 col9\" >0.58</td>\n",
              "      <td id=\"T_d9ae5_row1_col10\" class=\"data row1 col10\" >0.52</td>\n",
              "      <td id=\"T_d9ae5_row1_col11\" class=\"data row1 col11\" >0.27</td>\n",
              "      <td id=\"T_d9ae5_row1_col12\" class=\"data row1 col12\" >0.51</td>\n",
              "      <td id=\"T_d9ae5_row1_col13\" class=\"data row1 col13\" >0.37</td>\n",
              "      <td id=\"T_d9ae5_row1_col14\" class=\"data row1 col14\" >0.35</td>\n",
              "    </tr>\n",
              "    <tr>\n",
              "      <th id=\"T_d9ae5_level0_row2\" class=\"row_heading level0 row2\" >Age</th>\n",
              "      <td id=\"T_d9ae5_row2_col0\" class=\"data row2 col0\" >-0.28</td>\n",
              "      <td id=\"T_d9ae5_row2_col1\" class=\"data row2 col1\" >0.29</td>\n",
              "      <td id=\"T_d9ae5_row2_col2\" class=\"data row2 col2\" >1</td>\n",
              "      <td id=\"T_d9ae5_row2_col3\" class=\"data row2 col3\" >0.0096</td>\n",
              "      <td id=\"T_d9ae5_row2_col4\" class=\"data row2 col4\" >-0.16</td>\n",
              "      <td id=\"T_d9ae5_row2_col5\" class=\"data row2 col5\" >0.14</td>\n",
              "      <td id=\"T_d9ae5_row2_col6\" class=\"data row2 col6\" >0.19</td>\n",
              "      <td id=\"T_d9ae5_row2_col7\" class=\"data row2 col7\" >0.25</td>\n",
              "      <td id=\"T_d9ae5_row2_col8\" class=\"data row2 col8\" >-0.023</td>\n",
              "      <td id=\"T_d9ae5_row2_col9\" class=\"data row2 col9\" >-0.17</td>\n",
              "      <td id=\"T_d9ae5_row2_col10\" class=\"data row2 col10\" >0.05</td>\n",
              "      <td id=\"T_d9ae5_row2_col11\" class=\"data row2 col11\" >-0.16</td>\n",
              "      <td id=\"T_d9ae5_row2_col12\" class=\"data row2 col12\" >-0.023</td>\n",
              "      <td id=\"T_d9ae5_row2_col13\" class=\"data row2 col13\" >-0.061</td>\n",
              "      <td id=\"T_d9ae5_row2_col14\" class=\"data row2 col14\" >0.22</td>\n",
              "    </tr>\n",
              "    <tr>\n",
              "      <th id=\"T_d9ae5_level0_row3\" class=\"row_heading level0 row3\" >Weight</th>\n",
              "      <td id=\"T_d9ae5_row3_col0\" class=\"data row3 col0\" >-0.61</td>\n",
              "      <td id=\"T_d9ae5_row3_col1\" class=\"data row3 col1\" >0.62</td>\n",
              "      <td id=\"T_d9ae5_row3_col2\" class=\"data row3 col2\" >0.0096</td>\n",
              "      <td id=\"T_d9ae5_row3_col3\" class=\"data row3 col3\" >1</td>\n",
              "      <td id=\"T_d9ae5_row3_col4\" class=\"data row3 col4\" >0.29</td>\n",
              "      <td id=\"T_d9ae5_row3_col5\" class=\"data row3 col5\" >0.83</td>\n",
              "      <td id=\"T_d9ae5_row3_col6\" class=\"data row3 col6\" >0.9</td>\n",
              "      <td id=\"T_d9ae5_row3_col7\" class=\"data row3 col7\" >0.89</td>\n",
              "      <td id=\"T_d9ae5_row3_col8\" class=\"data row3 col8\" >0.94</td>\n",
              "      <td id=\"T_d9ae5_row3_col9\" class=\"data row3 col9\" >0.87</td>\n",
              "      <td id=\"T_d9ae5_row3_col10\" class=\"data row3 col10\" >0.85</td>\n",
              "      <td id=\"T_d9ae5_row3_col11\" class=\"data row3 col11\" >0.67</td>\n",
              "      <td id=\"T_d9ae5_row3_col12\" class=\"data row3 col12\" >0.8</td>\n",
              "      <td id=\"T_d9ae5_row3_col13\" class=\"data row3 col13\" >0.62</td>\n",
              "      <td id=\"T_d9ae5_row3_col14\" class=\"data row3 col14\" >0.73</td>\n",
              "    </tr>\n",
              "    <tr>\n",
              "      <th id=\"T_d9ae5_level0_row4\" class=\"row_heading level0 row4\" >Height</th>\n",
              "      <td id=\"T_d9ae5_row4_col0\" class=\"data row4 col0\" >0.11</td>\n",
              "      <td id=\"T_d9ae5_row4_col1\" class=\"data row4 col1\" >-0.097</td>\n",
              "      <td id=\"T_d9ae5_row4_col2\" class=\"data row4 col2\" >-0.16</td>\n",
              "      <td id=\"T_d9ae5_row4_col3\" class=\"data row4 col3\" >0.29</td>\n",
              "      <td id=\"T_d9ae5_row4_col4\" class=\"data row4 col4\" >1</td>\n",
              "      <td id=\"T_d9ae5_row4_col5\" class=\"data row4 col5\" >0.24</td>\n",
              "      <td id=\"T_d9ae5_row4_col6\" class=\"data row4 col6\" >0.12</td>\n",
              "      <td id=\"T_d9ae5_row4_col7\" class=\"data row4 col7\" >0.068</td>\n",
              "      <td id=\"T_d9ae5_row4_col8\" class=\"data row4 col8\" >0.15</td>\n",
              "      <td id=\"T_d9ae5_row4_col9\" class=\"data row4 col9\" >0.12</td>\n",
              "      <td id=\"T_d9ae5_row4_col10\" class=\"data row4 col10\" >0.27</td>\n",
              "      <td id=\"T_d9ae5_row4_col11\" class=\"data row4 col11\" >0.3</td>\n",
              "      <td id=\"T_d9ae5_row4_col12\" class=\"data row4 col12\" >0.19</td>\n",
              "      <td id=\"T_d9ae5_row4_col13\" class=\"data row4 col13\" >0.21</td>\n",
              "      <td id=\"T_d9ae5_row4_col14\" class=\"data row4 col14\" >0.31</td>\n",
              "    </tr>\n",
              "    <tr>\n",
              "      <th id=\"T_d9ae5_level0_row5\" class=\"row_heading level0 row5\" >Neck</th>\n",
              "      <td id=\"T_d9ae5_row5_col0\" class=\"data row5 col0\" >-0.49</td>\n",
              "      <td id=\"T_d9ae5_row5_col1\" class=\"data row5 col1\" >0.5</td>\n",
              "      <td id=\"T_d9ae5_row5_col2\" class=\"data row5 col2\" >0.14</td>\n",
              "      <td id=\"T_d9ae5_row5_col3\" class=\"data row5 col3\" >0.83</td>\n",
              "      <td id=\"T_d9ae5_row5_col4\" class=\"data row5 col4\" >0.24</td>\n",
              "      <td id=\"T_d9ae5_row5_col5\" class=\"data row5 col5\" >1</td>\n",
              "      <td id=\"T_d9ae5_row5_col6\" class=\"data row5 col6\" >0.78</td>\n",
              "      <td id=\"T_d9ae5_row5_col7\" class=\"data row5 col7\" >0.75</td>\n",
              "      <td id=\"T_d9ae5_row5_col8\" class=\"data row5 col8\" >0.73</td>\n",
              "      <td id=\"T_d9ae5_row5_col9\" class=\"data row5 col9\" >0.69</td>\n",
              "      <td id=\"T_d9ae5_row5_col10\" class=\"data row5 col10\" >0.67</td>\n",
              "      <td id=\"T_d9ae5_row5_col11\" class=\"data row5 col11\" >0.53</td>\n",
              "      <td id=\"T_d9ae5_row5_col12\" class=\"data row5 col12\" >0.73</td>\n",
              "      <td id=\"T_d9ae5_row5_col13\" class=\"data row5 col13\" >0.61</td>\n",
              "      <td id=\"T_d9ae5_row5_col14\" class=\"data row5 col14\" >0.74</td>\n",
              "    </tr>\n",
              "    <tr>\n",
              "      <th id=\"T_d9ae5_level0_row6\" class=\"row_heading level0 row6\" >Chest</th>\n",
              "      <td id=\"T_d9ae5_row6_col0\" class=\"data row6 col0\" >-0.69</td>\n",
              "      <td id=\"T_d9ae5_row6_col1\" class=\"data row6 col1\" >0.71</td>\n",
              "      <td id=\"T_d9ae5_row6_col2\" class=\"data row6 col2\" >0.19</td>\n",
              "      <td id=\"T_d9ae5_row6_col3\" class=\"data row6 col3\" >0.9</td>\n",
              "      <td id=\"T_d9ae5_row6_col4\" class=\"data row6 col4\" >0.12</td>\n",
              "      <td id=\"T_d9ae5_row6_col5\" class=\"data row6 col5\" >0.78</td>\n",
              "      <td id=\"T_d9ae5_row6_col6\" class=\"data row6 col6\" >1</td>\n",
              "      <td id=\"T_d9ae5_row6_col7\" class=\"data row6 col7\" >0.91</td>\n",
              "      <td id=\"T_d9ae5_row6_col8\" class=\"data row6 col8\" >0.83</td>\n",
              "      <td id=\"T_d9ae5_row6_col9\" class=\"data row6 col9\" >0.74</td>\n",
              "      <td id=\"T_d9ae5_row6_col10\" class=\"data row6 col10\" >0.72</td>\n",
              "      <td id=\"T_d9ae5_row6_col11\" class=\"data row6 col11\" >0.53</td>\n",
              "      <td id=\"T_d9ae5_row6_col12\" class=\"data row6 col12\" >0.73</td>\n",
              "      <td id=\"T_d9ae5_row6_col13\" class=\"data row6 col13\" >0.57</td>\n",
              "      <td id=\"T_d9ae5_row6_col14\" class=\"data row6 col14\" >0.66</td>\n",
              "    </tr>\n",
              "    <tr>\n",
              "      <th id=\"T_d9ae5_level0_row7\" class=\"row_heading level0 row7\" >Abdomen</th>\n",
              "      <td id=\"T_d9ae5_row7_col0\" class=\"data row7 col0\" >-0.81</td>\n",
              "      <td id=\"T_d9ae5_row7_col1\" class=\"data row7 col1\" >0.82</td>\n",
              "      <td id=\"T_d9ae5_row7_col2\" class=\"data row7 col2\" >0.25</td>\n",
              "      <td id=\"T_d9ae5_row7_col3\" class=\"data row7 col3\" >0.89</td>\n",
              "      <td id=\"T_d9ae5_row7_col4\" class=\"data row7 col4\" >0.068</td>\n",
              "      <td id=\"T_d9ae5_row7_col5\" class=\"data row7 col5\" >0.75</td>\n",
              "      <td id=\"T_d9ae5_row7_col6\" class=\"data row7 col6\" >0.91</td>\n",
              "      <td id=\"T_d9ae5_row7_col7\" class=\"data row7 col7\" >1</td>\n",
              "      <td id=\"T_d9ae5_row7_col8\" class=\"data row7 col8\" >0.88</td>\n",
              "      <td id=\"T_d9ae5_row7_col9\" class=\"data row7 col9\" >0.77</td>\n",
              "      <td id=\"T_d9ae5_row7_col10\" class=\"data row7 col10\" >0.74</td>\n",
              "      <td id=\"T_d9ae5_row7_col11\" class=\"data row7 col11\" >0.49</td>\n",
              "      <td id=\"T_d9ae5_row7_col12\" class=\"data row7 col12\" >0.69</td>\n",
              "      <td id=\"T_d9ae5_row7_col13\" class=\"data row7 col13\" >0.49</td>\n",
              "      <td id=\"T_d9ae5_row7_col14\" class=\"data row7 col14\" >0.61</td>\n",
              "    </tr>\n",
              "    <tr>\n",
              "      <th id=\"T_d9ae5_level0_row8\" class=\"row_heading level0 row8\" >Hip</th>\n",
              "      <td id=\"T_d9ae5_row8_col0\" class=\"data row8 col0\" >-0.62</td>\n",
              "      <td id=\"T_d9ae5_row8_col1\" class=\"data row8 col1\" >0.64</td>\n",
              "      <td id=\"T_d9ae5_row8_col2\" class=\"data row8 col2\" >-0.023</td>\n",
              "      <td id=\"T_d9ae5_row8_col3\" class=\"data row8 col3\" >0.94</td>\n",
              "      <td id=\"T_d9ae5_row8_col4\" class=\"data row8 col4\" >0.15</td>\n",
              "      <td id=\"T_d9ae5_row8_col5\" class=\"data row8 col5\" >0.73</td>\n",
              "      <td id=\"T_d9ae5_row8_col6\" class=\"data row8 col6\" >0.83</td>\n",
              "      <td id=\"T_d9ae5_row8_col7\" class=\"data row8 col7\" >0.88</td>\n",
              "      <td id=\"T_d9ae5_row8_col8\" class=\"data row8 col8\" >1</td>\n",
              "      <td id=\"T_d9ae5_row8_col9\" class=\"data row8 col9\" >0.89</td>\n",
              "      <td id=\"T_d9ae5_row8_col10\" class=\"data row8 col10\" >0.82</td>\n",
              "      <td id=\"T_d9ae5_row8_col11\" class=\"data row8 col11\" >0.62</td>\n",
              "      <td id=\"T_d9ae5_row8_col12\" class=\"data row8 col12\" >0.73</td>\n",
              "      <td id=\"T_d9ae5_row8_col13\" class=\"data row8 col13\" >0.53</td>\n",
              "      <td id=\"T_d9ae5_row8_col14\" class=\"data row8 col14\" >0.63</td>\n",
              "    </tr>\n",
              "    <tr>\n",
              "      <th id=\"T_d9ae5_level0_row9\" class=\"row_heading level0 row9\" >Thigh</th>\n",
              "      <td id=\"T_d9ae5_row9_col0\" class=\"data row9 col0\" >-0.57</td>\n",
              "      <td id=\"T_d9ae5_row9_col1\" class=\"data row9 col1\" >0.58</td>\n",
              "      <td id=\"T_d9ae5_row9_col2\" class=\"data row9 col2\" >-0.17</td>\n",
              "      <td id=\"T_d9ae5_row9_col3\" class=\"data row9 col3\" >0.87</td>\n",
              "      <td id=\"T_d9ae5_row9_col4\" class=\"data row9 col4\" >0.12</td>\n",
              "      <td id=\"T_d9ae5_row9_col5\" class=\"data row9 col5\" >0.69</td>\n",
              "      <td id=\"T_d9ae5_row9_col6\" class=\"data row9 col6\" >0.74</td>\n",
              "      <td id=\"T_d9ae5_row9_col7\" class=\"data row9 col7\" >0.77</td>\n",
              "      <td id=\"T_d9ae5_row9_col8\" class=\"data row9 col8\" >0.89</td>\n",
              "      <td id=\"T_d9ae5_row9_col9\" class=\"data row9 col9\" >1</td>\n",
              "      <td id=\"T_d9ae5_row9_col10\" class=\"data row9 col10\" >0.79</td>\n",
              "      <td id=\"T_d9ae5_row9_col11\" class=\"data row9 col11\" >0.6</td>\n",
              "      <td id=\"T_d9ae5_row9_col12\" class=\"data row9 col12\" >0.76</td>\n",
              "      <td id=\"T_d9ae5_row9_col13\" class=\"data row9 col13\" >0.55</td>\n",
              "      <td id=\"T_d9ae5_row9_col14\" class=\"data row9 col14\" >0.56</td>\n",
              "    </tr>\n",
              "    <tr>\n",
              "      <th id=\"T_d9ae5_level0_row10\" class=\"row_heading level0 row10\" >Knee</th>\n",
              "      <td id=\"T_d9ae5_row10_col0\" class=\"data row10 col0\" >-0.51</td>\n",
              "      <td id=\"T_d9ae5_row10_col1\" class=\"data row10 col1\" >0.52</td>\n",
              "      <td id=\"T_d9ae5_row10_col2\" class=\"data row10 col2\" >0.05</td>\n",
              "      <td id=\"T_d9ae5_row10_col3\" class=\"data row10 col3\" >0.85</td>\n",
              "      <td id=\"T_d9ae5_row10_col4\" class=\"data row10 col4\" >0.27</td>\n",
              "      <td id=\"T_d9ae5_row10_col5\" class=\"data row10 col5\" >0.67</td>\n",
              "      <td id=\"T_d9ae5_row10_col6\" class=\"data row10 col6\" >0.72</td>\n",
              "      <td id=\"T_d9ae5_row10_col7\" class=\"data row10 col7\" >0.74</td>\n",
              "      <td id=\"T_d9ae5_row10_col8\" class=\"data row10 col8\" >0.82</td>\n",
              "      <td id=\"T_d9ae5_row10_col9\" class=\"data row10 col9\" >0.79</td>\n",
              "      <td id=\"T_d9ae5_row10_col10\" class=\"data row10 col10\" >1</td>\n",
              "      <td id=\"T_d9ae5_row10_col11\" class=\"data row10 col11\" >0.67</td>\n",
              "      <td id=\"T_d9ae5_row10_col12\" class=\"data row10 col12\" >0.67</td>\n",
              "      <td id=\"T_d9ae5_row10_col13\" class=\"data row10 col13\" >0.54</td>\n",
              "      <td id=\"T_d9ae5_row10_col14\" class=\"data row10 col14\" >0.67</td>\n",
              "    </tr>\n",
              "    <tr>\n",
              "      <th id=\"T_d9ae5_level0_row11\" class=\"row_heading level0 row11\" >Ankle</th>\n",
              "      <td id=\"T_d9ae5_row11_col0\" class=\"data row11 col0\" >-0.27</td>\n",
              "      <td id=\"T_d9ae5_row11_col1\" class=\"data row11 col1\" >0.27</td>\n",
              "      <td id=\"T_d9ae5_row11_col2\" class=\"data row11 col2\" >-0.16</td>\n",
              "      <td id=\"T_d9ae5_row11_col3\" class=\"data row11 col3\" >0.67</td>\n",
              "      <td id=\"T_d9ae5_row11_col4\" class=\"data row11 col4\" >0.3</td>\n",
              "      <td id=\"T_d9ae5_row11_col5\" class=\"data row11 col5\" >0.53</td>\n",
              "      <td id=\"T_d9ae5_row11_col6\" class=\"data row11 col6\" >0.53</td>\n",
              "      <td id=\"T_d9ae5_row11_col7\" class=\"data row11 col7\" >0.49</td>\n",
              "      <td id=\"T_d9ae5_row11_col8\" class=\"data row11 col8\" >0.62</td>\n",
              "      <td id=\"T_d9ae5_row11_col9\" class=\"data row11 col9\" >0.6</td>\n",
              "      <td id=\"T_d9ae5_row11_col10\" class=\"data row11 col10\" >0.67</td>\n",
              "      <td id=\"T_d9ae5_row11_col11\" class=\"data row11 col11\" >1</td>\n",
              "      <td id=\"T_d9ae5_row11_col12\" class=\"data row11 col12\" >0.52</td>\n",
              "      <td id=\"T_d9ae5_row11_col13\" class=\"data row11 col13\" >0.46</td>\n",
              "      <td id=\"T_d9ae5_row11_col14\" class=\"data row11 col14\" >0.61</td>\n",
              "    </tr>\n",
              "    <tr>\n",
              "      <th id=\"T_d9ae5_level0_row12\" class=\"row_heading level0 row12\" >Biceps</th>\n",
              "      <td id=\"T_d9ae5_row12_col0\" class=\"data row12 col0\" >-0.51</td>\n",
              "      <td id=\"T_d9ae5_row12_col1\" class=\"data row12 col1\" >0.51</td>\n",
              "      <td id=\"T_d9ae5_row12_col2\" class=\"data row12 col2\" >-0.023</td>\n",
              "      <td id=\"T_d9ae5_row12_col3\" class=\"data row12 col3\" >0.8</td>\n",
              "      <td id=\"T_d9ae5_row12_col4\" class=\"data row12 col4\" >0.19</td>\n",
              "      <td id=\"T_d9ae5_row12_col5\" class=\"data row12 col5\" >0.73</td>\n",
              "      <td id=\"T_d9ae5_row12_col6\" class=\"data row12 col6\" >0.73</td>\n",
              "      <td id=\"T_d9ae5_row12_col7\" class=\"data row12 col7\" >0.69</td>\n",
              "      <td id=\"T_d9ae5_row12_col8\" class=\"data row12 col8\" >0.73</td>\n",
              "      <td id=\"T_d9ae5_row12_col9\" class=\"data row12 col9\" >0.76</td>\n",
              "      <td id=\"T_d9ae5_row12_col10\" class=\"data row12 col10\" >0.67</td>\n",
              "      <td id=\"T_d9ae5_row12_col11\" class=\"data row12 col11\" >0.52</td>\n",
              "      <td id=\"T_d9ae5_row12_col12\" class=\"data row12 col12\" >1</td>\n",
              "      <td id=\"T_d9ae5_row12_col13\" class=\"data row12 col13\" >0.67</td>\n",
              "      <td id=\"T_d9ae5_row12_col14\" class=\"data row12 col14\" >0.63</td>\n",
              "    </tr>\n",
              "    <tr>\n",
              "      <th id=\"T_d9ae5_level0_row13\" class=\"row_heading level0 row13\" >Forearm</th>\n",
              "      <td id=\"T_d9ae5_row13_col0\" class=\"data row13 col0\" >-0.36</td>\n",
              "      <td id=\"T_d9ae5_row13_col1\" class=\"data row13 col1\" >0.37</td>\n",
              "      <td id=\"T_d9ae5_row13_col2\" class=\"data row13 col2\" >-0.061</td>\n",
              "      <td id=\"T_d9ae5_row13_col3\" class=\"data row13 col3\" >0.62</td>\n",
              "      <td id=\"T_d9ae5_row13_col4\" class=\"data row13 col4\" >0.21</td>\n",
              "      <td id=\"T_d9ae5_row13_col5\" class=\"data row13 col5\" >0.61</td>\n",
              "      <td id=\"T_d9ae5_row13_col6\" class=\"data row13 col6\" >0.57</td>\n",
              "      <td id=\"T_d9ae5_row13_col7\" class=\"data row13 col7\" >0.49</td>\n",
              "      <td id=\"T_d9ae5_row13_col8\" class=\"data row13 col8\" >0.53</td>\n",
              "      <td id=\"T_d9ae5_row13_col9\" class=\"data row13 col9\" >0.55</td>\n",
              "      <td id=\"T_d9ae5_row13_col10\" class=\"data row13 col10\" >0.54</td>\n",
              "      <td id=\"T_d9ae5_row13_col11\" class=\"data row13 col11\" >0.46</td>\n",
              "      <td id=\"T_d9ae5_row13_col12\" class=\"data row13 col12\" >0.67</td>\n",
              "      <td id=\"T_d9ae5_row13_col13\" class=\"data row13 col13\" >1</td>\n",
              "      <td id=\"T_d9ae5_row13_col14\" class=\"data row13 col14\" >0.58</td>\n",
              "    </tr>\n",
              "    <tr>\n",
              "      <th id=\"T_d9ae5_level0_row14\" class=\"row_heading level0 row14\" >Wrist</th>\n",
              "      <td id=\"T_d9ae5_row14_col0\" class=\"data row14 col0\" >-0.33</td>\n",
              "      <td id=\"T_d9ae5_row14_col1\" class=\"data row14 col1\" >0.35</td>\n",
              "      <td id=\"T_d9ae5_row14_col2\" class=\"data row14 col2\" >0.22</td>\n",
              "      <td id=\"T_d9ae5_row14_col3\" class=\"data row14 col3\" >0.73</td>\n",
              "      <td id=\"T_d9ae5_row14_col4\" class=\"data row14 col4\" >0.31</td>\n",
              "      <td id=\"T_d9ae5_row14_col5\" class=\"data row14 col5\" >0.74</td>\n",
              "      <td id=\"T_d9ae5_row14_col6\" class=\"data row14 col6\" >0.66</td>\n",
              "      <td id=\"T_d9ae5_row14_col7\" class=\"data row14 col7\" >0.61</td>\n",
              "      <td id=\"T_d9ae5_row14_col8\" class=\"data row14 col8\" >0.63</td>\n",
              "      <td id=\"T_d9ae5_row14_col9\" class=\"data row14 col9\" >0.56</td>\n",
              "      <td id=\"T_d9ae5_row14_col10\" class=\"data row14 col10\" >0.67</td>\n",
              "      <td id=\"T_d9ae5_row14_col11\" class=\"data row14 col11\" >0.61</td>\n",
              "      <td id=\"T_d9ae5_row14_col12\" class=\"data row14 col12\" >0.63</td>\n",
              "      <td id=\"T_d9ae5_row14_col13\" class=\"data row14 col13\" >0.58</td>\n",
              "      <td id=\"T_d9ae5_row14_col14\" class=\"data row14 col14\" >1</td>\n",
              "    </tr>\n",
              "  </tbody>\n",
              "</table>\n"
            ],
            "text/plain": [
              "<pandas.io.formats.style.Styler at 0x7f5cf85fc700>"
            ]
          },
          "execution_count": 233,
          "metadata": {},
          "output_type": "execute_result"
        }
      ],
      "source": [
        "df.corr().style.background_gradient('gray').format('{:.2g}'.format)"
      ]
    },
    {
      "cell_type": "markdown",
      "metadata": {
        "id": "jQMgz-6wXdqd"
      },
      "source": [
        "**Вопрос.** Глядя на карту корреляций, можете ли вы выявить линейно зависимые признаки?\n",
        "\n",
        "<u>**Ответ**</u>: Близкие к -1 или 1 являются линейно зависимыми, те:\n",
        "\n",
        "Density - со всеми кроме Height\n",
        "\n",
        "BodyFat - Density, Chest, Abdomen\n",
        "\n",
        "Weight - Neck, Chest, Abdomen, Hip, Thigh, Knee, Biceps, Wrist\n",
        "\n",
        "Neck - Weight, Chest, Abdomen, Hip, Biceps, Wrist\n",
        "\n",
        "Abdomen - со всеми кроме Age, Ankle,Biceps, Forearm, Wrist\n"
      ]
    },
    {
      "cell_type": "markdown",
      "metadata": {
        "id": "RQrv4XW4XffW"
      },
      "source": [
        "### Определение целевой и объясняющих переменных"
      ]
    },
    {
      "cell_type": "markdown",
      "metadata": {
        "id": "HDv_Fdz9Mhza"
      },
      "source": [
        "Выберите величину, которую вы собираетесь предсказывать. На выбор: **возраст**, **рост** или **вес**. Укажите это снизу:"
      ]
    },
    {
      "cell_type": "markdown",
      "metadata": {
        "id": "q7sm9yLyLyfx"
      },
      "source": [
        "### Я предсказываю <u>**Weight**</u>"
      ]
    },
    {
      "cell_type": "markdown",
      "metadata": {
        "id": "Mh1KzT96YIbm"
      },
      "source": [
        "Отберите признаки, по которым вы будете предсказывать целевую переменную (список из названий столбцов) и запишите их в переменную `cols`.\n",
        "\n",
        "**Вопрос.** По какому критерию нужно отбирать объясняющие переменные (переменные, по которым предсказываем целевую)\n",
        "\n",
        "<u>**Ответ**</u>: Чем ближе к 1 зависимость тем лучше"
      ]
    },
    {
      "cell_type": "markdown",
      "metadata": {
        "id": "sIgaxydGahMb"
      },
      "source": [
        "**(*) Дополнительно.** Постройте графики рассеяния между объясняющими переменными и целевой переменной. Наблюдаются ли линейные зависимости?\n",
        "\n",
        "<u>**Ответ**</u>: Да"
      ]
    },
    {
      "cell_type": "code",
      "execution_count": 234,
      "metadata": {
        "id": "NDM1nAILYUqs"
      },
      "outputs": [
        {
          "data": {
            "image/png": "[encoded data removed]",
            "text/plain": [
              "<Figure size 640x480 with 8 Axes>"
            ]
          },
          "metadata": {},
          "output_type": "display_data"
        }
      ],
      "source": [
        "### ЗДЕСЬ ВАШ КОД ¯\\_(ツ)_/¯ \n",
        "\n",
        "cols =  ['Neck', 'Chest', 'Abdomen', 'Hip', 'Thigh', 'Knee', 'Biceps', 'Wrist']# список из столбцов - объясняющих переменных\n",
        "X = df[cols] # отбираем нужные столбцы из исходного датафрейма\n",
        "plt.subplot(3, 4, 1)\n",
        "plt.scatter(df['Weight'], X['Neck'], c = 'firebrick')\n",
        "plt.title('Neck')\n",
        "plt.subplot(3, 4, 2)\n",
        "plt.scatter(df['Weight'], X['Chest'], c = 'sienna')\n",
        "plt.title('Chest')\n",
        "plt.subplot(3, 4, 3)\n",
        "plt.scatter(df['Weight'], X['Abdomen'], c = 'orange')\n",
        "plt.title('Abdomen')\n",
        "plt.subplot(3, 4, 4)\n",
        "plt.scatter(df['Weight'], X['Hip'], c = 'olivedrab')\n",
        "plt.title('Hip')\n",
        "plt.subplot(3, 4, 5)\n",
        "plt.scatter(df['Weight'], X['Thigh'], c = 'green')\n",
        "plt.title('Thigh')\n",
        "plt.subplot(3, 4, 6)\n",
        "plt.scatter(df['Weight'], X['Knee'], c = 'lime')\n",
        "plt.title('Knee')\n",
        "plt.subplot(3, 4, 7)\n",
        "plt.scatter(df['Weight'], X['Biceps'], c = 'rebeccapurple')\n",
        "plt.title('Biceps')\n",
        "plt.subplot(3, 4, 8)\n",
        "plt.scatter(df['Weight'], X['Wrist'], c = 'fuchsia')\n",
        "plt.title('Wrist')\n",
        "plt.show()"
      ]
    },
    {
      "cell_type": "markdown",
      "metadata": {
        "id": "ycVGDmW_NmWV"
      },
      "source": [
        "Запишите в переменную `y` столбец-признак, который предсказываете, а в переменную `X` признаки, по которым предсказываете"
      ]
    },
    {
      "cell_type": "code",
      "execution_count": 235,
      "metadata": {
        "id": "991yG5HaNVVV"
      },
      "outputs": [],
      "source": [
        "### ЗДЕСЬ ВАШ КОД ¯\\_(ツ)_/¯ \n",
        "\n",
        "X, y = X, df['Weight']"
      ]
    },
    {
      "cell_type": "markdown",
      "metadata": {
        "id": "VXbGmUNqKxP3"
      },
      "source": [
        "### Разбиение данных"
      ]
    },
    {
      "cell_type": "markdown",
      "metadata": {
        "id": "Z1Bj6dkHKzTm"
      },
      "source": [
        "Разбейте данные на тренировочную и тестовую части. На тестовую выделите 20% выборки, можно зафиксировать `random_state`"
      ]
    },
    {
      "cell_type": "code",
      "execution_count": 236,
      "metadata": {
        "id": "m-lWcB-9gGzF"
      },
      "outputs": [],
      "source": [
        "from sklearn.model_selection import train_test_split"
      ]
    },
    {
      "cell_type": "code",
      "execution_count": 237,
      "metadata": {
        "id": "b09LDwzCKzEG"
      },
      "outputs": [],
      "source": [
        "### ЗДЕСЬ ВАШ КОД ¯\\_(ツ)_/¯ \n",
        "\n",
        "X_train, X_test, y_train, y_test = train_test_split(X, y, test_size=0.2, random_state=42)"
      ]
    },
    {
      "cell_type": "markdown",
      "metadata": {
        "id": "L1bGPfp6ry79"
      },
      "source": [
        "### Масштабирование признаков"
      ]
    },
    {
      "cell_type": "markdown",
      "metadata": {
        "id": "mvH2zz_Qr3O8"
      },
      "source": [
        "Отмасштабируйте признаки с помощью [`StandardScaler`](https://scikit-learn.org/stable/modules/generated/sklearn.preprocessing.StandardScaler.html). Не забудьте, что scaler \"обучается\" только на тренировочных признаках"
      ]
    },
    {
      "cell_type": "code",
      "execution_count": 238,
      "metadata": {
        "id": "OZ8Exo1kr2Yh"
      },
      "outputs": [],
      "source": [
        "from sklearn.preprocessing import StandardScaler"
      ]
    },
    {
      "cell_type": "code",
      "execution_count": 239,
      "metadata": {
        "id": "x-wWJ2s1sMk7"
      },
      "outputs": [],
      "source": [
        "### ЗДЕСЬ ВАШ КОД ¯\\_(ツ)_/¯ \n",
        "\n",
        "scaler = StandardScaler()\n",
        "X_train_scaled = scaler.fit_transform(X_train)\n"
      ]
    },
    {
      "cell_type": "markdown",
      "metadata": {
        "id": "HJdmKB3AKjmX"
      },
      "source": [
        "### Построение модели линейной регрессии"
      ]
    },
    {
      "cell_type": "markdown",
      "metadata": {
        "id": "W4SLQTQzPtYg"
      },
      "source": [
        "Обучите модель [`Ridge`](https://scikit-learn.org/stable/modules/generated/sklearn.linear_model.Ridge.html) на тренировочных данных и сделайте предсказание"
      ]
    },
    {
      "cell_type": "code",
      "execution_count": 240,
      "metadata": {
        "id": "iWlDtpjzgFjg"
      },
      "outputs": [],
      "source": [
        "from sklearn.linear_model import Ridge"
      ]
    },
    {
      "cell_type": "code",
      "execution_count": 241,
      "metadata": {
        "id": "mhoBmo1KKl1z"
      },
      "outputs": [
        {
          "name": "stdout",
          "output_type": "stream",
          "text": [
            "predict [189.64984623]\n"
          ]
        },
        {
          "name": "stderr",
          "output_type": "stream",
          "text": [
            "/home/alex/sber_hw_bmla/venv/lib/python3.10/site-packages/sklearn/base.py:450: UserWarning: X does not have valid feature names, but Ridge was fitted with feature names\n",
            "  warnings.warn(\n",
            "/home/alex/sber_hw_bmla/venv/lib/python3.10/site-packages/sklearn/base.py:450: UserWarning: X does not have valid feature names, but Ridge was fitted with feature names\n",
            "  warnings.warn(\n",
            "/home/alex/sber_hw_bmla/venv/lib/python3.10/site-packages/sklearn/base.py:450: UserWarning: X does not have valid feature names, but Ridge was fitted with feature names\n",
            "  warnings.warn(\n"
          ]
        }
      ],
      "source": [
        "### ЗДЕСЬ ВАШ КОД ¯\\_(ツ)_/¯\n",
        "\n",
        "linreg = Ridge() # здесь будет ваша модель\n",
        "linreg.fit(X_train, y_train)\n",
        "y_pred_train = linreg.predict(X_train_scaled) # здесь будут предсказания на тренировочных данных\n",
        "y_pred_test = linreg.predict(scaler.transform(X_test)) # здесь будут предсказания на тестовых данных\n",
        "new = [[42.4, 97.3, 100.0, 101.9, 63.2, 42.2, 32.2, 17.7]]\n",
        "print('predict', linreg.predict(new)) #183.85786192"
      ]
    },
    {
      "cell_type": "markdown",
      "metadata": {
        "id": "X4O7xCqyQCG8"
      },
      "source": [
        "В качестве метрики возьмём **RMSE**. Оцените качество по этой метрике на тренировочной и тестовой выборках. Для вычисления метрики можете воспользоваться функцией **rmse_score**"
      ]
    },
    {
      "cell_type": "code",
      "execution_count": 242,
      "metadata": {
        "id": "pVlRb2lMgD7H"
      },
      "outputs": [],
      "source": [
        "def rmse_score(y_true, y_pred):\n",
        "    error = (y_true - y_pred) ** 2\n",
        "    return np.sqrt(np.mean(error))"
      ]
    },
    {
      "cell_type": "code",
      "execution_count": 243,
      "metadata": {
        "colab": {
          "base_uri": "https://localhost:8080/"
        },
        "id": "vvNS139ZQOmZ",
        "outputId": "6f2bc334-0dd8-4874-d96c-89c478c35ae4"
      },
      "outputs": [
        {
          "name": "stdout",
          "output_type": "stream",
          "text": [
            "Качество на тренировочной выборке: 435.65372628872046\n",
            "Качество на тестовой выборке: 437.4693828339335\n"
          ]
        }
      ],
      "source": [
        "### ЗДЕСЬ ВАШ КОД ¯\\_(ツ)_/¯\n",
        "rmse_train = rmse_score(y_train, y_pred_train)\n",
        "rmse_test = rmse_score(y_test, y_pred_test)\n",
        "print('Качество на тренировочной выборке:', rmse_train)\n",
        "print('Качество на тестовой выборке:', rmse_test)"
      ]
    },
    {
      "cell_type": "markdown",
      "metadata": {
        "id": "MDRWFq81QgsI"
      },
      "source": [
        "**(*) Дополнительно.** Какое качество будет у константной модели по выбранной метрике? Лучше ли предсказания нашей модели?\n",
        "\n",
        "<u>**Ответ**</u>: _ _ _ _ _ _ _ _ _ _ _ _"
      ]
    },
    {
      "cell_type": "markdown",
      "metadata": {
        "id": "W5zbHZ7SRbls"
      },
      "source": [
        "### Подбор гиперпараметров"
      ]
    },
    {
      "cell_type": "markdown",
      "metadata": {
        "id": "cQ27zUPLReWc"
      },
      "source": [
        "Попробуйте подобрать лучший коэффициент регуляризации с помощью кросс-валидации. Для этого можно воспользоваться готовым классом [`RidgeCV`](https://scikit-learn.org/stable/modules/generated/sklearn.linear_model.RidgeCV.html)"
      ]
    },
    {
      "cell_type": "markdown",
      "metadata": {
        "id": "RSEkrhaYTTVl"
      },
      "source": [
        "Основные моменты:\n",
        "* Запишите список значений коэффициента регуляризацию в переменную `alphas`\n",
        "* Не забудьте указать параметр `scoring` равным \"neg_root_mean_squared_error\""
      ]
    },
    {
      "cell_type": "code",
      "execution_count": 244,
      "metadata": {
        "id": "96cgYy2UOpUV"
      },
      "outputs": [],
      "source": [
        "from sklearn.linear_model import RidgeCV\n",
        "from sklearn.model_selection import RepeatedKFold"
      ]
    },
    {
      "cell_type": "code",
      "execution_count": 245,
      "metadata": {
        "id": "QxD4TYX5Rwwo"
      },
      "outputs": [
        {
          "name": "stdout",
          "output_type": "stream",
          "text": [
            "Качество на тренировочной выборке: 433.5930014935912\n",
            "Качество на тестовой выборке: 435.3986806304874\n",
            "model alpha 10.0\n",
            "param =  0.9452714339368138\n",
            "predict [189.89594676]\n"
          ]
        },
        {
          "name": "stderr",
          "output_type": "stream",
          "text": [
            "/home/alex/sber_hw_bmla/venv/lib/python3.10/site-packages/sklearn/base.py:450: UserWarning: X does not have valid feature names, but RidgeCV was fitted with feature names\n",
            "  warnings.warn(\n",
            "/home/alex/sber_hw_bmla/venv/lib/python3.10/site-packages/sklearn/base.py:450: UserWarning: X does not have valid feature names, but RidgeCV was fitted with feature names\n",
            "  warnings.warn(\n",
            "/home/alex/sber_hw_bmla/venv/lib/python3.10/site-packages/sklearn/base.py:450: UserWarning: X does not have valid feature names, but RidgeCV was fitted with feature names\n",
            "  warnings.warn(\n"
          ]
        }
      ],
      "source": [
        "### ЗДЕСЬ ВАШ КОД ¯\\_(ツ)_/¯\n",
        "\n",
        "alphas = [0.1, 1, 10] # можно добавить другие перебираемые значения\n",
        "cv = RepeatedKFold(n_splits = 10, n_repeats = 3, random_state =1)\n",
        "ridge_cv = RidgeCV(alphas = alphas, cv = cv, scoring = \"neg_root_mean_squared_error\") # модель со встроенной кросс-валидацией\n",
        "ridge_cv.fit(X_train, y_train)\n",
        "\n",
        "y_pred_train = ridge_cv.predict(X_train_scaled) # здесь будут предсказания на тренировочных данных\n",
        "y_pred_test = ridge_cv.predict(scaler.transform(X_test)) # здесь будут предсказания на тестовых данных\n",
        "\n",
        "rmse_train = rmse_score(y_train, y_pred_train)\n",
        "rmse_test = rmse_score(y_test, y_pred_test)\n",
        "print('Качество на тренировочной выборке:', rmse_train)\n",
        "print('Качество на тестовой выборке:', rmse_test)\n",
        "print('model alpha', ridge_cv.alpha_)\n",
        "print('param = ', ridge_cv.score(X_train, y_train))\n",
        "\n",
        "\n",
        "new = [[42.4, 97.3, 100.0, 101.9, 63.2, 42.2, 32.2, 17.7]]\n",
        "print('predict', ridge_cv.predict(new))"
      ]
    },
    {
      "cell_type": "markdown",
      "metadata": {
        "id": "MhzlFgDhUshu"
      },
      "source": [
        "**Вопрос.** Какое получилось лучшее значений гиперпараметра?"
      ]
    },
    {
      "cell_type": "code",
      "execution_count": 246,
      "metadata": {
        "id": "byCBLaF9WGlp"
      },
      "outputs": [
        {
          "name": "stdout",
          "output_type": "stream",
          "text": [
            "Лучшее значение гиперпараметра: None\n"
          ]
        }
      ],
      "source": [
        "### ЗДЕСЬ ВАШ КОД ¯\\_(ツ)_/¯\n",
        "\n",
        "print('Лучшее значение гиперпараметра:', None)"
      ]
    },
    {
      "cell_type": "markdown",
      "metadata": {
        "id": "75zIH_weT2cX"
      },
      "source": [
        "Обучите модель `Ridge` с лучшим значением гиперпараметра на тренировочных данных и оцените качество модели"
      ]
    },
    {
      "cell_type": "code",
      "execution_count": 247,
      "metadata": {
        "id": "BvZTUulOWPf0"
      },
      "outputs": [
        {
          "name": "stdout",
          "output_type": "stream",
          "text": [
            "Качество на тренировочной выборке: 433.5930014935912\n",
            "Качество на тестовой выборке: 435.3986806304874\n",
            "param =  0.9452714339368138\n",
            "predict [189.89594676]\n"
          ]
        },
        {
          "name": "stderr",
          "output_type": "stream",
          "text": [
            "/home/alex/sber_hw_bmla/venv/lib/python3.10/site-packages/sklearn/base.py:450: UserWarning: X does not have valid feature names, but Ridge was fitted with feature names\n",
            "  warnings.warn(\n",
            "/home/alex/sber_hw_bmla/venv/lib/python3.10/site-packages/sklearn/base.py:450: UserWarning: X does not have valid feature names, but Ridge was fitted with feature names\n",
            "  warnings.warn(\n",
            "/home/alex/sber_hw_bmla/venv/lib/python3.10/site-packages/sklearn/base.py:450: UserWarning: X does not have valid feature names, but Ridge was fitted with feature names\n",
            "  warnings.warn(\n"
          ]
        }
      ],
      "source": [
        "### ЗДЕСЬ ВАШ КОД ¯\\_(ツ)_/¯\n",
        "\n",
        "linreg = Ridge(alpha= 10) # здесь модель с лучшим значением коэффициента регуляризации\n",
        "linreg.fit(X_train, y_train)\n",
        "\n",
        "y_pred_train = linreg.predict(X_train_scaled) # здесь будут предсказания на тренировочных данных\n",
        "y_pred_test = linreg.predict(scaler.transform(X_test)) # здесь будут предсказания на тестовых данных\n",
        "\n",
        "rmse_train = rmse_score(y_train, y_pred_train)\n",
        "rmse_test = rmse_score(y_test, y_pred_test)\n",
        "print('Качество на тренировочной выборке:', rmse_train)\n",
        "print('Качество на тестовой выборке:', rmse_test)\n",
        "print('param = ', linreg.score(X_train, y_train))\n",
        "\n",
        "new = [[42.4, 97.3, 100.0, 101.9, 63.2, 42.2, 32.2, 17.7]]\n",
        "print('predict', linreg.predict(new))\n"
      ]
    },
    {
      "cell_type": "markdown",
      "metadata": {
        "id": "Ms8LIgZKTrAb"
      },
      "source": [
        "**Вопрос.** Улучшилось ли качество модели после подбора гиперпараметра?\n",
        "\n",
        "<u>**Ответ**</u>: _ _ _ _ _ _ _ _ _ _ _ _"
      ]
    },
    {
      "cell_type": "markdown",
      "metadata": {
        "id": "sbcU_MbqR5-A"
      },
      "source": [
        "**(*) Дополнительно.** Можете поварьировать число сплитов (параметр `cv`). Отразилось ли это на лучшем значении гиперпараметра/качестве модели?\n",
        "\n",
        "<u>**Ответ**</u>: _ _ _ _ _ _ _ _ _ _ _ _"
      ]
    },
    {
      "cell_type": "markdown",
      "metadata": {
        "id": "2d8sZUDigX59"
      },
      "source": [
        "### Выводы\n"
      ]
    },
    {
      "cell_type": "markdown",
      "metadata": {
        "id": "SzH9TZOycn5c"
      },
      "source": [
        "**Вопрос.** Напишите выводы о проделанной работе: что было сделано, какие результаты получены?\n",
        "\n",
        "<u>**Ответ**</u>: _ _ _ _ _ _ _ _ _ _ _ _"
      ]
    },
    {
      "cell_type": "markdown",
      "metadata": {
        "id": "qOy6VJYSgdjz"
      },
      "source": [
        "### (*) Дополнительно"
      ]
    },
    {
      "cell_type": "markdown",
      "metadata": {
        "id": "A5AsxwSiVFOW"
      },
      "source": [
        "**(*) Дополнительно.** Обучите модель [`Lasso`](https://scikit-learn.org/stable/modules/generated/sklearn.linear_model.Lasso.html), попробуйте также подобрать коэффициенты регуляризации (вам может пригодиться [`LassoCV`](https://scikit-learn.org/stable/modules/generated/sklearn.linear_model.LassoCV.html)) и оценить модель с лучшим гиперпараметром. Сравните получившиеся модели Ridge и Lasso\n",
        "\n",
        "<u>**Ответ**</u>: _ _ _ _ _ _ _ _ _ _ _ _"
      ]
    },
    {
      "cell_type": "markdown",
      "metadata": {
        "id": "GEUy8VZRY3KP"
      },
      "source": [
        "**(*) Дополнительно** Для улучшения качества модели может помочь более качественная предобработка данных. Попробуйте:\n",
        "1. Вместо выбрасывания строк с пустыми значениями попробуйте заполнить их средним (или медианой) по столбцу. Помните, что среднее считается только по тренировочной выборке\n",
        "2. Попробуйте выявить выбросы в данных. Избавьтесь от них или заполните адекватным значением\n",
        "3. Попробуйте другой способ масштабирования (например, [`MinMaxScaler`](https://scikit-learn.org/stable/modules/generated/sklearn.preprocessing.MinMaxScaler.html)) или не масштабировать данные\n",
        "4. Посмотрите на распределение целевой переменной. Попробуйте привести его к нормальному распределению (логарифмирование целевой переменной, возведение в степень,..). При подсчёте метрики придётся применить обратное преобразование целевой переменной\n",
        "\n",
        "Напишите результаты экспериментов:\n",
        "\n",
        "<u>**Ответ**</u>: _ _ _ _ _ _ _ _ _ _ _ _"
      ]
    }
  ],
  "metadata": {
    "colab": {
      "collapsed_sections": [],
      "provenance": [],
      "toc_visible": true
    },
    "kernelspec": {
      "display_name": "Python 3.10.6 ('venv': venv)",
      "language": "python",
      "name": "python3"
    },
    "language_info": {
      "codemirror_mode": {
        "name": "ipython",
        "version": 3
      },
      "file_extension": ".py",
      "mimetype": "text/x-python",
      "name": "python",
      "nbconvert_exporter": "python",
      "pygments_lexer": "ipython3",
      "version": "3.10.6"
    },
    "vscode": {
      "interpreter": {
        "hash": "f3445672a780992f57871d878c4de2b100971feb00980d3ff34dd99a961861db"
      }
    }
  },
  "nbformat": 4,
  "nbformat_minor": 0
}
