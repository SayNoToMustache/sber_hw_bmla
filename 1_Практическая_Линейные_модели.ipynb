{
  "cells": [
    {
      "cell_type": "markdown",
      "metadata": {
        "id": "BND1G8Fuqxfe"
      },
      "source": [
        "## О задании\n",
        "В этом задании вы будете предсказывать один из параметров человека (рост, вес, возраст).\n",
        "\n",
        "Работать мы будем с датасетом человеческих параметров [Body Fat Prediction Dataset](https://www.kaggle.com/datasets/fedesoriano/body-fat-prediction-dataset).\n",
        "\n",
        "### Формат сдачи\n",
        "Данное задание сдаётся через [эту гугл форму](https://forms.gle/YdvLRGWAsNaNvQvs7). Не забудьте открыть доступ по ссылке к файлу (справа сверху \"Поделиться\" или \"Share\")"
      ]
    },
    {
      "cell_type": "markdown",
      "source": [
        "## Приступим"
      ],
      "metadata": {
        "id": "_n936tqZG3bv"
      }
    },
    {
      "cell_type": "markdown",
      "source": [
        "Сделаем импорты"
      ],
      "metadata": {
        "id": "Yy4kifdSG7Ul"
      }
    },
    {
      "cell_type": "code",
      "execution_count": null,
      "metadata": {
        "ExecuteTime": {
          "end_time": "2020-09-26T16:48:20.566549Z",
          "start_time": "2020-09-26T16:48:19.893995Z"
        },
        "id": "2wNOGbtOqxfl"
      },
      "outputs": [],
      "source": [
        "import pandas as pd\n",
        "import numpy as np\n",
        "import matplotlib.pyplot as plt\n",
        "import seaborn as sns"
      ]
    },
    {
      "cell_type": "markdown",
      "source": [
        "Скачаем данные"
      ],
      "metadata": {
        "id": "tOSsj84gHWlq"
      }
    },
    {
      "cell_type": "code",
      "source": [
        "!gdown --id 1mgembIyezFrbTlNlRFO5fZu7TcBfT_Uu"
      ],
      "metadata": {
        "colab": {
          "base_uri": "https://localhost:8080/"
        },
        "id": "mHPPxc-TeyBG",
        "outputId": "a9da97b7-94e9-4f01-b5ff-a9a1542d44d4"
      },
      "execution_count": null,
      "outputs": [
        {
          "output_type": "stream",
          "name": "stdout",
          "text": [
            "/usr/local/lib/python3.7/dist-packages/gdown/cli.py:131: FutureWarning: Option `--id` was deprecated in version 4.3.1 and will be removed in 5.0. You don't need to pass it anymore to use a file ID.\n",
            "  category=FutureWarning,\n",
            "Downloading...\n",
            "From: https://drive.google.com/uc?id=1mgembIyezFrbTlNlRFO5fZu7TcBfT_Uu\n",
            "To: /content/bodyfat.csv\n",
            "100% 19.6k/19.6k [00:00<00:00, 26.7MB/s]\n"
          ]
        }
      ]
    },
    {
      "cell_type": "markdown",
      "source": [
        "Загрузите данные из файла `bodyfat.csv` и сохраните в переменную `df`. Выведите первые 5 строк, число строк и столбцов"
      ],
      "metadata": {
        "id": "KzUU6xPOHADd"
      }
    },
    {
      "cell_type": "code",
      "source": [
        "### ЗДЕСЬ ВАШ КОД ¯\\_(ツ)_/¯ \n",
        "\n",
        "df = None"
      ],
      "metadata": {
        "id": "vU4ez4DJC2x7"
      },
      "execution_count": null,
      "outputs": []
    },
    {
      "cell_type": "markdown",
      "source": [
        "### Первичный анализ"
      ],
      "metadata": {
        "id": "shL3IiYOJarE"
      }
    },
    {
      "cell_type": "markdown",
      "source": [
        "Ознакомиться со значениями признаков вы можете [по ссылке](https://www.kaggle.com/datasets/fedesoriano/body-fat-prediction-dataset)"
      ],
      "metadata": {
        "id": "le0xZoCwKIxl"
      }
    },
    {
      "cell_type": "markdown",
      "source": [
        "Посмотрите, есть ли пропуски в данных. Если есть, то избавьтесь от них. Вам может понадобиться метод [`dropna`](https://pandas.pydata.org/docs/reference/api/pandas.DataFrame.dropna.html)"
      ],
      "metadata": {
        "id": "cOik_bNVHjoR"
      }
    },
    {
      "cell_type": "code",
      "execution_count": null,
      "metadata": {
        "id": "xvyN0aVIqxge"
      },
      "outputs": [],
      "source": [
        "### ЗДЕСЬ ВАШ КОД ¯\\_(ツ)_/¯ "
      ]
    },
    {
      "cell_type": "markdown",
      "source": [
        "Построим карту корреляций"
      ],
      "metadata": {
        "id": "i8lhP4mcXYT8"
      }
    },
    {
      "cell_type": "code",
      "source": [
        "df.corr().style.background_gradient('gray').format('{:.2g}'.format)"
      ],
      "metadata": {
        "colab": {
          "base_uri": "https://localhost:8080/",
          "height": 520
        },
        "id": "4VgKlZtOICSs",
        "outputId": "0074e6df-ba3c-40c9-db5f-3bfcb4b7b0e7"
      },
      "execution_count": null,
      "outputs": [
        {
          "output_type": "execute_result",
          "data": {
            "text/plain": [
              "<pandas.io.formats.style.Styler at 0x7fd864c9e550>"
            ],
            "text/html": [
              "<style type=\"text/css\">\n",
              "#T_613da_row0_col0, #T_613da_row1_col1, #T_613da_row2_col2, #T_613da_row3_col3, #T_613da_row4_col4, #T_613da_row5_col5, #T_613da_row6_col6, #T_613da_row7_col7, #T_613da_row8_col8, #T_613da_row9_col9, #T_613da_row10_col10, #T_613da_row11_col11, #T_613da_row12_col12, #T_613da_row13_col13, #T_613da_row14_col14 {\n",
              "  background-color: #ffffff;\n",
              "  color: #000000;\n",
              "}\n",
              "#T_613da_row0_col1, #T_613da_row0_col2, #T_613da_row0_col3, #T_613da_row0_col5, #T_613da_row0_col6, #T_613da_row0_col7, #T_613da_row0_col8, #T_613da_row0_col9, #T_613da_row0_col10, #T_613da_row0_col11, #T_613da_row0_col12, #T_613da_row0_col13, #T_613da_row0_col14, #T_613da_row1_col0, #T_613da_row2_col4 {\n",
              "  background-color: #000000;\n",
              "  color: #f1f1f1;\n",
              "}\n",
              "#T_613da_row0_col4, #T_613da_row2_col9 {\n",
              "  background-color: #3a3a3a;\n",
              "  color: #f1f1f1;\n",
              "}\n",
              "#T_613da_row1_col2 {\n",
              "  background-color: #727272;\n",
              "  color: #f1f1f1;\n",
              "}\n",
              "#T_613da_row1_col3, #T_613da_row11_col3 {\n",
              "  background-color: #c1c1c1;\n",
              "  color: #000000;\n",
              "}\n",
              "#T_613da_row1_col4 {\n",
              "  background-color: #111111;\n",
              "  color: #f1f1f1;\n",
              "}\n",
              "#T_613da_row1_col5, #T_613da_row11_col12 {\n",
              "  background-color: #a7a7a7;\n",
              "  color: #f1f1f1;\n",
              "}\n",
              "#T_613da_row1_col6, #T_613da_row7_col10 {\n",
              "  background-color: #d2d2d2;\n",
              "  color: #000000;\n",
              "}\n",
              "#T_613da_row1_col7 {\n",
              "  background-color: #e5e5e5;\n",
              "  color: #000000;\n",
              "}\n",
              "#T_613da_row1_col8, #T_613da_row13_col3 {\n",
              "  background-color: #c4c4c4;\n",
              "  color: #000000;\n",
              "}\n",
              "#T_613da_row1_col9, #T_613da_row13_col8, #T_613da_row14_col9 {\n",
              "  background-color: #b7b7b7;\n",
              "  color: #000000;\n",
              "}\n",
              "#T_613da_row1_col10, #T_613da_row10_col13, #T_613da_row14_col1 {\n",
              "  background-color: #ababab;\n",
              "  color: #f1f1f1;\n",
              "}\n",
              "#T_613da_row1_col11, #T_613da_row4_col11, #T_613da_row14_col4 {\n",
              "  background-color: #6b6b6b;\n",
              "  color: #f1f1f1;\n",
              "}\n",
              "#T_613da_row1_col12, #T_613da_row14_col11 {\n",
              "  background-color: #a8a8a8;\n",
              "  color: #f1f1f1;\n",
              "}\n",
              "#T_613da_row1_col13 {\n",
              "  background-color: #878787;\n",
              "  color: #f1f1f1;\n",
              "}\n",
              "#T_613da_row1_col14 {\n",
              "  background-color: #818181;\n",
              "  color: #f1f1f1;\n",
              "}\n",
              "#T_613da_row2_col0 {\n",
              "  background-color: #5b5b5b;\n",
              "  color: #f1f1f1;\n",
              "}\n",
              "#T_613da_row2_col1 {\n",
              "  background-color: #a4a4a4;\n",
              "  color: #f1f1f1;\n",
              "}\n",
              "#T_613da_row2_col3, #T_613da_row11_col0 {\n",
              "  background-color: #5d5d5d;\n",
              "  color: #f1f1f1;\n",
              "}\n",
              "#T_613da_row2_col5, #T_613da_row7_col2 {\n",
              "  background-color: #656565;\n",
              "  color: #f1f1f1;\n",
              "}\n",
              "#T_613da_row2_col6 {\n",
              "  background-color: #828282;\n",
              "  color: #f1f1f1;\n",
              "}\n",
              "#T_613da_row2_col7 {\n",
              "  background-color: #929292;\n",
              "  color: #f1f1f1;\n",
              "}\n",
              "#T_613da_row2_col8 {\n",
              "  background-color: #585858;\n",
              "  color: #f1f1f1;\n",
              "}\n",
              "#T_613da_row2_col10, #T_613da_row13_col4 {\n",
              "  background-color: #575757;\n",
              "  color: #f1f1f1;\n",
              "}\n",
              "#T_613da_row2_col11 {\n",
              "  background-color: #202020;\n",
              "  color: #f1f1f1;\n",
              "}\n",
              "#T_613da_row2_col12 {\n",
              "  background-color: #4c4c4c;\n",
              "  color: #f1f1f1;\n",
              "}\n",
              "#T_613da_row2_col13, #T_613da_row3_col0 {\n",
              "  background-color: #323232;\n",
              "  color: #f1f1f1;\n",
              "}\n",
              "#T_613da_row2_col14, #T_613da_row3_col4 {\n",
              "  background-color: #686868;\n",
              "  color: #f1f1f1;\n",
              "}\n",
              "#T_613da_row3_col1, #T_613da_row5_col14 {\n",
              "  background-color: #cecece;\n",
              "  color: #000000;\n",
              "}\n",
              "#T_613da_row3_col2 {\n",
              "  background-color: #353535;\n",
              "  color: #f1f1f1;\n",
              "}\n",
              "#T_613da_row3_col5 {\n",
              "  background-color: #e2e2e2;\n",
              "  color: #000000;\n",
              "}\n",
              "#T_613da_row3_col6, #T_613da_row6_col3, #T_613da_row9_col8 {\n",
              "  background-color: #efefef;\n",
              "  color: #000000;\n",
              "}\n",
              "#T_613da_row3_col7 {\n",
              "  background-color: #f0f0f0;\n",
              "  color: #000000;\n",
              "}\n",
              "#T_613da_row3_col8, #T_613da_row8_col3 {\n",
              "  background-color: #f6f6f6;\n",
              "  color: #000000;\n",
              "}\n",
              "#T_613da_row3_col9, #T_613da_row9_col3 {\n",
              "  background-color: #eaeaea;\n",
              "  color: #000000;\n",
              "}\n",
              "#T_613da_row3_col10, #T_613da_row8_col6 {\n",
              "  background-color: #e6e6e6;\n",
              "  color: #000000;\n",
              "}\n",
              "#T_613da_row3_col11, #T_613da_row10_col11, #T_613da_row11_col6, #T_613da_row14_col13 {\n",
              "  background-color: #b1b1b1;\n",
              "  color: #000000;\n",
              "}\n",
              "#T_613da_row3_col12, #T_613da_row5_col7, #T_613da_row9_col10 {\n",
              "  background-color: #dddddd;\n",
              "  color: #000000;\n",
              "}\n",
              "#T_613da_row3_col13, #T_613da_row11_col8, #T_613da_row13_col7 {\n",
              "  background-color: #b9b9b9;\n",
              "  color: #000000;\n",
              "}\n",
              "#T_613da_row3_col14, #T_613da_row9_col5 {\n",
              "  background-color: #cbcbcb;\n",
              "  color: #000000;\n",
              "}\n",
              "#T_613da_row4_col0 {\n",
              "  background-color: #8b8b8b;\n",
              "  color: #f1f1f1;\n",
              "}\n",
              "#T_613da_row4_col1, #T_613da_row4_col9 {\n",
              "  background-color: #737373;\n",
              "  color: #f1f1f1;\n",
              "}\n",
              "#T_613da_row4_col2 {\n",
              "  background-color: #151515;\n",
              "  color: #f1f1f1;\n",
              "}\n",
              "#T_613da_row4_col3 {\n",
              "  background-color: #909090;\n",
              "  color: #f1f1f1;\n",
              "}\n",
              "#T_613da_row4_col5, #T_613da_row4_col7 {\n",
              "  background-color: #7e7e7e;\n",
              "  color: #f1f1f1;\n",
              "}\n",
              "#T_613da_row4_col6, #T_613da_row4_col8 {\n",
              "  background-color: #7c7c7c;\n",
              "  color: #f1f1f1;\n",
              "}\n",
              "#T_613da_row4_col10 {\n",
              "  background-color: #858585;\n",
              "  color: #f1f1f1;\n",
              "}\n",
              "#T_613da_row4_col12 {\n",
              "  background-color: #777777;\n",
              "  color: #f1f1f1;\n",
              "}\n",
              "#T_613da_row4_col13 {\n",
              "  background-color: #6d6d6d;\n",
              "  color: #f1f1f1;\n",
              "}\n",
              "#T_613da_row4_col14 {\n",
              "  background-color: #7d7d7d;\n",
              "  color: #f1f1f1;\n",
              "}\n",
              "#T_613da_row5_col0, #T_613da_row6_col4 {\n",
              "  background-color: #424242;\n",
              "  color: #f1f1f1;\n",
              "}\n",
              "#T_613da_row5_col1, #T_613da_row6_col14, #T_613da_row12_col1, #T_613da_row13_col5 {\n",
              "  background-color: #bebebe;\n",
              "  color: #000000;\n",
              "}\n",
              "#T_613da_row5_col2 {\n",
              "  background-color: #4e4e4e;\n",
              "  color: #f1f1f1;\n",
              "}\n",
              "#T_613da_row5_col3, #T_613da_row6_col8 {\n",
              "  background-color: #e4e4e4;\n",
              "  color: #000000;\n",
              "}\n",
              "#T_613da_row5_col4 {\n",
              "  background-color: #5c5c5c;\n",
              "  color: #f1f1f1;\n",
              "}\n",
              "#T_613da_row5_col6, #T_613da_row12_col3 {\n",
              "  background-color: #dfdfdf;\n",
              "  color: #000000;\n",
              "}\n",
              "#T_613da_row5_col8, #T_613da_row7_col5, #T_613da_row10_col6 {\n",
              "  background-color: #d5d5d5;\n",
              "  color: #000000;\n",
              "}\n",
              "#T_613da_row5_col9 {\n",
              "  background-color: #cdcdcd;\n",
              "  color: #000000;\n",
              "}\n",
              "#T_613da_row5_col10, #T_613da_row9_col1, #T_613da_row10_col5 {\n",
              "  background-color: #c7c7c7;\n",
              "  color: #000000;\n",
              "}\n",
              "#T_613da_row5_col11 {\n",
              "  background-color: #969696;\n",
              "  color: #f1f1f1;\n",
              "}\n",
              "#T_613da_row5_col12, #T_613da_row6_col12, #T_613da_row8_col5, #T_613da_row12_col5 {\n",
              "  background-color: #d1d1d1;\n",
              "  color: #000000;\n",
              "}\n",
              "#T_613da_row5_col13, #T_613da_row8_col14, #T_613da_row12_col14, #T_613da_row13_col9 {\n",
              "  background-color: #b8b8b8;\n",
              "  color: #000000;\n",
              "}\n",
              "#T_613da_row6_col0 {\n",
              "  background-color: #272727;\n",
              "  color: #f1f1f1;\n",
              "}\n",
              "#T_613da_row6_col1, #T_613da_row7_col9 {\n",
              "  background-color: #d9d9d9;\n",
              "  color: #000000;\n",
              "}\n",
              "#T_613da_row6_col2 {\n",
              "  background-color: #5a5a5a;\n",
              "  color: #f1f1f1;\n",
              "}\n",
              "#T_613da_row6_col5, #T_613da_row10_col7 {\n",
              "  background-color: #dadada;\n",
              "  color: #000000;\n",
              "}\n",
              "#T_613da_row6_col7 {\n",
              "  background-color: #f4f4f4;\n",
              "  color: #000000;\n",
              "}\n",
              "#T_613da_row6_col9, #T_613da_row8_col12, #T_613da_row12_col7, #T_613da_row14_col5 {\n",
              "  background-color: #d3d3d3;\n",
              "  color: #000000;\n",
              "}\n",
              "#T_613da_row6_col10, #T_613da_row8_col1 {\n",
              "  background-color: #cfcfcf;\n",
              "  color: #000000;\n",
              "}\n",
              "#T_613da_row6_col11, #T_613da_row12_col11 {\n",
              "  background-color: #979797;\n",
              "  color: #f1f1f1;\n",
              "}\n",
              "#T_613da_row6_col13 {\n",
              "  background-color: #b0b0b0;\n",
              "  color: #000000;\n",
              "}\n",
              "#T_613da_row7_col0 {\n",
              "  background-color: #181818;\n",
              "  color: #f1f1f1;\n",
              "}\n",
              "#T_613da_row7_col1 {\n",
              "  background-color: #e7e7e7;\n",
              "  color: #000000;\n",
              "}\n",
              "#T_613da_row7_col3, #T_613da_row8_col7, #T_613da_row8_col9 {\n",
              "  background-color: #eeeeee;\n",
              "  color: #000000;\n",
              "}\n",
              "#T_613da_row7_col4 {\n",
              "  background-color: #383838;\n",
              "  color: #f1f1f1;\n",
              "}\n",
              "#T_613da_row7_col6 {\n",
              "  background-color: #f3f3f3;\n",
              "  color: #000000;\n",
              "}\n",
              "#T_613da_row7_col8 {\n",
              "  background-color: #ebebeb;\n",
              "  color: #000000;\n",
              "}\n",
              "#T_613da_row7_col11, #T_613da_row11_col13 {\n",
              "  background-color: #919191;\n",
              "  color: #f1f1f1;\n",
              "}\n",
              "#T_613da_row7_col12, #T_613da_row14_col7 {\n",
              "  background-color: #c9c9c9;\n",
              "  color: #000000;\n",
              "}\n",
              "#T_613da_row7_col13, #T_613da_row11_col1 {\n",
              "  background-color: #a1a1a1;\n",
              "  color: #f1f1f1;\n",
              "}\n",
              "#T_613da_row7_col14 {\n",
              "  background-color: #b6b6b6;\n",
              "  color: #000000;\n",
              "}\n",
              "#T_613da_row8_col0 {\n",
              "  background-color: #303030;\n",
              "  color: #f1f1f1;\n",
              "}\n",
              "#T_613da_row8_col2 {\n",
              "  background-color: #2d2d2d;\n",
              "  color: #f1f1f1;\n",
              "}\n",
              "#T_613da_row8_col4 {\n",
              "  background-color: #4a4a4a;\n",
              "  color: #f1f1f1;\n",
              "}\n",
              "#T_613da_row8_col10 {\n",
              "  background-color: #e1e1e1;\n",
              "  color: #000000;\n",
              "}\n",
              "#T_613da_row8_col11 {\n",
              "  background-color: #a6a6a6;\n",
              "  color: #f1f1f1;\n",
              "}\n",
              "#T_613da_row8_col13 {\n",
              "  background-color: #a9a9a9;\n",
              "  color: #f1f1f1;\n",
              "}\n",
              "#T_613da_row9_col0 {\n",
              "  background-color: #373737;\n",
              "  color: #f1f1f1;\n",
              "}\n",
              "#T_613da_row9_col2 {\n",
              "  background-color: #0f0f0f;\n",
              "  color: #f1f1f1;\n",
              "}\n",
              "#T_613da_row9_col4 {\n",
              "  background-color: #454545;\n",
              "  color: #f1f1f1;\n",
              "}\n",
              "#T_613da_row9_col6, #T_613da_row9_col12, #T_613da_row12_col6, #T_613da_row12_col8 {\n",
              "  background-color: #d6d6d6;\n",
              "  color: #000000;\n",
              "}\n",
              "#T_613da_row9_col7, #T_613da_row10_col9 {\n",
              "  background-color: #dedede;\n",
              "  color: #000000;\n",
              "}\n",
              "#T_613da_row9_col11 {\n",
              "  background-color: #a2a2a2;\n",
              "  color: #f1f1f1;\n",
              "}\n",
              "#T_613da_row9_col13, #T_613da_row13_col1 {\n",
              "  background-color: #adadad;\n",
              "  color: #000000;\n",
              "}\n",
              "#T_613da_row9_col14 {\n",
              "  background-color: #aaaaaa;\n",
              "  color: #f1f1f1;\n",
              "}\n",
              "#T_613da_row10_col0 {\n",
              "  background-color: #3f3f3f;\n",
              "  color: #f1f1f1;\n",
              "}\n",
              "#T_613da_row10_col1, #T_613da_row13_col6, #T_613da_row14_col12 {\n",
              "  background-color: #c0c0c0;\n",
              "  color: #000000;\n",
              "}\n",
              "#T_613da_row10_col2 {\n",
              "  background-color: #3b3b3b;\n",
              "  color: #f1f1f1;\n",
              "}\n",
              "#T_613da_row10_col3 {\n",
              "  background-color: #e8e8e8;\n",
              "  color: #000000;\n",
              "}\n",
              "#T_613da_row10_col4 {\n",
              "  background-color: #646464;\n",
              "  color: #f1f1f1;\n",
              "}\n",
              "#T_613da_row10_col8 {\n",
              "  background-color: #e3e3e3;\n",
              "  color: #000000;\n",
              "}\n",
              "#T_613da_row10_col12, #T_613da_row12_col10, #T_613da_row13_col12 {\n",
              "  background-color: #c8c8c8;\n",
              "  color: #000000;\n",
              "}\n",
              "#T_613da_row10_col14 {\n",
              "  background-color: #bfbfbf;\n",
              "  color: #000000;\n",
              "}\n",
              "#T_613da_row11_col2 {\n",
              "  background-color: #222222;\n",
              "  color: #f1f1f1;\n",
              "}\n",
              "#T_613da_row11_col4 {\n",
              "  background-color: #5f5f5f;\n",
              "  color: #f1f1f1;\n",
              "}\n",
              "#T_613da_row11_col5 {\n",
              "  background-color: #a5a5a5;\n",
              "  color: #f1f1f1;\n",
              "}\n",
              "#T_613da_row11_col7 {\n",
              "  background-color: #b2b2b2;\n",
              "  color: #000000;\n",
              "}\n",
              "#T_613da_row11_col9 {\n",
              "  background-color: #b4b4b4;\n",
              "  color: #000000;\n",
              "}\n",
              "#T_613da_row11_col10 {\n",
              "  background-color: #bdbdbd;\n",
              "  color: #000000;\n",
              "}\n",
              "#T_613da_row11_col14 {\n",
              "  background-color: #acacac;\n",
              "  color: #000000;\n",
              "}\n",
              "#T_613da_row12_col0 {\n",
              "  background-color: #404040;\n",
              "  color: #f1f1f1;\n",
              "}\n",
              "#T_613da_row12_col2 {\n",
              "  background-color: #2f2f2f;\n",
              "  color: #f1f1f1;\n",
              "}\n",
              "#T_613da_row12_col4 {\n",
              "  background-color: #525252;\n",
              "  color: #f1f1f1;\n",
              "}\n",
              "#T_613da_row12_col9 {\n",
              "  background-color: #d8d8d8;\n",
              "  color: #000000;\n",
              "}\n",
              "#T_613da_row12_col13 {\n",
              "  background-color: #c3c3c3;\n",
              "  color: #000000;\n",
              "}\n",
              "#T_613da_row13_col0 {\n",
              "  background-color: #515151;\n",
              "  color: #f1f1f1;\n",
              "}\n",
              "#T_613da_row13_col2 {\n",
              "  background-color: #262626;\n",
              "  color: #f1f1f1;\n",
              "}\n",
              "#T_613da_row13_col10 {\n",
              "  background-color: #b3b3b3;\n",
              "  color: #000000;\n",
              "}\n",
              "#T_613da_row13_col11 {\n",
              "  background-color: #8a8a8a;\n",
              "  color: #f1f1f1;\n",
              "}\n",
              "#T_613da_row13_col14 {\n",
              "  background-color: #afafaf;\n",
              "  color: #000000;\n",
              "}\n",
              "#T_613da_row14_col0 {\n",
              "  background-color: #555555;\n",
              "  color: #f1f1f1;\n",
              "}\n",
              "#T_613da_row14_col2 {\n",
              "  background-color: #626262;\n",
              "  color: #f1f1f1;\n",
              "}\n",
              "#T_613da_row14_col3 {\n",
              "  background-color: #d4d4d4;\n",
              "  color: #000000;\n",
              "}\n",
              "#T_613da_row14_col6 {\n",
              "  background-color: #cccccc;\n",
              "  color: #000000;\n",
              "}\n",
              "#T_613da_row14_col8 {\n",
              "  background-color: #c5c5c5;\n",
              "  color: #000000;\n",
              "}\n",
              "#T_613da_row14_col10 {\n",
              "  background-color: #c6c6c6;\n",
              "  color: #000000;\n",
              "}\n",
              "</style>\n",
              "<table id=\"T_613da_\" class=\"dataframe\">\n",
              "  <thead>\n",
              "    <tr>\n",
              "      <th class=\"blank level0\" >&nbsp;</th>\n",
              "      <th class=\"col_heading level0 col0\" >Density</th>\n",
              "      <th class=\"col_heading level0 col1\" >BodyFat</th>\n",
              "      <th class=\"col_heading level0 col2\" >Age</th>\n",
              "      <th class=\"col_heading level0 col3\" >Weight</th>\n",
              "      <th class=\"col_heading level0 col4\" >Height</th>\n",
              "      <th class=\"col_heading level0 col5\" >Neck</th>\n",
              "      <th class=\"col_heading level0 col6\" >Chest</th>\n",
              "      <th class=\"col_heading level0 col7\" >Abdomen</th>\n",
              "      <th class=\"col_heading level0 col8\" >Hip</th>\n",
              "      <th class=\"col_heading level0 col9\" >Thigh</th>\n",
              "      <th class=\"col_heading level0 col10\" >Knee</th>\n",
              "      <th class=\"col_heading level0 col11\" >Ankle</th>\n",
              "      <th class=\"col_heading level0 col12\" >Biceps</th>\n",
              "      <th class=\"col_heading level0 col13\" >Forearm</th>\n",
              "      <th class=\"col_heading level0 col14\" >Wrist</th>\n",
              "    </tr>\n",
              "  </thead>\n",
              "  <tbody>\n",
              "    <tr>\n",
              "      <th id=\"T_613da_level0_row0\" class=\"row_heading level0 row0\" >Density</th>\n",
              "      <td id=\"T_613da_row0_col0\" class=\"data row0 col0\" >1</td>\n",
              "      <td id=\"T_613da_row0_col1\" class=\"data row0 col1\" >-0.99</td>\n",
              "      <td id=\"T_613da_row0_col2\" class=\"data row0 col2\" >-0.28</td>\n",
              "      <td id=\"T_613da_row0_col3\" class=\"data row0 col3\" >-0.59</td>\n",
              "      <td id=\"T_613da_row0_col4\" class=\"data row0 col4\" >0.098</td>\n",
              "      <td id=\"T_613da_row0_col5\" class=\"data row0 col5\" >-0.47</td>\n",
              "      <td id=\"T_613da_row0_col6\" class=\"data row0 col6\" >-0.68</td>\n",
              "      <td id=\"T_613da_row0_col7\" class=\"data row0 col7\" >-0.8</td>\n",
              "      <td id=\"T_613da_row0_col8\" class=\"data row0 col8\" >-0.61</td>\n",
              "      <td id=\"T_613da_row0_col9\" class=\"data row0 col9\" >-0.55</td>\n",
              "      <td id=\"T_613da_row0_col10\" class=\"data row0 col10\" >-0.5</td>\n",
              "      <td id=\"T_613da_row0_col11\" class=\"data row0 col11\" >-0.26</td>\n",
              "      <td id=\"T_613da_row0_col12\" class=\"data row0 col12\" >-0.49</td>\n",
              "      <td id=\"T_613da_row0_col13\" class=\"data row0 col13\" >-0.35</td>\n",
              "      <td id=\"T_613da_row0_col14\" class=\"data row0 col14\" >-0.33</td>\n",
              "    </tr>\n",
              "    <tr>\n",
              "      <th id=\"T_613da_level0_row1\" class=\"row_heading level0 row1\" >BodyFat</th>\n",
              "      <td id=\"T_613da_row1_col0\" class=\"data row1 col0\" >-0.99</td>\n",
              "      <td id=\"T_613da_row1_col1\" class=\"data row1 col1\" >1</td>\n",
              "      <td id=\"T_613da_row1_col2\" class=\"data row1 col2\" >0.29</td>\n",
              "      <td id=\"T_613da_row1_col3\" class=\"data row1 col3\" >0.61</td>\n",
              "      <td id=\"T_613da_row1_col4\" class=\"data row1 col4\" >-0.089</td>\n",
              "      <td id=\"T_613da_row1_col5\" class=\"data row1 col5\" >0.49</td>\n",
              "      <td id=\"T_613da_row1_col6\" class=\"data row1 col6\" >0.7</td>\n",
              "      <td id=\"T_613da_row1_col7\" class=\"data row1 col7\" >0.81</td>\n",
              "      <td id=\"T_613da_row1_col8\" class=\"data row1 col8\" >0.63</td>\n",
              "      <td id=\"T_613da_row1_col9\" class=\"data row1 col9\" >0.56</td>\n",
              "      <td id=\"T_613da_row1_col10\" class=\"data row1 col10\" >0.51</td>\n",
              "      <td id=\"T_613da_row1_col11\" class=\"data row1 col11\" >0.27</td>\n",
              "      <td id=\"T_613da_row1_col12\" class=\"data row1 col12\" >0.49</td>\n",
              "      <td id=\"T_613da_row1_col13\" class=\"data row1 col13\" >0.36</td>\n",
              "      <td id=\"T_613da_row1_col14\" class=\"data row1 col14\" >0.35</td>\n",
              "    </tr>\n",
              "    <tr>\n",
              "      <th id=\"T_613da_level0_row2\" class=\"row_heading level0 row2\" >Age</th>\n",
              "      <td id=\"T_613da_row2_col0\" class=\"data row2 col0\" >-0.28</td>\n",
              "      <td id=\"T_613da_row2_col1\" class=\"data row2 col1\" >0.29</td>\n",
              "      <td id=\"T_613da_row2_col2\" class=\"data row2 col2\" >1</td>\n",
              "      <td id=\"T_613da_row2_col3\" class=\"data row2 col3\" >-0.013</td>\n",
              "      <td id=\"T_613da_row2_col4\" class=\"data row2 col4\" >-0.17</td>\n",
              "      <td id=\"T_613da_row2_col5\" class=\"data row2 col5\" >0.11</td>\n",
              "      <td id=\"T_613da_row2_col6\" class=\"data row2 col6\" >0.18</td>\n",
              "      <td id=\"T_613da_row2_col7\" class=\"data row2 col7\" >0.23</td>\n",
              "      <td id=\"T_613da_row2_col8\" class=\"data row2 col8\" >-0.05</td>\n",
              "      <td id=\"T_613da_row2_col9\" class=\"data row2 col9\" >-0.2</td>\n",
              "      <td id=\"T_613da_row2_col10\" class=\"data row2 col10\" >0.018</td>\n",
              "      <td id=\"T_613da_row2_col11\" class=\"data row2 col11\" >-0.11</td>\n",
              "      <td id=\"T_613da_row2_col12\" class=\"data row2 col12\" >-0.041</td>\n",
              "      <td id=\"T_613da_row2_col13\" class=\"data row2 col13\" >-0.085</td>\n",
              "      <td id=\"T_613da_row2_col14\" class=\"data row2 col14\" >0.21</td>\n",
              "    </tr>\n",
              "    <tr>\n",
              "      <th id=\"T_613da_level0_row3\" class=\"row_heading level0 row3\" >Weight</th>\n",
              "      <td id=\"T_613da_row3_col0\" class=\"data row3 col0\" >-0.59</td>\n",
              "      <td id=\"T_613da_row3_col1\" class=\"data row3 col1\" >0.61</td>\n",
              "      <td id=\"T_613da_row3_col2\" class=\"data row3 col2\" >-0.013</td>\n",
              "      <td id=\"T_613da_row3_col3\" class=\"data row3 col3\" >1</td>\n",
              "      <td id=\"T_613da_row3_col4\" class=\"data row3 col4\" >0.31</td>\n",
              "      <td id=\"T_613da_row3_col5\" class=\"data row3 col5\" >0.83</td>\n",
              "      <td id=\"T_613da_row3_col6\" class=\"data row3 col6\" >0.89</td>\n",
              "      <td id=\"T_613da_row3_col7\" class=\"data row3 col7\" >0.89</td>\n",
              "      <td id=\"T_613da_row3_col8\" class=\"data row3 col8\" >0.94</td>\n",
              "      <td id=\"T_613da_row3_col9\" class=\"data row3 col9\" >0.87</td>\n",
              "      <td id=\"T_613da_row3_col10\" class=\"data row3 col10\" >0.85</td>\n",
              "      <td id=\"T_613da_row3_col11\" class=\"data row3 col11\" >0.61</td>\n",
              "      <td id=\"T_613da_row3_col12\" class=\"data row3 col12\" >0.8</td>\n",
              "      <td id=\"T_613da_row3_col13\" class=\"data row3 col13\" >0.63</td>\n",
              "      <td id=\"T_613da_row3_col14\" class=\"data row3 col14\" >0.73</td>\n",
              "    </tr>\n",
              "    <tr>\n",
              "      <th id=\"T_613da_level0_row4\" class=\"row_heading level0 row4\" >Height</th>\n",
              "      <td id=\"T_613da_row4_col0\" class=\"data row4 col0\" >0.098</td>\n",
              "      <td id=\"T_613da_row4_col1\" class=\"data row4 col1\" >-0.089</td>\n",
              "      <td id=\"T_613da_row4_col2\" class=\"data row4 col2\" >-0.17</td>\n",
              "      <td id=\"T_613da_row4_col3\" class=\"data row4 col3\" >0.31</td>\n",
              "      <td id=\"T_613da_row4_col4\" class=\"data row4 col4\" >1</td>\n",
              "      <td id=\"T_613da_row4_col5\" class=\"data row4 col5\" >0.25</td>\n",
              "      <td id=\"T_613da_row4_col6\" class=\"data row4 col6\" >0.13</td>\n",
              "      <td id=\"T_613da_row4_col7\" class=\"data row4 col7\" >0.088</td>\n",
              "      <td id=\"T_613da_row4_col8\" class=\"data row4 col8\" >0.17</td>\n",
              "      <td id=\"T_613da_row4_col9\" class=\"data row4 col9\" >0.15</td>\n",
              "      <td id=\"T_613da_row4_col10\" class=\"data row4 col10\" >0.29</td>\n",
              "      <td id=\"T_613da_row4_col11\" class=\"data row4 col11\" >0.26</td>\n",
              "      <td id=\"T_613da_row4_col12\" class=\"data row4 col12\" >0.21</td>\n",
              "      <td id=\"T_613da_row4_col13\" class=\"data row4 col13\" >0.23</td>\n",
              "      <td id=\"T_613da_row4_col14\" class=\"data row4 col14\" >0.32</td>\n",
              "    </tr>\n",
              "    <tr>\n",
              "      <th id=\"T_613da_level0_row5\" class=\"row_heading level0 row5\" >Neck</th>\n",
              "      <td id=\"T_613da_row5_col0\" class=\"data row5 col0\" >-0.47</td>\n",
              "      <td id=\"T_613da_row5_col1\" class=\"data row5 col1\" >0.49</td>\n",
              "      <td id=\"T_613da_row5_col2\" class=\"data row5 col2\" >0.11</td>\n",
              "      <td id=\"T_613da_row5_col3\" class=\"data row5 col3\" >0.83</td>\n",
              "      <td id=\"T_613da_row5_col4\" class=\"data row5 col4\" >0.25</td>\n",
              "      <td id=\"T_613da_row5_col5\" class=\"data row5 col5\" >1</td>\n",
              "      <td id=\"T_613da_row5_col6\" class=\"data row5 col6\" >0.78</td>\n",
              "      <td id=\"T_613da_row5_col7\" class=\"data row5 col7\" >0.75</td>\n",
              "      <td id=\"T_613da_row5_col8\" class=\"data row5 col8\" >0.73</td>\n",
              "      <td id=\"T_613da_row5_col9\" class=\"data row5 col9\" >0.7</td>\n",
              "      <td id=\"T_613da_row5_col10\" class=\"data row5 col10\" >0.67</td>\n",
              "      <td id=\"T_613da_row5_col11\" class=\"data row5 col11\" >0.48</td>\n",
              "      <td id=\"T_613da_row5_col12\" class=\"data row5 col12\" >0.73</td>\n",
              "      <td id=\"T_613da_row5_col13\" class=\"data row5 col13\" >0.62</td>\n",
              "      <td id=\"T_613da_row5_col14\" class=\"data row5 col14\" >0.74</td>\n",
              "    </tr>\n",
              "    <tr>\n",
              "      <th id=\"T_613da_level0_row6\" class=\"row_heading level0 row6\" >Chest</th>\n",
              "      <td id=\"T_613da_row6_col0\" class=\"data row6 col0\" >-0.68</td>\n",
              "      <td id=\"T_613da_row6_col1\" class=\"data row6 col1\" >0.7</td>\n",
              "      <td id=\"T_613da_row6_col2\" class=\"data row6 col2\" >0.18</td>\n",
              "      <td id=\"T_613da_row6_col3\" class=\"data row6 col3\" >0.89</td>\n",
              "      <td id=\"T_613da_row6_col4\" class=\"data row6 col4\" >0.13</td>\n",
              "      <td id=\"T_613da_row6_col5\" class=\"data row6 col5\" >0.78</td>\n",
              "      <td id=\"T_613da_row6_col6\" class=\"data row6 col6\" >1</td>\n",
              "      <td id=\"T_613da_row6_col7\" class=\"data row6 col7\" >0.92</td>\n",
              "      <td id=\"T_613da_row6_col8\" class=\"data row6 col8\" >0.83</td>\n",
              "      <td id=\"T_613da_row6_col9\" class=\"data row6 col9\" >0.73</td>\n",
              "      <td id=\"T_613da_row6_col10\" class=\"data row6 col10\" >0.72</td>\n",
              "      <td id=\"T_613da_row6_col11\" class=\"data row6 col11\" >0.48</td>\n",
              "      <td id=\"T_613da_row6_col12\" class=\"data row6 col12\" >0.73</td>\n",
              "      <td id=\"T_613da_row6_col13\" class=\"data row6 col13\" >0.58</td>\n",
              "      <td id=\"T_613da_row6_col14\" class=\"data row6 col14\" >0.66</td>\n",
              "    </tr>\n",
              "    <tr>\n",
              "      <th id=\"T_613da_level0_row7\" class=\"row_heading level0 row7\" >Abdomen</th>\n",
              "      <td id=\"T_613da_row7_col0\" class=\"data row7 col0\" >-0.8</td>\n",
              "      <td id=\"T_613da_row7_col1\" class=\"data row7 col1\" >0.81</td>\n",
              "      <td id=\"T_613da_row7_col2\" class=\"data row7 col2\" >0.23</td>\n",
              "      <td id=\"T_613da_row7_col3\" class=\"data row7 col3\" >0.89</td>\n",
              "      <td id=\"T_613da_row7_col4\" class=\"data row7 col4\" >0.088</td>\n",
              "      <td id=\"T_613da_row7_col5\" class=\"data row7 col5\" >0.75</td>\n",
              "      <td id=\"T_613da_row7_col6\" class=\"data row7 col6\" >0.92</td>\n",
              "      <td id=\"T_613da_row7_col7\" class=\"data row7 col7\" >1</td>\n",
              "      <td id=\"T_613da_row7_col8\" class=\"data row7 col8\" >0.87</td>\n",
              "      <td id=\"T_613da_row7_col9\" class=\"data row7 col9\" >0.77</td>\n",
              "      <td id=\"T_613da_row7_col10\" class=\"data row7 col10\" >0.74</td>\n",
              "      <td id=\"T_613da_row7_col11\" class=\"data row7 col11\" >0.45</td>\n",
              "      <td id=\"T_613da_row7_col12\" class=\"data row7 col12\" >0.68</td>\n",
              "      <td id=\"T_613da_row7_col13\" class=\"data row7 col13\" >0.5</td>\n",
              "      <td id=\"T_613da_row7_col14\" class=\"data row7 col14\" >0.62</td>\n",
              "    </tr>\n",
              "    <tr>\n",
              "      <th id=\"T_613da_level0_row8\" class=\"row_heading level0 row8\" >Hip</th>\n",
              "      <td id=\"T_613da_row8_col0\" class=\"data row8 col0\" >-0.61</td>\n",
              "      <td id=\"T_613da_row8_col1\" class=\"data row8 col1\" >0.63</td>\n",
              "      <td id=\"T_613da_row8_col2\" class=\"data row8 col2\" >-0.05</td>\n",
              "      <td id=\"T_613da_row8_col3\" class=\"data row8 col3\" >0.94</td>\n",
              "      <td id=\"T_613da_row8_col4\" class=\"data row8 col4\" >0.17</td>\n",
              "      <td id=\"T_613da_row8_col5\" class=\"data row8 col5\" >0.73</td>\n",
              "      <td id=\"T_613da_row8_col6\" class=\"data row8 col6\" >0.83</td>\n",
              "      <td id=\"T_613da_row8_col7\" class=\"data row8 col7\" >0.87</td>\n",
              "      <td id=\"T_613da_row8_col8\" class=\"data row8 col8\" >1</td>\n",
              "      <td id=\"T_613da_row8_col9\" class=\"data row8 col9\" >0.9</td>\n",
              "      <td id=\"T_613da_row8_col10\" class=\"data row8 col10\" >0.82</td>\n",
              "      <td id=\"T_613da_row8_col11\" class=\"data row8 col11\" >0.56</td>\n",
              "      <td id=\"T_613da_row8_col12\" class=\"data row8 col12\" >0.74</td>\n",
              "      <td id=\"T_613da_row8_col13\" class=\"data row8 col13\" >0.55</td>\n",
              "      <td id=\"T_613da_row8_col14\" class=\"data row8 col14\" >0.63</td>\n",
              "    </tr>\n",
              "    <tr>\n",
              "      <th id=\"T_613da_level0_row9\" class=\"row_heading level0 row9\" >Thigh</th>\n",
              "      <td id=\"T_613da_row9_col0\" class=\"data row9 col0\" >-0.55</td>\n",
              "      <td id=\"T_613da_row9_col1\" class=\"data row9 col1\" >0.56</td>\n",
              "      <td id=\"T_613da_row9_col2\" class=\"data row9 col2\" >-0.2</td>\n",
              "      <td id=\"T_613da_row9_col3\" class=\"data row9 col3\" >0.87</td>\n",
              "      <td id=\"T_613da_row9_col4\" class=\"data row9 col4\" >0.15</td>\n",
              "      <td id=\"T_613da_row9_col5\" class=\"data row9 col5\" >0.7</td>\n",
              "      <td id=\"T_613da_row9_col6\" class=\"data row9 col6\" >0.73</td>\n",
              "      <td id=\"T_613da_row9_col7\" class=\"data row9 col7\" >0.77</td>\n",
              "      <td id=\"T_613da_row9_col8\" class=\"data row9 col8\" >0.9</td>\n",
              "      <td id=\"T_613da_row9_col9\" class=\"data row9 col9\" >1</td>\n",
              "      <td id=\"T_613da_row9_col10\" class=\"data row9 col10\" >0.8</td>\n",
              "      <td id=\"T_613da_row9_col11\" class=\"data row9 col11\" >0.54</td>\n",
              "      <td id=\"T_613da_row9_col12\" class=\"data row9 col12\" >0.76</td>\n",
              "      <td id=\"T_613da_row9_col13\" class=\"data row9 col13\" >0.57</td>\n",
              "      <td id=\"T_613da_row9_col14\" class=\"data row9 col14\" >0.56</td>\n",
              "    </tr>\n",
              "    <tr>\n",
              "      <th id=\"T_613da_level0_row10\" class=\"row_heading level0 row10\" >Knee</th>\n",
              "      <td id=\"T_613da_row10_col0\" class=\"data row10 col0\" >-0.5</td>\n",
              "      <td id=\"T_613da_row10_col1\" class=\"data row10 col1\" >0.51</td>\n",
              "      <td id=\"T_613da_row10_col2\" class=\"data row10 col2\" >0.018</td>\n",
              "      <td id=\"T_613da_row10_col3\" class=\"data row10 col3\" >0.85</td>\n",
              "      <td id=\"T_613da_row10_col4\" class=\"data row10 col4\" >0.29</td>\n",
              "      <td id=\"T_613da_row10_col5\" class=\"data row10 col5\" >0.67</td>\n",
              "      <td id=\"T_613da_row10_col6\" class=\"data row10 col6\" >0.72</td>\n",
              "      <td id=\"T_613da_row10_col7\" class=\"data row10 col7\" >0.74</td>\n",
              "      <td id=\"T_613da_row10_col8\" class=\"data row10 col8\" >0.82</td>\n",
              "      <td id=\"T_613da_row10_col9\" class=\"data row10 col9\" >0.8</td>\n",
              "      <td id=\"T_613da_row10_col10\" class=\"data row10 col10\" >1</td>\n",
              "      <td id=\"T_613da_row10_col11\" class=\"data row10 col11\" >0.61</td>\n",
              "      <td id=\"T_613da_row10_col12\" class=\"data row10 col12\" >0.68</td>\n",
              "      <td id=\"T_613da_row10_col13\" class=\"data row10 col13\" >0.56</td>\n",
              "      <td id=\"T_613da_row10_col14\" class=\"data row10 col14\" >0.66</td>\n",
              "    </tr>\n",
              "    <tr>\n",
              "      <th id=\"T_613da_level0_row11\" class=\"row_heading level0 row11\" >Ankle</th>\n",
              "      <td id=\"T_613da_row11_col0\" class=\"data row11 col0\" >-0.26</td>\n",
              "      <td id=\"T_613da_row11_col1\" class=\"data row11 col1\" >0.27</td>\n",
              "      <td id=\"T_613da_row11_col2\" class=\"data row11 col2\" >-0.11</td>\n",
              "      <td id=\"T_613da_row11_col3\" class=\"data row11 col3\" >0.61</td>\n",
              "      <td id=\"T_613da_row11_col4\" class=\"data row11 col4\" >0.26</td>\n",
              "      <td id=\"T_613da_row11_col5\" class=\"data row11 col5\" >0.48</td>\n",
              "      <td id=\"T_613da_row11_col6\" class=\"data row11 col6\" >0.48</td>\n",
              "      <td id=\"T_613da_row11_col7\" class=\"data row11 col7\" >0.45</td>\n",
              "      <td id=\"T_613da_row11_col8\" class=\"data row11 col8\" >0.56</td>\n",
              "      <td id=\"T_613da_row11_col9\" class=\"data row11 col9\" >0.54</td>\n",
              "      <td id=\"T_613da_row11_col10\" class=\"data row11 col10\" >0.61</td>\n",
              "      <td id=\"T_613da_row11_col11\" class=\"data row11 col11\" >1</td>\n",
              "      <td id=\"T_613da_row11_col12\" class=\"data row11 col12\" >0.48</td>\n",
              "      <td id=\"T_613da_row11_col13\" class=\"data row11 col13\" >0.42</td>\n",
              "      <td id=\"T_613da_row11_col14\" class=\"data row11 col14\" >0.57</td>\n",
              "    </tr>\n",
              "    <tr>\n",
              "      <th id=\"T_613da_level0_row12\" class=\"row_heading level0 row12\" >Biceps</th>\n",
              "      <td id=\"T_613da_row12_col0\" class=\"data row12 col0\" >-0.49</td>\n",
              "      <td id=\"T_613da_row12_col1\" class=\"data row12 col1\" >0.49</td>\n",
              "      <td id=\"T_613da_row12_col2\" class=\"data row12 col2\" >-0.041</td>\n",
              "      <td id=\"T_613da_row12_col3\" class=\"data row12 col3\" >0.8</td>\n",
              "      <td id=\"T_613da_row12_col4\" class=\"data row12 col4\" >0.21</td>\n",
              "      <td id=\"T_613da_row12_col5\" class=\"data row12 col5\" >0.73</td>\n",
              "      <td id=\"T_613da_row12_col6\" class=\"data row12 col6\" >0.73</td>\n",
              "      <td id=\"T_613da_row12_col7\" class=\"data row12 col7\" >0.68</td>\n",
              "      <td id=\"T_613da_row12_col8\" class=\"data row12 col8\" >0.74</td>\n",
              "      <td id=\"T_613da_row12_col9\" class=\"data row12 col9\" >0.76</td>\n",
              "      <td id=\"T_613da_row12_col10\" class=\"data row12 col10\" >0.68</td>\n",
              "      <td id=\"T_613da_row12_col11\" class=\"data row12 col11\" >0.48</td>\n",
              "      <td id=\"T_613da_row12_col12\" class=\"data row12 col12\" >1</td>\n",
              "      <td id=\"T_613da_row12_col13\" class=\"data row12 col13\" >0.68</td>\n",
              "      <td id=\"T_613da_row12_col14\" class=\"data row12 col14\" >0.63</td>\n",
              "    </tr>\n",
              "    <tr>\n",
              "      <th id=\"T_613da_level0_row13\" class=\"row_heading level0 row13\" >Forearm</th>\n",
              "      <td id=\"T_613da_row13_col0\" class=\"data row13 col0\" >-0.35</td>\n",
              "      <td id=\"T_613da_row13_col1\" class=\"data row13 col1\" >0.36</td>\n",
              "      <td id=\"T_613da_row13_col2\" class=\"data row13 col2\" >-0.085</td>\n",
              "      <td id=\"T_613da_row13_col3\" class=\"data row13 col3\" >0.63</td>\n",
              "      <td id=\"T_613da_row13_col4\" class=\"data row13 col4\" >0.23</td>\n",
              "      <td id=\"T_613da_row13_col5\" class=\"data row13 col5\" >0.62</td>\n",
              "      <td id=\"T_613da_row13_col6\" class=\"data row13 col6\" >0.58</td>\n",
              "      <td id=\"T_613da_row13_col7\" class=\"data row13 col7\" >0.5</td>\n",
              "      <td id=\"T_613da_row13_col8\" class=\"data row13 col8\" >0.55</td>\n",
              "      <td id=\"T_613da_row13_col9\" class=\"data row13 col9\" >0.57</td>\n",
              "      <td id=\"T_613da_row13_col10\" class=\"data row13 col10\" >0.56</td>\n",
              "      <td id=\"T_613da_row13_col11\" class=\"data row13 col11\" >0.42</td>\n",
              "      <td id=\"T_613da_row13_col12\" class=\"data row13 col12\" >0.68</td>\n",
              "      <td id=\"T_613da_row13_col13\" class=\"data row13 col13\" >1</td>\n",
              "      <td id=\"T_613da_row13_col14\" class=\"data row13 col14\" >0.59</td>\n",
              "    </tr>\n",
              "    <tr>\n",
              "      <th id=\"T_613da_level0_row14\" class=\"row_heading level0 row14\" >Wrist</th>\n",
              "      <td id=\"T_613da_row14_col0\" class=\"data row14 col0\" >-0.33</td>\n",
              "      <td id=\"T_613da_row14_col1\" class=\"data row14 col1\" >0.35</td>\n",
              "      <td id=\"T_613da_row14_col2\" class=\"data row14 col2\" >0.21</td>\n",
              "      <td id=\"T_613da_row14_col3\" class=\"data row14 col3\" >0.73</td>\n",
              "      <td id=\"T_613da_row14_col4\" class=\"data row14 col4\" >0.32</td>\n",
              "      <td id=\"T_613da_row14_col5\" class=\"data row14 col5\" >0.74</td>\n",
              "      <td id=\"T_613da_row14_col6\" class=\"data row14 col6\" >0.66</td>\n",
              "      <td id=\"T_613da_row14_col7\" class=\"data row14 col7\" >0.62</td>\n",
              "      <td id=\"T_613da_row14_col8\" class=\"data row14 col8\" >0.63</td>\n",
              "      <td id=\"T_613da_row14_col9\" class=\"data row14 col9\" >0.56</td>\n",
              "      <td id=\"T_613da_row14_col10\" class=\"data row14 col10\" >0.66</td>\n",
              "      <td id=\"T_613da_row14_col11\" class=\"data row14 col11\" >0.57</td>\n",
              "      <td id=\"T_613da_row14_col12\" class=\"data row14 col12\" >0.63</td>\n",
              "      <td id=\"T_613da_row14_col13\" class=\"data row14 col13\" >0.59</td>\n",
              "      <td id=\"T_613da_row14_col14\" class=\"data row14 col14\" >1</td>\n",
              "    </tr>\n",
              "  </tbody>\n",
              "</table>\n"
            ]
          },
          "metadata": {},
          "execution_count": 50
        }
      ]
    },
    {
      "cell_type": "markdown",
      "source": [
        "**Вопрос.** Глядя на карту корреляций, можете ли вы выявить линейно зависимые признаки?\n",
        "\n",
        "<u>**Ответ**</u>: _ _ _ _ _ _ _ _ _ _ _ _"
      ],
      "metadata": {
        "id": "jQMgz-6wXdqd"
      }
    },
    {
      "cell_type": "markdown",
      "source": [
        "### Определение целевой и объясняющих переменных"
      ],
      "metadata": {
        "id": "RQrv4XW4XffW"
      }
    },
    {
      "cell_type": "markdown",
      "source": [
        "Выберите величину, которую вы собираетесь предсказывать. На выбор: **возраст**, **рост** или **вес**. Укажите это снизу:"
      ],
      "metadata": {
        "id": "HDv_Fdz9Mhza"
      }
    },
    {
      "cell_type": "markdown",
      "source": [
        "### Я предсказываю <u>**возраст**</u>"
      ],
      "metadata": {
        "id": "q7sm9yLyLyfx"
      }
    },
    {
      "cell_type": "markdown",
      "source": [
        "Отберите признаки, по которым вы будете предсказывать целевую переменную (список из названий столбцов) и запишите их в переменную `cols`.\n",
        "\n",
        "**Вопрос.** По какому критерию нужно отбирать объясняющие переменные (переменные, по которым предсказываем целевую)\n",
        "\n",
        "<u>**Ответ**</u>: _ _ _ _ _ _ _ _ _ _ _ _"
      ],
      "metadata": {
        "id": "Mh1KzT96YIbm"
      }
    },
    {
      "cell_type": "markdown",
      "source": [
        "**(*) Дополнительно.** Постройте графики рассеяния между объясняющими переменными и целевой переменной. Наблюдаются ли линейные зависимости?\n",
        "\n",
        "<u>**Ответ**</u>: _ _ _ _ _ _ _ _ _ _ _ _"
      ],
      "metadata": {
        "id": "sIgaxydGahMb"
      }
    },
    {
      "cell_type": "code",
      "source": [
        "### ЗДЕСЬ ВАШ КОД ¯\\_(ツ)_/¯ \n",
        "\n",
        "cols = None # список из столбцов - объясняющих переменных\n",
        "X = df[cols] # отбираем нужные столбцы из исходного датафрейма"
      ],
      "metadata": {
        "id": "NDM1nAILYUqs"
      },
      "execution_count": null,
      "outputs": []
    },
    {
      "cell_type": "markdown",
      "source": [
        "Запишите в переменную `y` столбец-признак, который предсказываете, а в переменную `X` признаки, по которым предсказываете"
      ],
      "metadata": {
        "id": "ycVGDmW_NmWV"
      }
    },
    {
      "cell_type": "code",
      "source": [
        "### ЗДЕСЬ ВАШ КОД ¯\\_(ツ)_/¯ \n",
        "\n",
        "X, y = None, None"
      ],
      "metadata": {
        "id": "991yG5HaNVVV"
      },
      "execution_count": null,
      "outputs": []
    },
    {
      "cell_type": "markdown",
      "source": [
        "### Разбиение данных"
      ],
      "metadata": {
        "id": "VXbGmUNqKxP3"
      }
    },
    {
      "cell_type": "markdown",
      "source": [
        "Разбейте данные на тренировочную и тестовую части. На тестовую выделите 20% выборки, можно зафиксировать `random_state`"
      ],
      "metadata": {
        "id": "Z1Bj6dkHKzTm"
      }
    },
    {
      "cell_type": "code",
      "source": [
        "from sklearn.model_selection import train_test_split"
      ],
      "metadata": {
        "id": "m-lWcB-9gGzF"
      },
      "execution_count": null,
      "outputs": []
    },
    {
      "cell_type": "code",
      "source": [
        "### ЗДЕСЬ ВАШ КОД ¯\\_(ツ)_/¯ \n",
        "\n",
        "X_train, X_test, y_train, y_test = None"
      ],
      "metadata": {
        "id": "b09LDwzCKzEG"
      },
      "execution_count": null,
      "outputs": []
    },
    {
      "cell_type": "markdown",
      "source": [
        "### Масштабирование признаков"
      ],
      "metadata": {
        "id": "L1bGPfp6ry79"
      }
    },
    {
      "cell_type": "markdown",
      "source": [
        "Отмасштабируйте признаки с помощью [`StandardScaler`](https://scikit-learn.org/stable/modules/generated/sklearn.preprocessing.StandardScaler.html). Не забудьте, что scaler \"обучается\" только на тренировочных признаках"
      ],
      "metadata": {
        "id": "mvH2zz_Qr3O8"
      }
    },
    {
      "cell_type": "code",
      "source": [
        "from sklearn.preprocessing import StandardScaler"
      ],
      "metadata": {
        "id": "OZ8Exo1kr2Yh"
      },
      "execution_count": null,
      "outputs": []
    },
    {
      "cell_type": "code",
      "source": [
        "### ЗДЕСЬ ВАШ КОД ¯\\_(ツ)_/¯ \n",
        "\n",
        "scaler = StandardScaler()"
      ],
      "metadata": {
        "id": "x-wWJ2s1sMk7"
      },
      "execution_count": null,
      "outputs": []
    },
    {
      "cell_type": "markdown",
      "source": [
        "### Построение модели линейной регрессии"
      ],
      "metadata": {
        "id": "HJdmKB3AKjmX"
      }
    },
    {
      "cell_type": "markdown",
      "source": [
        "Обучите модель [`Ridge`](https://scikit-learn.org/stable/modules/generated/sklearn.linear_model.Ridge.html) на тренировочных данных и сделайте предсказание"
      ],
      "metadata": {
        "id": "W4SLQTQzPtYg"
      }
    },
    {
      "cell_type": "code",
      "source": [
        "from sklearn.linear_model import Ridge"
      ],
      "metadata": {
        "id": "iWlDtpjzgFjg"
      },
      "execution_count": null,
      "outputs": []
    },
    {
      "cell_type": "code",
      "source": [
        "### ЗДЕСЬ ВАШ КОД ¯\\_(ツ)_/¯\n",
        "\n",
        "linreg = None # здесь будет ваша модель\n",
        "y_pred_train = None # здесь будут предсказания на тренировочных данных\n",
        "y_pred_test = None # здесь будут предсказания на тестовых данных"
      ],
      "metadata": {
        "id": "mhoBmo1KKl1z"
      },
      "execution_count": null,
      "outputs": []
    },
    {
      "cell_type": "markdown",
      "source": [
        "В качестве метрики возьмём **RMSE**. Оцените качество по этой метрике на тренировочной и тестовой выборках. Для вычисления метрики можете воспользоваться функцией **rmse_score**"
      ],
      "metadata": {
        "id": "X4O7xCqyQCG8"
      }
    },
    {
      "cell_type": "code",
      "source": [
        "def rmse_score(y_true, y_pred):\n",
        "    error = (y_true - y_pred) ** 2\n",
        "    return np.sqrt(np.mean(error))"
      ],
      "metadata": {
        "id": "pVlRb2lMgD7H"
      },
      "execution_count": null,
      "outputs": []
    },
    {
      "cell_type": "code",
      "source": [
        "### ЗДЕСЬ ВАШ КОД ¯\\_(ツ)_/¯\n",
        "\n",
        "print('Качество на тренировочной выборке:', None)\n",
        "print('Качество на тестовой выборке:', None)"
      ],
      "metadata": {
        "colab": {
          "base_uri": "https://localhost:8080/"
        },
        "id": "vvNS139ZQOmZ",
        "outputId": "6f2bc334-0dd8-4874-d96c-89c478c35ae4"
      },
      "execution_count": null,
      "outputs": [
        {
          "output_type": "stream",
          "name": "stdout",
          "text": [
            "Качество на тренировочной выборке: None\n",
            "Качество на тестовой выборке: None\n"
          ]
        }
      ]
    },
    {
      "cell_type": "markdown",
      "source": [
        "**(*) Дополнительно.** Какое качество будет у константной модели по выбранной метрике? Лучше ли предсказания нашей модели?\n",
        "\n",
        "<u>**Ответ**</u>: _ _ _ _ _ _ _ _ _ _ _ _"
      ],
      "metadata": {
        "id": "MDRWFq81QgsI"
      }
    },
    {
      "cell_type": "markdown",
      "source": [
        "### Подбор гиперпараметров"
      ],
      "metadata": {
        "id": "W5zbHZ7SRbls"
      }
    },
    {
      "cell_type": "markdown",
      "source": [
        "Попробуйте подобрать лучший коэффициент регуляризации с помощью кросс-валидации. Для этого можно воспользоваться готовым классом [`RidgeCV`](https://scikit-learn.org/stable/modules/generated/sklearn.linear_model.RidgeCV.html)"
      ],
      "metadata": {
        "id": "cQ27zUPLReWc"
      }
    },
    {
      "cell_type": "markdown",
      "source": [
        "Основные моменты:\n",
        "* Запишите список значений коэффициента регуляризацию в переменную `alphas`\n",
        "* Не забудьте указать параметр `scoring` равным \"neg_root_mean_squared_error\""
      ],
      "metadata": {
        "id": "RSEkrhaYTTVl"
      }
    },
    {
      "cell_type": "code",
      "source": [
        "from sklearn.linear_model import RidgeCV"
      ],
      "metadata": {
        "id": "96cgYy2UOpUV"
      },
      "execution_count": null,
      "outputs": []
    },
    {
      "cell_type": "code",
      "source": [
        "### ЗДЕСЬ ВАШ КОД ¯\\_(ツ)_/¯\n",
        "\n",
        "alphas = [0.1, 1, 10] # можно добавить другие перебираемые значения\n",
        "ridge_cv = None # модель со встроенной кросс-валидацией"
      ],
      "metadata": {
        "id": "QxD4TYX5Rwwo"
      },
      "execution_count": null,
      "outputs": []
    },
    {
      "cell_type": "markdown",
      "source": [
        "**Вопрос.** Какое получилось лучшее значений гиперпараметра?"
      ],
      "metadata": {
        "id": "MhzlFgDhUshu"
      }
    },
    {
      "cell_type": "code",
      "source": [
        "### ЗДЕСЬ ВАШ КОД ¯\\_(ツ)_/¯\n",
        "\n",
        "print('Лучшее значение гиперпараметра:', None)"
      ],
      "metadata": {
        "id": "byCBLaF9WGlp"
      },
      "execution_count": null,
      "outputs": []
    },
    {
      "cell_type": "markdown",
      "source": [
        "Обучите модель `Ridge` с лучшим значением гиперпараметра на тренировочных данных и оцените качество модели"
      ],
      "metadata": {
        "id": "75zIH_weT2cX"
      }
    },
    {
      "cell_type": "code",
      "source": [
        "### ЗДЕСЬ ВАШ КОД ¯\\_(ツ)_/¯\n",
        "\n",
        "linreg = None # здесь модель с лучшим значением коэффициента регуляризации\n",
        "print('Качество на тренировочной выборке:', None)\n",
        "print('Качество на тестовой выборке:', None)"
      ],
      "metadata": {
        "id": "BvZTUulOWPf0"
      },
      "execution_count": null,
      "outputs": []
    },
    {
      "cell_type": "markdown",
      "source": [
        "**Вопрос.** Улучшилось ли качество модели после подбора гиперпараметра?\n",
        "\n",
        "<u>**Ответ**</u>: _ _ _ _ _ _ _ _ _ _ _ _"
      ],
      "metadata": {
        "id": "Ms8LIgZKTrAb"
      }
    },
    {
      "cell_type": "markdown",
      "source": [
        "**(*) Дополнительно.** Можете поварьировать число сплитов (параметр `cv`). Отразилось ли это на лучшем значении гиперпараметра/качестве модели?\n",
        "\n",
        "<u>**Ответ**</u>: _ _ _ _ _ _ _ _ _ _ _ _"
      ],
      "metadata": {
        "id": "sbcU_MbqR5-A"
      }
    },
    {
      "cell_type": "markdown",
      "source": [
        "### Выводы\n"
      ],
      "metadata": {
        "id": "2d8sZUDigX59"
      }
    },
    {
      "cell_type": "markdown",
      "source": [
        "**Вопрос.** Напишите выводы о проделанной работе: что было сделано, какие результаты получены?\n",
        "\n",
        "<u>**Ответ**</u>: _ _ _ _ _ _ _ _ _ _ _ _"
      ],
      "metadata": {
        "id": "SzH9TZOycn5c"
      }
    },
    {
      "cell_type": "markdown",
      "source": [
        "### (*) Дополнительно"
      ],
      "metadata": {
        "id": "qOy6VJYSgdjz"
      }
    },
    {
      "cell_type": "markdown",
      "source": [
        "**(*) Дополнительно.** Обучите модель [`Lasso`](https://scikit-learn.org/stable/modules/generated/sklearn.linear_model.Lasso.html), попробуйте также подобрать коэффициенты регуляризации (вам может пригодиться [`LassoCV`](https://scikit-learn.org/stable/modules/generated/sklearn.linear_model.LassoCV.html)) и оценить модель с лучшим гиперпараметром. Сравните получившиеся модели Ridge и Lasso\n",
        "\n",
        "<u>**Ответ**</u>: _ _ _ _ _ _ _ _ _ _ _ _"
      ],
      "metadata": {
        "id": "A5AsxwSiVFOW"
      }
    },
    {
      "cell_type": "markdown",
      "source": [
        "**(*) Дополнительно** Для улучшения качества модели может помочь более качественная предобработка данных. Попробуйте:\n",
        "1. Вместо выбрасывания строк с пустыми значениями попробуйте заполнить их средним (или медианой) по столбцу. Помните, что среднее считается только по тренировочной выборке\n",
        "2. Попробуйте выявить выбросы в данных. Избавьтесь от них или заполните адекватным значением\n",
        "3. Попробуйте другой способ масштабирования (например, [`MinMaxScaler`](https://scikit-learn.org/stable/modules/generated/sklearn.preprocessing.MinMaxScaler.html)) или не масштабировать данные\n",
        "4. Посмотрите на распределение целевой переменной. Попробуйте привести его к нормальному распределению (логарифмирование целевой переменной, возведение в степень,..). При подсчёте метрики придётся применить обратное преобразование целевой переменной\n",
        "\n",
        "Напишите результаты экспериментов:\n",
        "\n",
        "<u>**Ответ**</u>: _ _ _ _ _ _ _ _ _ _ _ _"
      ],
      "metadata": {
        "id": "GEUy8VZRY3KP"
      }
    }
  ],
  "metadata": {
    "kernelspec": {
      "display_name": "Python 3",
      "language": "python",
      "name": "python3"
    },
    "language_info": {
      "codemirror_mode": {
        "name": "ipython",
        "version": 3
      },
      "file_extension": ".py",
      "mimetype": "text/x-python",
      "name": "python",
      "nbconvert_exporter": "python",
      "pygments_lexer": "ipython3",
      "version": "3.8.5"
    },
    "colab": {
      "provenance": [],
      "collapsed_sections": [],
      "toc_visible": true
    }
  },
  "nbformat": 4,
  "nbformat_minor": 0
}