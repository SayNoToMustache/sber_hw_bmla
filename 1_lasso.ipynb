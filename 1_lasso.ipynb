{
 "cells": [
  {
   "cell_type": "code",
   "execution_count": 44,
   "metadata": {},
   "outputs": [],
   "source": [
    "import pandas as pd\n",
    "import numpy as np\n",
    "import matplotlib.pyplot as plt\n",
    "import seaborn as sns"
   ]
  },
  {
   "cell_type": "code",
   "execution_count": 45,
   "metadata": {},
   "outputs": [],
   "source": [
    "df = pd.read_csv(\"bodyfat.csv\")"
   ]
  },
  {
   "cell_type": "code",
   "execution_count": 46,
   "metadata": {},
   "outputs": [
    {
     "data": {
      "text/plain": [
       "Density    1\n",
       "BodyFat    1\n",
       "Age        0\n",
       "Weight     0\n",
       "Height     0\n",
       "Neck       1\n",
       "Chest      3\n",
       "Abdomen    2\n",
       "Hip        1\n",
       "Thigh      4\n",
       "Knee       4\n",
       "Ankle      1\n",
       "Biceps     2\n",
       "Forearm    1\n",
       "Wrist      2\n",
       "dtype: int64"
      ]
     },
     "execution_count": 46,
     "metadata": {},
     "output_type": "execute_result"
    }
   ],
   "source": [
    "df.isnull().sum()"
   ]
  },
  {
   "cell_type": "code",
   "execution_count": 47,
   "metadata": {},
   "outputs": [],
   "source": [
    "df = df.dropna()\n",
    "cols = ['Neck', 'Chest', 'Abdomen', 'Hip', 'Thigh', 'Knee', 'Biceps', 'Wrist']\n",
    "X = df[cols]\n",
    "X, y = X, df['Weight']"
   ]
  },
  {
   "cell_type": "code",
   "execution_count": 48,
   "metadata": {},
   "outputs": [],
   "source": [
    "from sklearn.model_selection import train_test_split\n",
    "from sklearn.linear_model import Ridge"
   ]
  },
  {
   "cell_type": "code",
   "execution_count": 49,
   "metadata": {},
   "outputs": [],
   "source": [
    "X_train, X_test, y_train, y_test = train_test_split(X.values, y, test_size=0.2, random_state=42)\n"
   ]
  },
  {
   "cell_type": "code",
   "execution_count": 50,
   "metadata": {},
   "outputs": [],
   "source": [
    "def rmse_score(y_true, y_pred):\n",
    "    error = (y_true - y_pred) ** 2\n",
    "    return np.sqrt(np.mean(error))"
   ]
  },
  {
   "cell_type": "code",
   "execution_count": 51,
   "metadata": {},
   "outputs": [],
   "source": [
    "from sklearn.linear_model import Lasso, LassoCV"
   ]
  },
  {
   "cell_type": "code",
   "execution_count": 52,
   "metadata": {},
   "outputs": [
    {
     "name": "stdout",
     "output_type": "stream",
     "text": [
      "Качество на тренировочной выборке: 6.5555549879348405\n",
      "Качество на тестовой выборке: 5.368379816413866\n"
     ]
    }
   ],
   "source": [
    "model = Lasso(random_state = 42)\n",
    "model.fit(X_train, y_train)\n",
    "\n",
    "y_pred_train = model.predict(X_train) # здесь будут предсказания на тренировочных данных\n",
    "y_pred_test = model.predict(X_test) # здесь будут предсказания на тестовых данных\n",
    "\n",
    "rmse_train = rmse_score(y_train, y_pred_train)\n",
    "rmse_test = rmse_score(y_test, y_pred_test)\n",
    "\n",
    "print('Качество на тренировочной выборке:', rmse_train)\n",
    "print('Качество на тестовой выборке:', rmse_test)"
   ]
  },
  {
   "cell_type": "code",
   "execution_count": 53,
   "metadata": {},
   "outputs": [
    {
     "name": "stdout",
     "output_type": "stream",
     "text": [
      "predict [190.7858184]\n"
     ]
    }
   ],
   "source": [
    "new = [[42.4, 97.3, 100.0, 101.9, 63.2, 42.2, 32.2, 17.7]]\n",
    "print('predict', model.predict(new))"
   ]
  },
  {
   "cell_type": "code",
   "execution_count": 54,
   "metadata": {},
   "outputs": [
    {
     "name": "stdout",
     "output_type": "stream",
     "text": [
      "Качество на тренировочной выборке: 6.4282881417288715\n",
      "Качество на тестовой выборке: 5.345176374860547\n"
     ]
    }
   ],
   "source": [
    "model = LassoCV(cv = 3)\n",
    "model.fit(X_train, y_train)\n",
    "\n",
    "y_pred_train = model.predict(X_train) # здесь будут предсказания на тренировочных данных\n",
    "y_pred_test = model.predict(X_test) # здесь будут предсказания на тестовых данных\n",
    "\n",
    "rmse_train = rmse_score(y_train, y_pred_train)\n",
    "rmse_test = rmse_score(y_test, y_pred_test)\n",
    "\n",
    "print('Качество на тренировочной выборке:', rmse_train)\n",
    "print('Качество на тестовой выборке:', rmse_test)"
   ]
  },
  {
   "cell_type": "code",
   "execution_count": 55,
   "metadata": {},
   "outputs": [
    {
     "name": "stdout",
     "output_type": "stream",
     "text": [
      "predict [190.04111965]\n"
     ]
    }
   ],
   "source": [
    "new = [[42.4, 97.3, 100.0, 101.9, 63.2, 42.2, 32.2, 17.7]]\n",
    "print('predict', model.predict(new))"
   ]
  }
 ],
 "metadata": {
  "kernelspec": {
   "display_name": "Python 3.10.6 ('venv': venv)",
   "language": "python",
   "name": "python3"
  },
  "language_info": {
   "codemirror_mode": {
    "name": "ipython",
    "version": 3
   },
   "file_extension": ".py",
   "mimetype": "text/x-python",
   "name": "python",
   "nbconvert_exporter": "python",
   "pygments_lexer": "ipython3",
   "version": "3.10.6"
  },
  "orig_nbformat": 4,
  "vscode": {
   "interpreter": {
    "hash": "f3445672a780992f57871d878c4de2b100971feb00980d3ff34dd99a961861db"
   }
  }
 },
 "nbformat": 4,
 "nbformat_minor": 2
}
