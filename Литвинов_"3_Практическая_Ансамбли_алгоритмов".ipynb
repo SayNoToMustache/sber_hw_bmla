{
  "nbformat": 4,
  "nbformat_minor": 0,
  "metadata": {
    "colab": {
      "provenance": [],
      "include_colab_link": true
    },
    "kernelspec": {
      "name": "python3",
      "display_name": "Python 3"
    },
    "language_info": {
      "name": "python"
    }
  },
  "cells": [
    {
      "cell_type": "markdown",
      "metadata": {
        "id": "view-in-github",
        "colab_type": "text"
      },
      "source": [
        "<a href=\"https://colab.research.google.com/github/SayNoToMustache/sber_hw_bmla/blob/main/%D0%9B%D0%B8%D1%82%D0%B2%D0%B8%D0%BD%D0%BE%D0%B2_%223_%D0%9F%D1%80%D0%B0%D0%BA%D1%82%D0%B8%D1%87%D0%B5%D1%81%D0%BA%D0%B0%D1%8F_%D0%90%D0%BD%D1%81%D0%B0%D0%BC%D0%B1%D0%BB%D0%B8_%D0%B0%D0%BB%D0%B3%D0%BE%D1%80%D0%B8%D1%82%D0%BC%D0%BE%D0%B2%22.ipynb\" target=\"_parent\"><img src=\"https://colab.research.google.com/assets/colab-badge.svg\" alt=\"Open In Colab\"/></a>"
      ]
    },
    {
      "cell_type": "markdown",
      "source": [
        "## О задании\n",
        "В этом задании вы будете прогнозировать отток клиентов банка с помощью ансамблевых методов. Работать будем с датасетом [Churn for Bank Customers](https://www.kaggle.com/datasets/mathchi/churn-for-bank-customers)\n",
        "(подробнее с описанием признаков можете ознакомиться по ссылке). Целевая переменная - `Exited` (1 - клиент покинул банк, 0 - клиент не покинул банк)\n",
        "\n",
        "### Формат сдачи\n",
        "Данное задание сдаётся через [эту гугл форму](https://forms.gle/jrdU8j2zH6KQ8BATA). Не забудьте открыть доступ по ссылке к файлу (справа сверху \"Поделиться\" или \"Share\")"
      ],
      "metadata": {
        "id": "C8sQZyXPyHOU"
      }
    },
    {
      "cell_type": "code",
      "execution_count": 190,
      "metadata": {
        "id": "y_b1yFU8x639"
      },
      "outputs": [],
      "source": [
        "import pandas as pd\n",
        "import numpy as np\n",
        "import matplotlib.pyplot as plt"
      ]
    },
    {
      "cell_type": "markdown",
      "source": [
        "Загрузим данные. \n",
        "\n",
        "Данные можно найти по [ссылке](https://drive.google.com/file/d/1rz00kErCbYlRh5Y0zdYENN8nlixAyLlh/view?usp=share_link)"
      ],
      "metadata": {
        "id": "Bbpe8nLbyymJ"
      }
    },
    {
      "cell_type": "code",
      "source": [
        "!gdown --id 1rz00kErCbYlRh5Y0zdYENN8nlixAyLlh"
      ],
      "metadata": {
        "colab": {
          "base_uri": "https://localhost:8080/"
        },
        "id": "2aUAe3KgTQqP",
        "outputId": "f9e3abb6-093b-496d-e614-48686eb9c8b1"
      },
      "execution_count": 191,
      "outputs": [
        {
          "output_type": "stream",
          "name": "stdout",
          "text": [
            "/usr/local/lib/python3.8/dist-packages/gdown/cli.py:127: FutureWarning: Option `--id` was deprecated in version 4.3.1 and will be removed in 5.0. You don't need to pass it anymore to use a file ID.\n",
            "  warnings.warn(\n",
            "Downloading...\n",
            "From: https://drive.google.com/uc?id=1rz00kErCbYlRh5Y0zdYENN8nlixAyLlh\n",
            "To: /content/churn.csv\n",
            "100% 685k/685k [00:00<00:00, 105MB/s]\n"
          ]
        }
      ]
    },
    {
      "cell_type": "code",
      "source": [
        "df = pd.read_csv('churn.csv')"
      ],
      "metadata": {
        "id": "bTz88JNByaw7"
      },
      "execution_count": 192,
      "outputs": []
    },
    {
      "cell_type": "code",
      "source": [
        "df.shape"
      ],
      "metadata": {
        "colab": {
          "base_uri": "https://localhost:8080/"
        },
        "id": "uz-rFZIJ0uCJ",
        "outputId": "c6adbcbc-e33e-4132-a34e-f5c3f41071e0"
      },
      "execution_count": 193,
      "outputs": [
        {
          "output_type": "execute_result",
          "data": {
            "text/plain": [
              "(10000, 14)"
            ]
          },
          "metadata": {},
          "execution_count": 193
        }
      ]
    },
    {
      "cell_type": "code",
      "source": [
        "df.head()"
      ],
      "metadata": {
        "colab": {
          "base_uri": "https://localhost:8080/",
          "height": 206
        },
        "id": "TOWBmX2HT7A3",
        "outputId": "4a8c3a42-d258-4185-e6bd-0d3528849965"
      },
      "execution_count": 194,
      "outputs": [
        {
          "output_type": "execute_result",
          "data": {
            "text/plain": [
              "   RowNumber  CustomerId   Surname  CreditScore Geography  Gender  Age  \\\n",
              "0          1    15634602  Hargrave          619    France  Female   42   \n",
              "1          2    15647311      Hill          608     Spain  Female   41   \n",
              "2          3    15619304      Onio          502    France  Female   42   \n",
              "3          4    15701354      Boni          699    France  Female   39   \n",
              "4          5    15737888  Mitchell          850     Spain  Female   43   \n",
              "\n",
              "   Tenure    Balance  NumOfProducts  HasCrCard  IsActiveMember  \\\n",
              "0       2       0.00              1          1               1   \n",
              "1       1   83807.86              1          0               1   \n",
              "2       8  159660.80              3          1               0   \n",
              "3       1       0.00              2          0               0   \n",
              "4       2  125510.82              1          1               1   \n",
              "\n",
              "   EstimatedSalary  Exited  \n",
              "0        101348.88       1  \n",
              "1        112542.58       0  \n",
              "2        113931.57       1  \n",
              "3         93826.63       0  \n",
              "4         79084.10       0  "
            ],
            "text/html": [
              "\n",
              "  <div id=\"df-b6cf0aa9-56da-489d-b8d8-2236c18d978a\">\n",
              "    <div class=\"colab-df-container\">\n",
              "      <div>\n",
              "<style scoped>\n",
              "    .dataframe tbody tr th:only-of-type {\n",
              "        vertical-align: middle;\n",
              "    }\n",
              "\n",
              "    .dataframe tbody tr th {\n",
              "        vertical-align: top;\n",
              "    }\n",
              "\n",
              "    .dataframe thead th {\n",
              "        text-align: right;\n",
              "    }\n",
              "</style>\n",
              "<table border=\"1\" class=\"dataframe\">\n",
              "  <thead>\n",
              "    <tr style=\"text-align: right;\">\n",
              "      <th></th>\n",
              "      <th>RowNumber</th>\n",
              "      <th>CustomerId</th>\n",
              "      <th>Surname</th>\n",
              "      <th>CreditScore</th>\n",
              "      <th>Geography</th>\n",
              "      <th>Gender</th>\n",
              "      <th>Age</th>\n",
              "      <th>Tenure</th>\n",
              "      <th>Balance</th>\n",
              "      <th>NumOfProducts</th>\n",
              "      <th>HasCrCard</th>\n",
              "      <th>IsActiveMember</th>\n",
              "      <th>EstimatedSalary</th>\n",
              "      <th>Exited</th>\n",
              "    </tr>\n",
              "  </thead>\n",
              "  <tbody>\n",
              "    <tr>\n",
              "      <th>0</th>\n",
              "      <td>1</td>\n",
              "      <td>15634602</td>\n",
              "      <td>Hargrave</td>\n",
              "      <td>619</td>\n",
              "      <td>France</td>\n",
              "      <td>Female</td>\n",
              "      <td>42</td>\n",
              "      <td>2</td>\n",
              "      <td>0.00</td>\n",
              "      <td>1</td>\n",
              "      <td>1</td>\n",
              "      <td>1</td>\n",
              "      <td>101348.88</td>\n",
              "      <td>1</td>\n",
              "    </tr>\n",
              "    <tr>\n",
              "      <th>1</th>\n",
              "      <td>2</td>\n",
              "      <td>15647311</td>\n",
              "      <td>Hill</td>\n",
              "      <td>608</td>\n",
              "      <td>Spain</td>\n",
              "      <td>Female</td>\n",
              "      <td>41</td>\n",
              "      <td>1</td>\n",
              "      <td>83807.86</td>\n",
              "      <td>1</td>\n",
              "      <td>0</td>\n",
              "      <td>1</td>\n",
              "      <td>112542.58</td>\n",
              "      <td>0</td>\n",
              "    </tr>\n",
              "    <tr>\n",
              "      <th>2</th>\n",
              "      <td>3</td>\n",
              "      <td>15619304</td>\n",
              "      <td>Onio</td>\n",
              "      <td>502</td>\n",
              "      <td>France</td>\n",
              "      <td>Female</td>\n",
              "      <td>42</td>\n",
              "      <td>8</td>\n",
              "      <td>159660.80</td>\n",
              "      <td>3</td>\n",
              "      <td>1</td>\n",
              "      <td>0</td>\n",
              "      <td>113931.57</td>\n",
              "      <td>1</td>\n",
              "    </tr>\n",
              "    <tr>\n",
              "      <th>3</th>\n",
              "      <td>4</td>\n",
              "      <td>15701354</td>\n",
              "      <td>Boni</td>\n",
              "      <td>699</td>\n",
              "      <td>France</td>\n",
              "      <td>Female</td>\n",
              "      <td>39</td>\n",
              "      <td>1</td>\n",
              "      <td>0.00</td>\n",
              "      <td>2</td>\n",
              "      <td>0</td>\n",
              "      <td>0</td>\n",
              "      <td>93826.63</td>\n",
              "      <td>0</td>\n",
              "    </tr>\n",
              "    <tr>\n",
              "      <th>4</th>\n",
              "      <td>5</td>\n",
              "      <td>15737888</td>\n",
              "      <td>Mitchell</td>\n",
              "      <td>850</td>\n",
              "      <td>Spain</td>\n",
              "      <td>Female</td>\n",
              "      <td>43</td>\n",
              "      <td>2</td>\n",
              "      <td>125510.82</td>\n",
              "      <td>1</td>\n",
              "      <td>1</td>\n",
              "      <td>1</td>\n",
              "      <td>79084.10</td>\n",
              "      <td>0</td>\n",
              "    </tr>\n",
              "  </tbody>\n",
              "</table>\n",
              "</div>\n",
              "      <button class=\"colab-df-convert\" onclick=\"convertToInteractive('df-b6cf0aa9-56da-489d-b8d8-2236c18d978a')\"\n",
              "              title=\"Convert this dataframe to an interactive table.\"\n",
              "              style=\"display:none;\">\n",
              "        \n",
              "  <svg xmlns=\"http://www.w3.org/2000/svg\" height=\"24px\"viewBox=\"0 0 24 24\"\n",
              "       width=\"24px\">\n",
              "    <path d=\"M0 0h24v24H0V0z\" fill=\"none\"/>\n",
              "    <path d=\"M18.56 5.44l.94 2.06.94-2.06 2.06-.94-2.06-.94-.94-2.06-.94 2.06-2.06.94zm-11 1L8.5 8.5l.94-2.06 2.06-.94-2.06-.94L8.5 2.5l-.94 2.06-2.06.94zm10 10l.94 2.06.94-2.06 2.06-.94-2.06-.94-.94-2.06-.94 2.06-2.06.94z\"/><path d=\"M17.41 7.96l-1.37-1.37c-.4-.4-.92-.59-1.43-.59-.52 0-1.04.2-1.43.59L10.3 9.45l-7.72 7.72c-.78.78-.78 2.05 0 2.83L4 21.41c.39.39.9.59 1.41.59.51 0 1.02-.2 1.41-.59l7.78-7.78 2.81-2.81c.8-.78.8-2.07 0-2.86zM5.41 20L4 18.59l7.72-7.72 1.47 1.35L5.41 20z\"/>\n",
              "  </svg>\n",
              "      </button>\n",
              "      \n",
              "  <style>\n",
              "    .colab-df-container {\n",
              "      display:flex;\n",
              "      flex-wrap:wrap;\n",
              "      gap: 12px;\n",
              "    }\n",
              "\n",
              "    .colab-df-convert {\n",
              "      background-color: #E8F0FE;\n",
              "      border: none;\n",
              "      border-radius: 50%;\n",
              "      cursor: pointer;\n",
              "      display: none;\n",
              "      fill: #1967D2;\n",
              "      height: 32px;\n",
              "      padding: 0 0 0 0;\n",
              "      width: 32px;\n",
              "    }\n",
              "\n",
              "    .colab-df-convert:hover {\n",
              "      background-color: #E2EBFA;\n",
              "      box-shadow: 0px 1px 2px rgba(60, 64, 67, 0.3), 0px 1px 3px 1px rgba(60, 64, 67, 0.15);\n",
              "      fill: #174EA6;\n",
              "    }\n",
              "\n",
              "    [theme=dark] .colab-df-convert {\n",
              "      background-color: #3B4455;\n",
              "      fill: #D2E3FC;\n",
              "    }\n",
              "\n",
              "    [theme=dark] .colab-df-convert:hover {\n",
              "      background-color: #434B5C;\n",
              "      box-shadow: 0px 1px 3px 1px rgba(0, 0, 0, 0.15);\n",
              "      filter: drop-shadow(0px 1px 2px rgba(0, 0, 0, 0.3));\n",
              "      fill: #FFFFFF;\n",
              "    }\n",
              "  </style>\n",
              "\n",
              "      <script>\n",
              "        const buttonEl =\n",
              "          document.querySelector('#df-b6cf0aa9-56da-489d-b8d8-2236c18d978a button.colab-df-convert');\n",
              "        buttonEl.style.display =\n",
              "          google.colab.kernel.accessAllowed ? 'block' : 'none';\n",
              "\n",
              "        async function convertToInteractive(key) {\n",
              "          const element = document.querySelector('#df-b6cf0aa9-56da-489d-b8d8-2236c18d978a');\n",
              "          const dataTable =\n",
              "            await google.colab.kernel.invokeFunction('convertToInteractive',\n",
              "                                                     [key], {});\n",
              "          if (!dataTable) return;\n",
              "\n",
              "          const docLinkHtml = 'Like what you see? Visit the ' +\n",
              "            '<a target=\"_blank\" href=https://colab.research.google.com/notebooks/data_table.ipynb>data table notebook</a>'\n",
              "            + ' to learn more about interactive tables.';\n",
              "          element.innerHTML = '';\n",
              "          dataTable['output_type'] = 'display_data';\n",
              "          await google.colab.output.renderOutput(dataTable, element);\n",
              "          const docLink = document.createElement('div');\n",
              "          docLink.innerHTML = docLinkHtml;\n",
              "          element.appendChild(docLink);\n",
              "        }\n",
              "      </script>\n",
              "    </div>\n",
              "  </div>\n",
              "  "
            ]
          },
          "metadata": {},
          "execution_count": 194
        }
      ]
    },
    {
      "cell_type": "markdown",
      "source": [
        "Выведите сводные характеристики данных, воспользовавшись методом `.describe()`."
      ],
      "metadata": {
        "id": "b9TujUHqUWg_"
      }
    },
    {
      "cell_type": "code",
      "source": [
        "df.describe()"
      ],
      "metadata": {
        "id": "apYM5eXMUgke",
        "colab": {
          "base_uri": "https://localhost:8080/",
          "height": 300
        },
        "outputId": "2f460bc6-d6e8-4ad0-8c5d-7e6706d9c840"
      },
      "execution_count": 195,
      "outputs": [
        {
          "output_type": "execute_result",
          "data": {
            "text/plain": [
              "         RowNumber    CustomerId   CreditScore           Age        Tenure  \\\n",
              "count  10000.00000  1.000000e+04  10000.000000  10000.000000  10000.000000   \n",
              "mean    5000.50000  1.569094e+07    650.528800     38.921800      5.012800   \n",
              "std     2886.89568  7.193619e+04     96.653299     10.487806      2.892174   \n",
              "min        1.00000  1.556570e+07    350.000000     18.000000      0.000000   \n",
              "25%     2500.75000  1.562853e+07    584.000000     32.000000      3.000000   \n",
              "50%     5000.50000  1.569074e+07    652.000000     37.000000      5.000000   \n",
              "75%     7500.25000  1.575323e+07    718.000000     44.000000      7.000000   \n",
              "max    10000.00000  1.581569e+07    850.000000     92.000000     10.000000   \n",
              "\n",
              "             Balance  NumOfProducts    HasCrCard  IsActiveMember  \\\n",
              "count   10000.000000   10000.000000  10000.00000    10000.000000   \n",
              "mean    76485.889288       1.530200      0.70550        0.515100   \n",
              "std     62397.405202       0.581654      0.45584        0.499797   \n",
              "min         0.000000       1.000000      0.00000        0.000000   \n",
              "25%         0.000000       1.000000      0.00000        0.000000   \n",
              "50%     97198.540000       1.000000      1.00000        1.000000   \n",
              "75%    127644.240000       2.000000      1.00000        1.000000   \n",
              "max    250898.090000       4.000000      1.00000        1.000000   \n",
              "\n",
              "       EstimatedSalary        Exited  \n",
              "count     10000.000000  10000.000000  \n",
              "mean     100090.239881      0.203700  \n",
              "std       57510.492818      0.402769  \n",
              "min          11.580000      0.000000  \n",
              "25%       51002.110000      0.000000  \n",
              "50%      100193.915000      0.000000  \n",
              "75%      149388.247500      0.000000  \n",
              "max      199992.480000      1.000000  "
            ],
            "text/html": [
              "\n",
              "  <div id=\"df-4fcdcb94-1d15-45c2-b5f5-23a26695013d\">\n",
              "    <div class=\"colab-df-container\">\n",
              "      <div>\n",
              "<style scoped>\n",
              "    .dataframe tbody tr th:only-of-type {\n",
              "        vertical-align: middle;\n",
              "    }\n",
              "\n",
              "    .dataframe tbody tr th {\n",
              "        vertical-align: top;\n",
              "    }\n",
              "\n",
              "    .dataframe thead th {\n",
              "        text-align: right;\n",
              "    }\n",
              "</style>\n",
              "<table border=\"1\" class=\"dataframe\">\n",
              "  <thead>\n",
              "    <tr style=\"text-align: right;\">\n",
              "      <th></th>\n",
              "      <th>RowNumber</th>\n",
              "      <th>CustomerId</th>\n",
              "      <th>CreditScore</th>\n",
              "      <th>Age</th>\n",
              "      <th>Tenure</th>\n",
              "      <th>Balance</th>\n",
              "      <th>NumOfProducts</th>\n",
              "      <th>HasCrCard</th>\n",
              "      <th>IsActiveMember</th>\n",
              "      <th>EstimatedSalary</th>\n",
              "      <th>Exited</th>\n",
              "    </tr>\n",
              "  </thead>\n",
              "  <tbody>\n",
              "    <tr>\n",
              "      <th>count</th>\n",
              "      <td>10000.00000</td>\n",
              "      <td>1.000000e+04</td>\n",
              "      <td>10000.000000</td>\n",
              "      <td>10000.000000</td>\n",
              "      <td>10000.000000</td>\n",
              "      <td>10000.000000</td>\n",
              "      <td>10000.000000</td>\n",
              "      <td>10000.00000</td>\n",
              "      <td>10000.000000</td>\n",
              "      <td>10000.000000</td>\n",
              "      <td>10000.000000</td>\n",
              "    </tr>\n",
              "    <tr>\n",
              "      <th>mean</th>\n",
              "      <td>5000.50000</td>\n",
              "      <td>1.569094e+07</td>\n",
              "      <td>650.528800</td>\n",
              "      <td>38.921800</td>\n",
              "      <td>5.012800</td>\n",
              "      <td>76485.889288</td>\n",
              "      <td>1.530200</td>\n",
              "      <td>0.70550</td>\n",
              "      <td>0.515100</td>\n",
              "      <td>100090.239881</td>\n",
              "      <td>0.203700</td>\n",
              "    </tr>\n",
              "    <tr>\n",
              "      <th>std</th>\n",
              "      <td>2886.89568</td>\n",
              "      <td>7.193619e+04</td>\n",
              "      <td>96.653299</td>\n",
              "      <td>10.487806</td>\n",
              "      <td>2.892174</td>\n",
              "      <td>62397.405202</td>\n",
              "      <td>0.581654</td>\n",
              "      <td>0.45584</td>\n",
              "      <td>0.499797</td>\n",
              "      <td>57510.492818</td>\n",
              "      <td>0.402769</td>\n",
              "    </tr>\n",
              "    <tr>\n",
              "      <th>min</th>\n",
              "      <td>1.00000</td>\n",
              "      <td>1.556570e+07</td>\n",
              "      <td>350.000000</td>\n",
              "      <td>18.000000</td>\n",
              "      <td>0.000000</td>\n",
              "      <td>0.000000</td>\n",
              "      <td>1.000000</td>\n",
              "      <td>0.00000</td>\n",
              "      <td>0.000000</td>\n",
              "      <td>11.580000</td>\n",
              "      <td>0.000000</td>\n",
              "    </tr>\n",
              "    <tr>\n",
              "      <th>25%</th>\n",
              "      <td>2500.75000</td>\n",
              "      <td>1.562853e+07</td>\n",
              "      <td>584.000000</td>\n",
              "      <td>32.000000</td>\n",
              "      <td>3.000000</td>\n",
              "      <td>0.000000</td>\n",
              "      <td>1.000000</td>\n",
              "      <td>0.00000</td>\n",
              "      <td>0.000000</td>\n",
              "      <td>51002.110000</td>\n",
              "      <td>0.000000</td>\n",
              "    </tr>\n",
              "    <tr>\n",
              "      <th>50%</th>\n",
              "      <td>5000.50000</td>\n",
              "      <td>1.569074e+07</td>\n",
              "      <td>652.000000</td>\n",
              "      <td>37.000000</td>\n",
              "      <td>5.000000</td>\n",
              "      <td>97198.540000</td>\n",
              "      <td>1.000000</td>\n",
              "      <td>1.00000</td>\n",
              "      <td>1.000000</td>\n",
              "      <td>100193.915000</td>\n",
              "      <td>0.000000</td>\n",
              "    </tr>\n",
              "    <tr>\n",
              "      <th>75%</th>\n",
              "      <td>7500.25000</td>\n",
              "      <td>1.575323e+07</td>\n",
              "      <td>718.000000</td>\n",
              "      <td>44.000000</td>\n",
              "      <td>7.000000</td>\n",
              "      <td>127644.240000</td>\n",
              "      <td>2.000000</td>\n",
              "      <td>1.00000</td>\n",
              "      <td>1.000000</td>\n",
              "      <td>149388.247500</td>\n",
              "      <td>0.000000</td>\n",
              "    </tr>\n",
              "    <tr>\n",
              "      <th>max</th>\n",
              "      <td>10000.00000</td>\n",
              "      <td>1.581569e+07</td>\n",
              "      <td>850.000000</td>\n",
              "      <td>92.000000</td>\n",
              "      <td>10.000000</td>\n",
              "      <td>250898.090000</td>\n",
              "      <td>4.000000</td>\n",
              "      <td>1.00000</td>\n",
              "      <td>1.000000</td>\n",
              "      <td>199992.480000</td>\n",
              "      <td>1.000000</td>\n",
              "    </tr>\n",
              "  </tbody>\n",
              "</table>\n",
              "</div>\n",
              "      <button class=\"colab-df-convert\" onclick=\"convertToInteractive('df-4fcdcb94-1d15-45c2-b5f5-23a26695013d')\"\n",
              "              title=\"Convert this dataframe to an interactive table.\"\n",
              "              style=\"display:none;\">\n",
              "        \n",
              "  <svg xmlns=\"http://www.w3.org/2000/svg\" height=\"24px\"viewBox=\"0 0 24 24\"\n",
              "       width=\"24px\">\n",
              "    <path d=\"M0 0h24v24H0V0z\" fill=\"none\"/>\n",
              "    <path d=\"M18.56 5.44l.94 2.06.94-2.06 2.06-.94-2.06-.94-.94-2.06-.94 2.06-2.06.94zm-11 1L8.5 8.5l.94-2.06 2.06-.94-2.06-.94L8.5 2.5l-.94 2.06-2.06.94zm10 10l.94 2.06.94-2.06 2.06-.94-2.06-.94-.94-2.06-.94 2.06-2.06.94z\"/><path d=\"M17.41 7.96l-1.37-1.37c-.4-.4-.92-.59-1.43-.59-.52 0-1.04.2-1.43.59L10.3 9.45l-7.72 7.72c-.78.78-.78 2.05 0 2.83L4 21.41c.39.39.9.59 1.41.59.51 0 1.02-.2 1.41-.59l7.78-7.78 2.81-2.81c.8-.78.8-2.07 0-2.86zM5.41 20L4 18.59l7.72-7.72 1.47 1.35L5.41 20z\"/>\n",
              "  </svg>\n",
              "      </button>\n",
              "      \n",
              "  <style>\n",
              "    .colab-df-container {\n",
              "      display:flex;\n",
              "      flex-wrap:wrap;\n",
              "      gap: 12px;\n",
              "    }\n",
              "\n",
              "    .colab-df-convert {\n",
              "      background-color: #E8F0FE;\n",
              "      border: none;\n",
              "      border-radius: 50%;\n",
              "      cursor: pointer;\n",
              "      display: none;\n",
              "      fill: #1967D2;\n",
              "      height: 32px;\n",
              "      padding: 0 0 0 0;\n",
              "      width: 32px;\n",
              "    }\n",
              "\n",
              "    .colab-df-convert:hover {\n",
              "      background-color: #E2EBFA;\n",
              "      box-shadow: 0px 1px 2px rgba(60, 64, 67, 0.3), 0px 1px 3px 1px rgba(60, 64, 67, 0.15);\n",
              "      fill: #174EA6;\n",
              "    }\n",
              "\n",
              "    [theme=dark] .colab-df-convert {\n",
              "      background-color: #3B4455;\n",
              "      fill: #D2E3FC;\n",
              "    }\n",
              "\n",
              "    [theme=dark] .colab-df-convert:hover {\n",
              "      background-color: #434B5C;\n",
              "      box-shadow: 0px 1px 3px 1px rgba(0, 0, 0, 0.15);\n",
              "      filter: drop-shadow(0px 1px 2px rgba(0, 0, 0, 0.3));\n",
              "      fill: #FFFFFF;\n",
              "    }\n",
              "  </style>\n",
              "\n",
              "      <script>\n",
              "        const buttonEl =\n",
              "          document.querySelector('#df-4fcdcb94-1d15-45c2-b5f5-23a26695013d button.colab-df-convert');\n",
              "        buttonEl.style.display =\n",
              "          google.colab.kernel.accessAllowed ? 'block' : 'none';\n",
              "\n",
              "        async function convertToInteractive(key) {\n",
              "          const element = document.querySelector('#df-4fcdcb94-1d15-45c2-b5f5-23a26695013d');\n",
              "          const dataTable =\n",
              "            await google.colab.kernel.invokeFunction('convertToInteractive',\n",
              "                                                     [key], {});\n",
              "          if (!dataTable) return;\n",
              "\n",
              "          const docLinkHtml = 'Like what you see? Visit the ' +\n",
              "            '<a target=\"_blank\" href=https://colab.research.google.com/notebooks/data_table.ipynb>data table notebook</a>'\n",
              "            + ' to learn more about interactive tables.';\n",
              "          element.innerHTML = '';\n",
              "          dataTable['output_type'] = 'display_data';\n",
              "          await google.colab.output.renderOutput(dataTable, element);\n",
              "          const docLink = document.createElement('div');\n",
              "          docLink.innerHTML = docLinkHtml;\n",
              "          element.appendChild(docLink);\n",
              "        }\n",
              "      </script>\n",
              "    </div>\n",
              "  </div>\n",
              "  "
            ]
          },
          "metadata": {},
          "execution_count": 195
        }
      ]
    },
    {
      "cell_type": "markdown",
      "source": [
        "**Вопрос.** Какая задача машинного обучения решается?\n",
        "\n",
        "<u>**Ответ**</u>: Обучение с учителем (классификация)"
      ],
      "metadata": {
        "id": "42vjMyOB1P35"
      }
    },
    {
      "cell_type": "markdown",
      "source": [
        "Посмотрите на соотношение классов в целевой переменной `Exited` (выведите, сколько элементов каждого класса или в каком они соотношении)"
      ],
      "metadata": {
        "id": "kVPV4VaCUB3c"
      }
    },
    {
      "cell_type": "code",
      "source": [
        "# print(\"Кол-во NaN =\", df.isna().sum())\n",
        "# No one nan\n",
        "df.groupby(\"Exited\").agg([\"mean\", \"count\"])"
      ],
      "metadata": {
        "colab": {
          "base_uri": "https://localhost:8080/",
          "height": 239
        },
        "id": "zSSXVj8cUFTn",
        "outputId": "6d8780c4-899b-4671-b6a7-de5dac61663c"
      },
      "execution_count": 196,
      "outputs": [
        {
          "output_type": "execute_result",
          "data": {
            "text/plain": [
              "          RowNumber          CustomerId       CreditScore              Age  \\\n",
              "               mean count          mean count        mean count       mean   \n",
              "Exited                                                                       \n",
              "0       5024.694964  7963  1.569117e+07  7963  651.853196  7963  37.408389   \n",
              "1       4905.917526  2037  1.569005e+07  2037  645.351497  2037  44.837997   \n",
              "\n",
              "                Tenure             Balance       NumOfProducts        \\\n",
              "       count      mean count          mean count          mean count   \n",
              "Exited                                                                 \n",
              "0       7963  5.033279  7963  72745.296779  7963      1.544267  7963   \n",
              "1       2037  4.932744  2037  91108.539337  2037      1.475209  2037   \n",
              "\n",
              "       HasCrCard       IsActiveMember       EstimatedSalary        \n",
              "            mean count           mean count            mean count  \n",
              "Exited                                                             \n",
              "0       0.707146  7963       0.554565  7963    99738.391772  7963  \n",
              "1       0.699067  2037       0.360825  2037   101465.677531  2037  "
            ],
            "text/html": [
              "\n",
              "  <div id=\"df-d7fa3d3c-3568-4b2d-8c47-6ddb1524b3a9\">\n",
              "    <div class=\"colab-df-container\">\n",
              "      <div>\n",
              "<style scoped>\n",
              "    .dataframe tbody tr th:only-of-type {\n",
              "        vertical-align: middle;\n",
              "    }\n",
              "\n",
              "    .dataframe tbody tr th {\n",
              "        vertical-align: top;\n",
              "    }\n",
              "\n",
              "    .dataframe thead tr th {\n",
              "        text-align: left;\n",
              "    }\n",
              "\n",
              "    .dataframe thead tr:last-of-type th {\n",
              "        text-align: right;\n",
              "    }\n",
              "</style>\n",
              "<table border=\"1\" class=\"dataframe\">\n",
              "  <thead>\n",
              "    <tr>\n",
              "      <th></th>\n",
              "      <th colspan=\"2\" halign=\"left\">RowNumber</th>\n",
              "      <th colspan=\"2\" halign=\"left\">CustomerId</th>\n",
              "      <th colspan=\"2\" halign=\"left\">CreditScore</th>\n",
              "      <th colspan=\"2\" halign=\"left\">Age</th>\n",
              "      <th colspan=\"2\" halign=\"left\">Tenure</th>\n",
              "      <th colspan=\"2\" halign=\"left\">Balance</th>\n",
              "      <th colspan=\"2\" halign=\"left\">NumOfProducts</th>\n",
              "      <th colspan=\"2\" halign=\"left\">HasCrCard</th>\n",
              "      <th colspan=\"2\" halign=\"left\">IsActiveMember</th>\n",
              "      <th colspan=\"2\" halign=\"left\">EstimatedSalary</th>\n",
              "    </tr>\n",
              "    <tr>\n",
              "      <th></th>\n",
              "      <th>mean</th>\n",
              "      <th>count</th>\n",
              "      <th>mean</th>\n",
              "      <th>count</th>\n",
              "      <th>mean</th>\n",
              "      <th>count</th>\n",
              "      <th>mean</th>\n",
              "      <th>count</th>\n",
              "      <th>mean</th>\n",
              "      <th>count</th>\n",
              "      <th>mean</th>\n",
              "      <th>count</th>\n",
              "      <th>mean</th>\n",
              "      <th>count</th>\n",
              "      <th>mean</th>\n",
              "      <th>count</th>\n",
              "      <th>mean</th>\n",
              "      <th>count</th>\n",
              "      <th>mean</th>\n",
              "      <th>count</th>\n",
              "    </tr>\n",
              "    <tr>\n",
              "      <th>Exited</th>\n",
              "      <th></th>\n",
              "      <th></th>\n",
              "      <th></th>\n",
              "      <th></th>\n",
              "      <th></th>\n",
              "      <th></th>\n",
              "      <th></th>\n",
              "      <th></th>\n",
              "      <th></th>\n",
              "      <th></th>\n",
              "      <th></th>\n",
              "      <th></th>\n",
              "      <th></th>\n",
              "      <th></th>\n",
              "      <th></th>\n",
              "      <th></th>\n",
              "      <th></th>\n",
              "      <th></th>\n",
              "      <th></th>\n",
              "      <th></th>\n",
              "    </tr>\n",
              "  </thead>\n",
              "  <tbody>\n",
              "    <tr>\n",
              "      <th>0</th>\n",
              "      <td>5024.694964</td>\n",
              "      <td>7963</td>\n",
              "      <td>1.569117e+07</td>\n",
              "      <td>7963</td>\n",
              "      <td>651.853196</td>\n",
              "      <td>7963</td>\n",
              "      <td>37.408389</td>\n",
              "      <td>7963</td>\n",
              "      <td>5.033279</td>\n",
              "      <td>7963</td>\n",
              "      <td>72745.296779</td>\n",
              "      <td>7963</td>\n",
              "      <td>1.544267</td>\n",
              "      <td>7963</td>\n",
              "      <td>0.707146</td>\n",
              "      <td>7963</td>\n",
              "      <td>0.554565</td>\n",
              "      <td>7963</td>\n",
              "      <td>99738.391772</td>\n",
              "      <td>7963</td>\n",
              "    </tr>\n",
              "    <tr>\n",
              "      <th>1</th>\n",
              "      <td>4905.917526</td>\n",
              "      <td>2037</td>\n",
              "      <td>1.569005e+07</td>\n",
              "      <td>2037</td>\n",
              "      <td>645.351497</td>\n",
              "      <td>2037</td>\n",
              "      <td>44.837997</td>\n",
              "      <td>2037</td>\n",
              "      <td>4.932744</td>\n",
              "      <td>2037</td>\n",
              "      <td>91108.539337</td>\n",
              "      <td>2037</td>\n",
              "      <td>1.475209</td>\n",
              "      <td>2037</td>\n",
              "      <td>0.699067</td>\n",
              "      <td>2037</td>\n",
              "      <td>0.360825</td>\n",
              "      <td>2037</td>\n",
              "      <td>101465.677531</td>\n",
              "      <td>2037</td>\n",
              "    </tr>\n",
              "  </tbody>\n",
              "</table>\n",
              "</div>\n",
              "      <button class=\"colab-df-convert\" onclick=\"convertToInteractive('df-d7fa3d3c-3568-4b2d-8c47-6ddb1524b3a9')\"\n",
              "              title=\"Convert this dataframe to an interactive table.\"\n",
              "              style=\"display:none;\">\n",
              "        \n",
              "  <svg xmlns=\"http://www.w3.org/2000/svg\" height=\"24px\"viewBox=\"0 0 24 24\"\n",
              "       width=\"24px\">\n",
              "    <path d=\"M0 0h24v24H0V0z\" fill=\"none\"/>\n",
              "    <path d=\"M18.56 5.44l.94 2.06.94-2.06 2.06-.94-2.06-.94-.94-2.06-.94 2.06-2.06.94zm-11 1L8.5 8.5l.94-2.06 2.06-.94-2.06-.94L8.5 2.5l-.94 2.06-2.06.94zm10 10l.94 2.06.94-2.06 2.06-.94-2.06-.94-.94-2.06-.94 2.06-2.06.94z\"/><path d=\"M17.41 7.96l-1.37-1.37c-.4-.4-.92-.59-1.43-.59-.52 0-1.04.2-1.43.59L10.3 9.45l-7.72 7.72c-.78.78-.78 2.05 0 2.83L4 21.41c.39.39.9.59 1.41.59.51 0 1.02-.2 1.41-.59l7.78-7.78 2.81-2.81c.8-.78.8-2.07 0-2.86zM5.41 20L4 18.59l7.72-7.72 1.47 1.35L5.41 20z\"/>\n",
              "  </svg>\n",
              "      </button>\n",
              "      \n",
              "  <style>\n",
              "    .colab-df-container {\n",
              "      display:flex;\n",
              "      flex-wrap:wrap;\n",
              "      gap: 12px;\n",
              "    }\n",
              "\n",
              "    .colab-df-convert {\n",
              "      background-color: #E8F0FE;\n",
              "      border: none;\n",
              "      border-radius: 50%;\n",
              "      cursor: pointer;\n",
              "      display: none;\n",
              "      fill: #1967D2;\n",
              "      height: 32px;\n",
              "      padding: 0 0 0 0;\n",
              "      width: 32px;\n",
              "    }\n",
              "\n",
              "    .colab-df-convert:hover {\n",
              "      background-color: #E2EBFA;\n",
              "      box-shadow: 0px 1px 2px rgba(60, 64, 67, 0.3), 0px 1px 3px 1px rgba(60, 64, 67, 0.15);\n",
              "      fill: #174EA6;\n",
              "    }\n",
              "\n",
              "    [theme=dark] .colab-df-convert {\n",
              "      background-color: #3B4455;\n",
              "      fill: #D2E3FC;\n",
              "    }\n",
              "\n",
              "    [theme=dark] .colab-df-convert:hover {\n",
              "      background-color: #434B5C;\n",
              "      box-shadow: 0px 1px 3px 1px rgba(0, 0, 0, 0.15);\n",
              "      filter: drop-shadow(0px 1px 2px rgba(0, 0, 0, 0.3));\n",
              "      fill: #FFFFFF;\n",
              "    }\n",
              "  </style>\n",
              "\n",
              "      <script>\n",
              "        const buttonEl =\n",
              "          document.querySelector('#df-d7fa3d3c-3568-4b2d-8c47-6ddb1524b3a9 button.colab-df-convert');\n",
              "        buttonEl.style.display =\n",
              "          google.colab.kernel.accessAllowed ? 'block' : 'none';\n",
              "\n",
              "        async function convertToInteractive(key) {\n",
              "          const element = document.querySelector('#df-d7fa3d3c-3568-4b2d-8c47-6ddb1524b3a9');\n",
              "          const dataTable =\n",
              "            await google.colab.kernel.invokeFunction('convertToInteractive',\n",
              "                                                     [key], {});\n",
              "          if (!dataTable) return;\n",
              "\n",
              "          const docLinkHtml = 'Like what you see? Visit the ' +\n",
              "            '<a target=\"_blank\" href=https://colab.research.google.com/notebooks/data_table.ipynb>data table notebook</a>'\n",
              "            + ' to learn more about interactive tables.';\n",
              "          element.innerHTML = '';\n",
              "          dataTable['output_type'] = 'display_data';\n",
              "          await google.colab.output.renderOutput(dataTable, element);\n",
              "          const docLink = document.createElement('div');\n",
              "          docLink.innerHTML = docLinkHtml;\n",
              "          element.appendChild(docLink);\n",
              "        }\n",
              "      </script>\n",
              "    </div>\n",
              "  </div>\n",
              "  "
            ]
          },
          "metadata": {},
          "execution_count": 196
        }
      ]
    },
    {
      "cell_type": "markdown",
      "source": [
        "**Вопрос.** Присутствует ли дисбаланс классов?\n",
        "\n",
        "<u>**Ответ**</u>: Да, и очень большой. 7963 к 2037"
      ],
      "metadata": {
        "id": "d-Isln22yxRy"
      }
    },
    {
      "cell_type": "markdown",
      "source": [
        "**Вопрос.** Если есть дисбаланс классов, то как с ним справляются? Приведите способы, как обходиться с ним\n",
        "\n",
        "<u>**Ответ**</u>: 1) вычеркивание из доминирующего класса рандомных строк до совпадения с доминируемого\n",
        "2) добавления в доминируемый класс строк, содержащий те же строки или средние и тд, до совпадения с доминирующем"
      ],
      "metadata": {
        "id": "TuK8prIoUvto"
      }
    },
    {
      "cell_type": "markdown",
      "source": [
        "**Вопрос.** Какая метрика важнее в данной задаче: precision или recall? Обоснуйте свой выбор\n",
        "\n",
        "<u>**Ответ**</u>: precision — это доля релевантных экземпляров среди извлеченных экземпляров, а recall — это доля релевантных экземпляров, которые были извлечены.\n",
        "\n",
        "Следовательно нам в принципе интересны обе метрики, тк каждая из них говорит о релевантности модели.\n",
        "\n",
        "Мне кажется что основной будет recall тк он сообщает нам какое кол-во людей может уйти, в то время как precision будет предсказывать нам людей, которые уйдут 1000%, нас же интересует отток. ТК найти нескольких точно уходящих людей практически ничего нам не скажет в условиях задачи, такая информация будет полезна если бы мы хотели выявить таких людей и применить к ним санкции или что-то еще, будучи уверенными что не навредим по ошибке хорошим для нас людям."
      ],
      "metadata": {
        "id": "PlffSHn-U0h0"
      }
    },
    {
      "cell_type": "markdown",
      "source": [
        "## Отбор признаков для модели"
      ],
      "metadata": {
        "id": "GlPeMAsEVeeg"
      }
    },
    {
      "cell_type": "markdown",
      "source": [
        "Переведите значения признака `Gender` в числа. В результате должен получиться столбец из 0 и 1"
      ],
      "metadata": {
        "id": "_wGV0hsgWYau"
      }
    },
    {
      "cell_type": "code",
      "source": [
        "df['Gender'] = df['Gender'].apply(lambda x: 1 if x == 'Male' else 0)"
      ],
      "metadata": {
        "id": "9oJho6PzWgHC"
      },
      "execution_count": 197,
      "outputs": []
    },
    {
      "cell_type": "markdown",
      "source": [
        "Отберите признаки, на которых вы будете обучать модели. Учтите, что будут обучаться ансамбли из решающих деревьев. Запишите в переменную `X` независимые признаки, а в переменную `y` - целевую переменную. Если необходимо, сделайте кодирование категориальные признаков в числовые."
      ],
      "metadata": {
        "id": "h7P166azVgjt"
      }
    },
    {
      "cell_type": "code",
      "source": [
        "from sklearn.preprocessing import LabelEncoder\n",
        "le = LabelEncoder()\n",
        "df['Geography_enc'] = le.fit_transform(df['Geography'])\n",
        "print(le.classes_)\n",
        "df['Geography_enc'].head()"
      ],
      "metadata": {
        "colab": {
          "base_uri": "https://localhost:8080/"
        },
        "id": "Hf3QbSMzz-ED",
        "outputId": "2a7d859d-6208-4607-bdd9-0388090ad326"
      },
      "execution_count": 198,
      "outputs": [
        {
          "output_type": "stream",
          "name": "stdout",
          "text": [
            "['France' 'Germany' 'Spain']\n"
          ]
        },
        {
          "output_type": "execute_result",
          "data": {
            "text/plain": [
              "0    0\n",
              "1    2\n",
              "2    0\n",
              "3    0\n",
              "4    2\n",
              "Name: Geography_enc, dtype: int64"
            ]
          },
          "metadata": {},
          "execution_count": 198
        }
      ]
    },
    {
      "cell_type": "code",
      "source": [
        "df['EstimatedSalary'].head(10)"
      ],
      "metadata": {
        "colab": {
          "base_uri": "https://localhost:8080/"
        },
        "id": "-RgL945J1o1d",
        "outputId": "2ddb12e3-2bc5-4611-970c-34f17b30974b"
      },
      "execution_count": 199,
      "outputs": [
        {
          "output_type": "execute_result",
          "data": {
            "text/plain": [
              "0    101348.88\n",
              "1    112542.58\n",
              "2    113931.57\n",
              "3     93826.63\n",
              "4     79084.10\n",
              "5    149756.71\n",
              "6     10062.80\n",
              "7    119346.88\n",
              "8     74940.50\n",
              "9     71725.73\n",
              "Name: EstimatedSalary, dtype: float64"
            ]
          },
          "metadata": {},
          "execution_count": 199
        }
      ]
    },
    {
      "cell_type": "code",
      "source": [
        "### ЗДЕСЬ ВАШ КОД ¯\\_(ツ)_/¯ \n",
        "feats = ['Age', 'Gender', 'CreditScore', 'Geography_enc', 'Tenure', 'Balance',\n",
        "         'NumOfProducts', 'HasCrCard', 'IsActiveMember', 'EstimatedSalary'] # сюда добавьте признаки, на основе которых будет строится прогноз\n",
        "\n",
        "X = df[feats]\n",
        "y = df['Exited']"
      ],
      "metadata": {
        "id": "hKC0nR6iVv8r"
      },
      "execution_count": 200,
      "outputs": []
    },
    {
      "cell_type": "markdown",
      "source": [
        "## Разбиение данных"
      ],
      "metadata": {
        "id": "YZ0um0ABzRLR"
      }
    },
    {
      "cell_type": "markdown",
      "source": [
        "Разбейте данные на тренировочные и тестовые\n",
        "\n",
        "*Не забудьте при разбиении сохранить соотношение классов в тренировочной и тестовой выброках"
      ],
      "metadata": {
        "id": "adMKBOII3Cak"
      }
    },
    {
      "cell_type": "code",
      "source": [
        "from sklearn.model_selection import train_test_split"
      ],
      "metadata": {
        "id": "0pHyv8pNiTpN"
      },
      "execution_count": 201,
      "outputs": []
    },
    {
      "cell_type": "code",
      "source": [
        "### ЗДЕСЬ ВАШ КОД ¯\\_(ツ)_/¯ \n",
        "\n",
        "X_train, X_test, y_train, y_test = train_test_split(X, y, test_size=0.20, random_state=42, stratify=y)"
      ],
      "metadata": {
        "id": "_lDrHyAyy8iP"
      },
      "execution_count": 202,
      "outputs": []
    },
    {
      "cell_type": "markdown",
      "source": [
        "## Моделирование"
      ],
      "metadata": {
        "id": "4EWRCfQ3zS-7"
      }
    },
    {
      "cell_type": "markdown",
      "source": [
        "Мы будем обучать ансамблевые методы. Среди них: случайный лес и градиентный бустинг"
      ],
      "metadata": {
        "id": "CvQWYAXmzUuj"
      }
    },
    {
      "cell_type": "markdown",
      "source": [
        "**Вопрос.** Чем отличается алгоритм случайного леса и градиентный бустинг?\n",
        "\n",
        "<u>**Ответ**</u>: При бустинге однородные модели последовательно обучаются, исправляя ошибки друг друга\n",
        "\n",
        "В то время как случайный лес усредняет показания обученых на разных наборах данных"
      ],
      "metadata": {
        "id": "yoH3EVG1XaE8"
      }
    },
    {
      "cell_type": "markdown",
      "source": [
        "### Обучение случайного леса"
      ],
      "metadata": {
        "id": "PE9y8h1PXgkS"
      }
    },
    {
      "cell_type": "code",
      "source": [
        "from sklearn.ensemble import RandomForestClassifier, ExtraTreesClassifier\n",
        "from sklearn.metrics import accuracy_score"
      ],
      "metadata": {
        "id": "wCuSXxjfXMMM"
      },
      "execution_count": 203,
      "outputs": []
    },
    {
      "cell_type": "markdown",
      "source": [
        "Обучите модель случайного леса на `X_train`, `y_train`"
      ],
      "metadata": {
        "id": "NVh-kCxmXp3G"
      }
    },
    {
      "cell_type": "code",
      "source": [
        "### ЗДЕСЬ ВАШ КОД ¯\\_(ツ)_/¯ \n",
        "\n",
        "clf = ExtraTreesClassifier()\n",
        "clf.fit(X_train, y_train)\n"
      ],
      "metadata": {
        "id": "HcDdCFyBXnMf",
        "colab": {
          "base_uri": "https://localhost:8080/"
        },
        "outputId": "25018229-7db0-4e50-88a3-86dc989d5130"
      },
      "execution_count": 204,
      "outputs": [
        {
          "output_type": "execute_result",
          "data": {
            "text/plain": [
              "ExtraTreesClassifier()"
            ]
          },
          "metadata": {},
          "execution_count": 204
        }
      ]
    },
    {
      "cell_type": "markdown",
      "source": [
        "#### Оценка модели случайного леса"
      ],
      "metadata": {
        "id": "cX3M06Z6Xzux"
      }
    },
    {
      "cell_type": "markdown",
      "source": [
        "Сделайте предсказание обученной модели на `X_test` и оцените precision, recall и f1_score, имея реальные метки `y_test`"
      ],
      "metadata": {
        "id": "blAmJbq9X2me"
      }
    },
    {
      "cell_type": "code",
      "source": [
        "from sklearn.metrics import precision_score, recall_score, f1_score"
      ],
      "metadata": {
        "id": "TOxKvPMWYlHL"
      },
      "execution_count": 205,
      "outputs": []
    },
    {
      "cell_type": "markdown",
      "source": [
        "**Ниже даны значения для RandomForestClassifier**"
      ],
      "metadata": {
        "id": "vM0nJqzwMUM4"
      }
    },
    {
      "cell_type": "markdown",
      "source": [
        "default\n",
        "\n",
        "precision = 0.7857142857142857\n",
        "\n",
        "recall = 0.4594594594594595\n",
        "\n",
        "f1 = 0.57984496124031"
      ],
      "metadata": {
        "id": "ivuTYEOx_ZSI"
      }
    },
    {
      "cell_type": "markdown",
      "source": [
        "n_estimators = 50\n",
        "\n",
        "precision = 0.773109243697479\n",
        "\n",
        "recall = 0.4520884520884521\n",
        "\n",
        "f1 = 0.5705426356589147"
      ],
      "metadata": {
        "id": "tuF_rSKC_r9P"
      }
    },
    {
      "cell_type": "markdown",
      "source": [
        "n_estimators = 150 \n",
        "\n",
        "precision = 0.7777777777777778\n",
        "\n",
        "recall = 0.44717444717444715\n",
        "\n",
        "f1 = 0.5678627145085804"
      ],
      "metadata": {
        "id": "cPMfVpsU_9Ij"
      }
    },
    {
      "cell_type": "markdown",
      "source": [],
      "metadata": {
        "id": "9tLPRWBR_yGc"
      }
    },
    {
      "cell_type": "code",
      "source": [
        "### ЗДЕСЬ ВАШ КОД ¯\\_(ツ)_/¯ \n",
        "\n",
        "y_pred = clf.predict(X_test) # предсказания на X_test\n",
        "precision = precision_score(y_test, y_pred=y_pred) # значение метрики precision\n",
        "recall = recall_score(y_test, y_pred=y_pred) # значение метрики recall\n",
        "f1 = f1_score(y_test, y_pred=y_pred) # значение метрики f1\n",
        "print('precision =', precision)\n",
        "print('recall =', recall)\n",
        "print('f1 =', f1)\n",
        "\n",
        "from sklearn.metrics import classification_report\n",
        "\n",
        "report = classification_report(y_test, clf.predict(X_test))\n",
        "print(report)"
      ],
      "metadata": {
        "id": "XQiWkfiKzUMi",
        "colab": {
          "base_uri": "https://localhost:8080/"
        },
        "outputId": "8b196f60-bdcd-475f-9b28-6e089a1e748b"
      },
      "execution_count": 206,
      "outputs": [
        {
          "output_type": "stream",
          "name": "stdout",
          "text": [
            "precision = 0.7606837606837606\n",
            "recall = 0.43734643734643736\n",
            "f1 = 0.5553822152886115\n",
            "              precision    recall  f1-score   support\n",
            "\n",
            "           0       0.87      0.96      0.92      1593\n",
            "           1       0.76      0.44      0.56       407\n",
            "\n",
            "    accuracy                           0.86      2000\n",
            "   macro avg       0.82      0.70      0.74      2000\n",
            "weighted avg       0.85      0.86      0.84      2000\n",
            "\n"
          ]
        }
      ]
    },
    {
      "cell_type": "markdown",
      "source": [
        "**(*) Дополнительно.** Попробуйте варьировать различные гиперпараметры случайного леса (как минимум, число деревьев), а также попробуйте заменить `RandomForestClassifier` на `ExtraTreesClassifier`. Повлияло ли это на метрики? Опишите результаты\n",
        "\n",
        "<u>**Ответ**</u>: Конечно повлияло, так например 50 деревьев вроде как мало(нужно проверять), 150 вроде как мало. По идее ExtraTreesClassifier должен быть точнее так как основывается на Рандомных деревьях, однако наобум подобрать параметры не вышло."
      ],
      "metadata": {
        "id": "Ihp9ztLD4UnP"
      }
    },
    {
      "cell_type": "markdown",
      "source": [
        "### Обучение градиентного бустинга"
      ],
      "metadata": {
        "id": "0x7wHfFVYzar"
      }
    },
    {
      "cell_type": "markdown",
      "source": [
        "Обучите модель градиентного бустинга на тех же данных"
      ],
      "metadata": {
        "id": "ks4EysPyY3qK"
      }
    },
    {
      "cell_type": "code",
      "source": [
        "from sklearn.ensemble import GradientBoostingClassifier"
      ],
      "metadata": {
        "id": "VzonYoCpZFu3"
      },
      "execution_count": 207,
      "outputs": []
    },
    {
      "cell_type": "code",
      "source": [
        "### ЗДЕСЬ ВАШ КОД ¯\\_(ツ)_/¯ \n",
        "\n",
        "clf = GradientBoostingClassifier(n_estimators = 150, learning_rate=0.1)\n",
        "clf.fit(X_train, y_train)"
      ],
      "metadata": {
        "id": "YyJ5WED7ZLey",
        "colab": {
          "base_uri": "https://localhost:8080/"
        },
        "outputId": "5da36ae9-e1c3-447c-e616-788d484f6121"
      },
      "execution_count": 208,
      "outputs": [
        {
          "output_type": "execute_result",
          "data": {
            "text/plain": [
              "GradientBoostingClassifier(n_estimators=150)"
            ]
          },
          "metadata": {},
          "execution_count": 208
        }
      ]
    },
    {
      "cell_type": "markdown",
      "source": [
        "Замерьте те же метрики, что и при случайном лесе"
      ],
      "metadata": {
        "id": "SHJhM2T3ZQpO"
      }
    },
    {
      "cell_type": "markdown",
      "source": [
        "(learning_rate=0.5, n_estimators=150)\n",
        "\n",
        "precision = 0.7025089605734767\n",
        "\n",
        "recall = 0.48157248157248156\n",
        "\n",
        "f1 = 0.5714285714285714"
      ],
      "metadata": {
        "id": "avILnkAuFdWb"
      }
    },
    {
      "cell_type": "markdown",
      "source": [
        "default\n",
        "\n",
        "precision = 0.7795918367346939\n",
        "\n",
        "recall = 0.4692874692874693\n",
        "\n",
        "f1 = 0.5858895705521473"
      ],
      "metadata": {
        "id": "lMYtDpfNFh7i"
      }
    },
    {
      "cell_type": "code",
      "source": [
        "y_pred = clf.predict(X_test) # предсказания на X_test\n",
        "precision = precision_score(y_test, y_pred=y_pred) # значение метрики precision\n",
        "recall0 = recall_score(y_test, y_pred=y_pred, pos_label=0) # значение метрики recall\n",
        "recall1 = recall_score(y_test, y_pred=y_pred, pos_label=1) # значение метрики recall\n",
        "f1 = f1_score(y_test, y_pred=y_pred) # значение метрики f1\n",
        "print('precision =', precision)\n",
        "print('recall0 =', recall0)\n",
        "print('recall1 =', recall1)\n",
        "print('f1 =', f1)"
      ],
      "metadata": {
        "id": "rZBZYySYZM4x",
        "colab": {
          "base_uri": "https://localhost:8080/"
        },
        "outputId": "a8f3b4e9-47ad-4e5b-fd43-18eebb5d45b6"
      },
      "execution_count": 209,
      "outputs": [
        {
          "output_type": "stream",
          "name": "stdout",
          "text": [
            "precision = 0.796\n",
            "recall0 = 0.967984934086629\n",
            "recall1 = 0.48894348894348894\n",
            "f1 = 0.6057838660578387\n"
          ]
        }
      ]
    },
    {
      "cell_type": "markdown",
      "source": [
        "**(*) Дополнительно.** Попробуйте варьировать различные гиперпараметры градиентного бустинга (как минимум, число деревьев и скорость обучения) Есть ли прирост в качестве? Опишите результаты\n",
        "\n",
        "<u>**Ответ**</u>: При увеличении кол-ва деревьев полнота увеличивается в то время как percision падает"
      ],
      "metadata": {
        "id": "W6x6kaKiZrkj"
      }
    },
    {
      "cell_type": "markdown",
      "source": [
        "**Вопрос.** Сравните полученные результаты. Какая модель оказалась лучше по метрике f1?\n",
        "\n",
        "<u>**Ответ**</u>: Лучшей стала GradientBoostingClassifier(n_estimators=150)"
      ],
      "metadata": {
        "id": "2YBQVtYwZYpn"
      }
    },
    {
      "cell_type": "markdown",
      "source": [
        "### Перебор гиперпараметров"
      ],
      "metadata": {
        "id": "80KCcx5YZ_cG"
      }
    },
    {
      "cell_type": "markdown",
      "source": [
        "Выберите модель, у которой вы будете подбирать гиперпараметры"
      ],
      "metadata": {
        "id": "FhiRl67vaDj8"
      }
    },
    {
      "cell_type": "markdown",
      "source": [
        "### Я выбрал(-а) <u>**ExtraTreesClassifier**</u>"
      ],
      "metadata": {
        "id": "IBv_mw1VaZ24"
      }
    },
    {
      "cell_type": "markdown",
      "source": [
        "Перейдите на страницу выбранного алгоритма для нахождения гиперпараметров, которые можно перебирать: [RandomForestClassifier](https://scikit-learn.org/stable/modules/generated/sklearn.ensemble.RandomForestClassifier.html)/[ExtraTreesClassifier](https://scikit-learn.org/stable/modules/generated/sklearn.ensemble.ExtraTreesClassifier.html), [GradientBoostingClassifier](https://scikit-learn.org/stable/modules/generated/sklearn.ensemble.GradientBoostingClassifier.html)"
      ],
      "metadata": {
        "id": "2YHa3n3HahgL"
      }
    },
    {
      "cell_type": "markdown",
      "source": [
        "Для подбора гиперпараметров будем использовать [RandomizedSearchCV](https://scikit-learn.org/stable/modules/generated/sklearn.model_selection.RandomizedSearchCV.html), который вместо всех комбинаций гиперпараметров перебирает заданное число случайных комбинаций "
      ],
      "metadata": {
        "id": "ShV_6cJScvcw"
      }
    },
    {
      "cell_type": "code",
      "source": [
        "from sklearn.model_selection import RandomizedSearchCV, StratifiedKFold"
      ],
      "metadata": {
        "id": "g0s9ZUWdaDA3"
      },
      "execution_count": 210,
      "outputs": []
    },
    {
      "cell_type": "markdown",
      "source": [
        "Инициализируйте `RandomizedSearchCV`. Основные моменты:\n",
        "* Укажите число случайных комбинаций гиперпараметров `n_iter`\n",
        "* Необходимо добавить в `params` гиперпараметры, которые будут перебираться, а также множество значений их гиперпараметров\n",
        "* В `RandomizedSearchCV` передайте:\n",
        "    * экземпляр выбранной модели для классификации\n",
        "    * `n_iter`\n",
        "    * стратегию разбиение данных на кросс-валидацию `cv`\n",
        "    * скоринговую функцию `scoring` (строка 'precision' или 'recall', в зависимости от важности для нас той или иной метрики)"
      ],
      "metadata": {
        "id": "d-M97TlaciO5"
      }
    },
    {
      "cell_type": "code",
      "source": [
        "### ЗДЕСЬ ВАШ КОД ¯\\_(ツ)_/¯ \n",
        "\n",
        "clf_1 = ExtraTreesClassifier() # инициализируйте выбранную модель (случайного леса или градиентного бустинга)\n",
        "\n",
        "n_iter = 100 # число случайных комбинаций гиперпараметров\n",
        "\n",
        "params = {\n",
        "    'n_estimators': [i for i in range(50, 125)],\n",
        "    'bootstrap' : [True, False],\n",
        "    # 'criterion' : [\"gini\", \"entropy\"],\n",
        "    # 'min_samples_split' : [1, 2, 3, 4, 5],\n",
        "    # 'min_samples_split' : [0.1, 0.2, 0.3, 0.4, 0.5, 0.7, 0.9],\n",
        "    'max_features' : [\"sqrt\", \"log2\"],\n",
        "    # 'min_impurity_decrease' : [0.0, 0.1, 0.2, 0.3],\n",
        "    # 'class_weight' : [\"balanced\", \"balanced_subsample\"],\n",
        "}\n",
        "\n",
        "skf = StratifiedKFold(5, shuffle=True, random_state=42)\n",
        "\n",
        "grid = RandomizedSearchCV(\n",
        "    clf_1,\n",
        "    param_distributions=params,\n",
        "    n_iter=n_iter,\n",
        "    cv=skf,\n",
        "    scoring='recall', # 'precision' или 'recall'\n",
        "    # verbose=3\n",
        ")"
      ],
      "metadata": {
        "id": "qFo-8h-mbaiB"
      },
      "execution_count": 211,
      "outputs": []
    },
    {
      "cell_type": "markdown",
      "source": [
        "Запустите обучение. Не забывайте, что обучаемся на тренировочной выборке"
      ],
      "metadata": {
        "id": "P-oTUNF8fGI7"
      }
    },
    {
      "cell_type": "code",
      "source": [
        "### ЗДЕСЬ ВАШ КОД ¯\\_(ツ)_/¯ \n",
        "\n",
        "grid.fit(X_train, y_train)"
      ],
      "metadata": {
        "id": "jXcwThMtfJ8u",
        "colab": {
          "base_uri": "https://localhost:8080/"
        },
        "outputId": "a5ab7660-332e-438f-c4da-9db4718fcea9"
      },
      "execution_count": 212,
      "outputs": [
        {
          "output_type": "execute_result",
          "data": {
            "text/plain": [
              "RandomizedSearchCV(cv=StratifiedKFold(n_splits=5, random_state=42, shuffle=True),\n",
              "                   estimator=ExtraTreesClassifier(), n_iter=100,\n",
              "                   param_distributions={'bootstrap': [True, False],\n",
              "                                        'max_features': ['sqrt', 'log2'],\n",
              "                                        'n_estimators': [50, 51, 52, 53, 54, 55,\n",
              "                                                         56, 57, 58, 59, 60, 61,\n",
              "                                                         62, 63, 64, 65, 66, 67,\n",
              "                                                         68, 69, 70, 71, 72, 73,\n",
              "                                                         74, 75, 76, 77, 78, 79, ...]},\n",
              "                   scoring='recall')"
            ]
          },
          "metadata": {},
          "execution_count": 212
        }
      ]
    },
    {
      "cell_type": "markdown",
      "source": [
        "Выведите лучшие найденные гиперпараметры, обратившись к `grid`. Воспользуйтесь атрибутами `best_score_` и `best_params_`"
      ],
      "metadata": {
        "id": "SDtrzNyWfrIN"
      }
    },
    {
      "cell_type": "code",
      "source": [
        "### ЗДЕСЬ ВАШ КОД ¯\\_(ツ)_/¯ \n",
        "\n",
        "print('Лучший n_estimators = {}'.format(grid.best_estimator_.get_params()['n_estimators']))\n",
        "print('Лучший criterion = {}'.format(grid.best_estimator_.get_params()['criterion']))\n",
        "print('Лучший class_weight = {}'.format(grid.best_estimator_.get_params()['class_weight']))\n",
        "print('Лучший max_features = {}'.format(grid.best_estimator_.get_params()['max_features']))\n",
        "print('Лучший min_impurity_decrease = {}'.format(grid.best_estimator_.get_params()['min_impurity_decrease']))\n",
        "print('Лучший min_samples_split = {}'.format(grid.best_estimator_.get_params()['min_samples_split']))\n",
        "print('Лучший bootstrap = {}'.format(grid.best_estimator_.get_params()['bootstrap']))\n",
        "grid.best_score_"
      ],
      "metadata": {
        "id": "D6OqBRNuf7xi",
        "colab": {
          "base_uri": "https://localhost:8080/"
        },
        "outputId": "7cefdc86-333a-46fe-fae8-c93781473b12"
      },
      "execution_count": 213,
      "outputs": [
        {
          "output_type": "stream",
          "name": "stdout",
          "text": [
            "Лучший n_estimators = 59\n",
            "Лучший criterion = gini\n",
            "Лучший class_weight = None\n",
            "Лучший max_features = sqrt\n",
            "Лучший min_impurity_decrease = 0.0\n",
            "Лучший min_samples_split = 2\n",
            "Лучший bootstrap = False\n"
          ]
        },
        {
          "output_type": "execute_result",
          "data": {
            "text/plain": [
              "0.4503067484662576"
            ]
          },
          "metadata": {},
          "execution_count": 213
        }
      ]
    },
    {
      "cell_type": "markdown",
      "source": [
        "Сделайте предсказание на тестовой выборке и замерьте метрики"
      ],
      "metadata": {
        "id": "Ru_d4n0sgWkA"
      }
    },
    {
      "cell_type": "code",
      "source": [
        "### ЗДЕСЬ ВАШ КОД ¯\\_(ツ)_/¯ \n",
        "\n",
        "y_pred = grid.predict(X_test)\n",
        "\n",
        "precision = precision_score(y_test, y_pred=y_pred) # значение метрики precision\n",
        "recall = recall_score(y_test, y_pred=y_pred) # значение метрики recall\n",
        "f1 = f1_score(y_test, y_pred=y_pred) # значение метрики f1\n",
        "print('precision =', precision)\n",
        "print('recall =', recall)\n",
        "print('f1 =', f1)"
      ],
      "metadata": {
        "id": "2qCUlgyvgY-J",
        "colab": {
          "base_uri": "https://localhost:8080/"
        },
        "outputId": "f75750ec-fd47-4a03-a18e-99ae66b5175d"
      },
      "execution_count": 214,
      "outputs": [
        {
          "output_type": "stream",
          "name": "stdout",
          "text": [
            "precision = 0.7459016393442623\n",
            "recall = 0.44717444717444715\n",
            "f1 = 0.5591397849462365\n"
          ]
        }
      ]
    },
    {
      "cell_type": "code",
      "source": [
        "from sklearn.metrics import classification_report\n",
        "from sklearn.metrics import confusion_matrix\n",
        "\n",
        "report = classification_report(y_test, grid.predict(X_test))\n",
        "cm = confusion_matrix(y_test, grid.predict(X_test))\n",
        "print(report)\n",
        "print(cm)"
      ],
      "metadata": {
        "colab": {
          "base_uri": "https://localhost:8080/"
        },
        "id": "5Ej1LgcIOxuN",
        "outputId": "10496ea1-c701-40fd-e133-62d09bf0c210"
      },
      "execution_count": 215,
      "outputs": [
        {
          "output_type": "stream",
          "name": "stdout",
          "text": [
            "              precision    recall  f1-score   support\n",
            "\n",
            "           0       0.87      0.96      0.91      1593\n",
            "           1       0.75      0.45      0.56       407\n",
            "\n",
            "    accuracy                           0.86      2000\n",
            "   macro avg       0.81      0.70      0.74      2000\n",
            "weighted avg       0.85      0.86      0.84      2000\n",
            "\n",
            "[[1531   62]\n",
            " [ 225  182]]\n"
          ]
        }
      ]
    },
    {
      "cell_type": "markdown",
      "source": [],
      "metadata": {
        "id": "FNf5rs2ve3iW"
      }
    },
    {
      "cell_type": "markdown",
      "source": [
        "**Вопрос.** Улучшилось ли качество модели после подбора гиперпараметров?\n",
        "\n",
        "<u>**Ответ**</u>: Да, улучшилось"
      ],
      "metadata": {
        "id": "PIJD_OwPghFq"
      }
    },
    {
      "cell_type": "markdown",
      "source": [
        "Если нет значимых изменений в качестве, то имеет смысл:\n",
        "* Увеличить число случайных комбинаций `n_iter` (придётся подождать больше времени)\n",
        "* Добавить другие гиперпараметры\n",
        "* Расширить множество перебираемых значений гиперпараметров\n",
        "* Запустить заново `grid.fit` для перебора других случайных комбинаций"
      ],
      "metadata": {
        "id": "7dqu6IbvgoXN"
      }
    },
    {
      "cell_type": "markdown",
      "source": [
        "### (*) Дополнительно"
      ],
      "metadata": {
        "id": "ZvX1qOBthrBc"
      }
    },
    {
      "cell_type": "code",
      "source": [
        "import xgboost as xgb\n",
        "xgb_model = xgb.XGBClassifier()\n",
        "xgb_model.fit(X_train, y_train)"
      ],
      "metadata": {
        "colab": {
          "base_uri": "https://localhost:8080/"
        },
        "id": "Hp4MIwgFDs-a",
        "outputId": "53be48e9-b5eb-4c59-a1d4-07f1a10925c1"
      },
      "execution_count": 216,
      "outputs": [
        {
          "output_type": "execute_result",
          "data": {
            "text/plain": [
              "XGBClassifier()"
            ]
          },
          "metadata": {},
          "execution_count": 216
        }
      ]
    },
    {
      "cell_type": "code",
      "source": [
        "y_pred = xgb_model.predict(X_test)\n",
        "report = classification_report(y_test, y_pred)\n",
        "cm = confusion_matrix(y_test, y_pred)\n",
        "print(report)\n",
        "print(cm)"
      ],
      "metadata": {
        "colab": {
          "base_uri": "https://localhost:8080/"
        },
        "id": "_JrsiQG1Ei2y",
        "outputId": "8710513b-3748-4c52-9be3-34d5211975e7"
      },
      "execution_count": 217,
      "outputs": [
        {
          "output_type": "stream",
          "name": "stdout",
          "text": [
            "              precision    recall  f1-score   support\n",
            "\n",
            "           0       0.88      0.97      0.92      1593\n",
            "           1       0.81      0.46      0.59       407\n",
            "\n",
            "    accuracy                           0.87      2000\n",
            "   macro avg       0.84      0.72      0.75      2000\n",
            "weighted avg       0.86      0.87      0.85      2000\n",
            "\n",
            "[[1548   45]\n",
            " [ 219  188]]\n"
          ]
        }
      ]
    },
    {
      "cell_type": "code",
      "source": [
        "xgb_model = xgb.XGBClassifier()\n",
        "\n",
        "n_iter = 100 # число случайных комбинаций гиперпараметров\n",
        "\n",
        "params = {\n",
        "    # 'eta': [i/100 for i in range(1, 101)],\n",
        "    'eta': [i/1000 for i in range(1, 100)],\n",
        "    'n_estimators' : [1, 5, 15, 35, 50, 75, 100, 115, 130]\n",
        "    # 'bootstrap' : [True, False],\n",
        "    # 'criterion' : [\"gini\", \"entropy\"],\n",
        "    # 'min_samples_split' : [5],\n",
        "    # 'min_samples_split' : [0.1, 0.2, 0.3, 0.4, 0.5, 0.7, 0.9],\n",
        "    # 'max_features' : [\"sqrt\", \"log2\"],\n",
        "    # 'min_impurity_decrease' : [0.0, 0.1, 0.2, 0.3],\n",
        "    # 'class_weight' : [\"balanced\", \"balanced_subsample\"],\n",
        "}\n",
        "\n",
        "skf = StratifiedKFold(5, shuffle=True, random_state=42)\n",
        "\n",
        "grid = RandomizedSearchCV(\n",
        "    xgb_model,\n",
        "    param_distributions=params,\n",
        "    n_iter=n_iter,\n",
        "    cv=skf,\n",
        "    scoring='recall', # 'precision' или 'recall'\n",
        "    # verbose=3\n",
        ")"
      ],
      "metadata": {
        "id": "afBHQehRFFlH"
      },
      "execution_count": 218,
      "outputs": []
    },
    {
      "cell_type": "code",
      "source": [
        "grid.fit(X_train, y_train)"
      ],
      "metadata": {
        "colab": {
          "base_uri": "https://localhost:8080/"
        },
        "id": "vvbocv-JHZfG",
        "outputId": "a868eb7a-1408-4846-f9df-93449381111d"
      },
      "execution_count": 219,
      "outputs": [
        {
          "output_type": "execute_result",
          "data": {
            "text/plain": [
              "RandomizedSearchCV(cv=StratifiedKFold(n_splits=5, random_state=42, shuffle=True),\n",
              "                   estimator=XGBClassifier(), n_iter=100,\n",
              "                   param_distributions={'eta': [0.001, 0.002, 0.003, 0.004,\n",
              "                                                0.005, 0.006, 0.007, 0.008,\n",
              "                                                0.009, 0.01, 0.011, 0.012,\n",
              "                                                0.013, 0.014, 0.015, 0.016,\n",
              "                                                0.017, 0.018, 0.019, 0.02,\n",
              "                                                0.021, 0.022, 0.023, 0.024,\n",
              "                                                0.025, 0.026, 0.027, 0.028,\n",
              "                                                0.029, 0.03, ...],\n",
              "                                        'n_estimators': [1, 5, 15, 35, 50, 75,\n",
              "                                                         100, 115, 130]},\n",
              "                   scoring='recall')"
            ]
          },
          "metadata": {},
          "execution_count": 219
        }
      ]
    },
    {
      "cell_type": "code",
      "source": [
        "print(grid.best_estimator_.get_params()['eta'])\n",
        "print(grid.best_estimator_.get_params()['n_estimators'])"
      ],
      "metadata": {
        "colab": {
          "base_uri": "https://localhost:8080/"
        },
        "id": "TxFDqpe-HgFj",
        "outputId": "88f60df7-794b-447c-c7b6-d1f3317e63f1"
      },
      "execution_count": 220,
      "outputs": [
        {
          "output_type": "stream",
          "name": "stdout",
          "text": [
            "0.02\n",
            "130\n"
          ]
        }
      ]
    },
    {
      "cell_type": "code",
      "source": [
        "y_pred = grid.predict(X_test)\n",
        "report = classification_report(y_test, y_pred)\n",
        "cm = confusion_matrix(y_test, y_pred)\n",
        "print(report)\n",
        "print(cm)"
      ],
      "metadata": {
        "colab": {
          "base_uri": "https://localhost:8080/"
        },
        "id": "bhCS_xmqIbTW",
        "outputId": "a2a7e2bf-7501-43e4-c773-8c25eeb5f2d3"
      },
      "execution_count": 221,
      "outputs": [
        {
          "output_type": "stream",
          "name": "stdout",
          "text": [
            "              precision    recall  f1-score   support\n",
            "\n",
            "           0       0.88      0.97      0.92      1593\n",
            "           1       0.80      0.48      0.60       407\n",
            "\n",
            "    accuracy                           0.87      2000\n",
            "   macro avg       0.84      0.72      0.76      2000\n",
            "weighted avg       0.86      0.87      0.86      2000\n",
            "\n",
            "[[1543   50]\n",
            " [ 213  194]]\n"
          ]
        }
      ]
    },
    {
      "cell_type": "markdown",
      "source": [
        "**(*) Дополнительно.** Возьмите алгоритм `XGBClassifier` из библиотеки `xgboost` и обучите его на данной задаче, подберите гиперпараметры и замерьте метрики. Сравните алгоритм по скорости и полученному качеству\n",
        "\n",
        "<u>**Ответ**</u>: По качеству одинаково с Boost из sklearn, и по скорости одинаково"
      ],
      "metadata": {
        "id": "IA2ehprkegHO"
      }
    },
    {
      "cell_type": "markdown",
      "source": [
        "**(*) Дополнительно.** Возьмите алгоритм `CatBoostClassifier` из библиотеки `catboost` и обучите его на данной задаче, можете добавить параметр для отображения графиков во время обучения, подберите гиперпараметры и замерьте метрики. Сравните алгоритм по скорости и полученному качеству\n",
        "\n",
        "<u>**Ответ**</u>: _ _ _ _ _ _ _ _ _ _ _ _"
      ],
      "metadata": {
        "id": "z2NE_4MOe10_"
      }
    },
    {
      "cell_type": "markdown",
      "source": [
        "**(*) Дополнительно.** Возьмите алгоритм стекинга [`StackingClassifier`](https://scikit-learn.org/stable/modules/generated/sklearn.ensemble.StackingClassifier.html), обучите его и замерьте качество. В качестве базовых алгоритмов можете брать KNeighborsClassifier, RandomForestClassifier, LogisticRegression, BernoulliNB,.. В качестве мета алгоритма возьмите GradientBoostingClassifier или XGBClassifier. \n",
        "\n",
        "Получилось ли обучить его? Какие проблемы возникли? Какое качество в итоге получено?\n",
        "\n",
        "<u>**Ответ**</u>: _ _ _ _ _ _ _ _ _ _ _ _"
      ],
      "metadata": {
        "id": "0-iByUiNikMg"
      }
    },
    {
      "cell_type": "markdown",
      "source": [
        "## Выводы"
      ],
      "metadata": {
        "id": "uCOKtaYg3T1T"
      }
    },
    {
      "cell_type": "markdown",
      "source": [
        "**Вопрос.** Напишите выводы о проделанной работе. Должны содержаться ответы на следующие вопросы:\n",
        "* Какая модель показала лучшее качество?\n",
        "* Получилось ли добиться лучшего качества после подбора гиперпараметров?\n",
        "\n",
        "<u>**Ответ**</u>: С подбором гипер параметров получилось добиться recall = 0.4471, что все же меньше чем GradientBoostingClassifier давший результат recall = 0.48894, Добиться лучшего результата можно, подбирая гиперпараметры еще точнее. Хотя у меня подобрать не получилось.  \n",
        "\n",
        "Без подбора гиперпараметров в ExtraTreesClassifier recall = 0.4373, те точность повысить получилось"
      ],
      "metadata": {
        "id": "R4HJdfCF3YON"
      }
    }
  ]
}